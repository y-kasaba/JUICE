{
 "cells": [
  {
   "cell_type": "markdown",
   "id": "5ad0cc98",
   "metadata": {},
   "source": [
    "# JUICE RPWI HF SID2 (RAW): L1a High-res QL -- 2023/12/11"
   ]
  },
  {
   "attachments": {},
   "cell_type": "markdown",
   "id": "a116756d",
   "metadata": {},
   "source": [
    "# Import lib"
   ]
  },
  {
   "cell_type": "code",
   "execution_count": null,
   "id": "bca50671",
   "metadata": {},
   "outputs": [],
   "source": [
    "import sys\n",
    "import numpy as np\n",
    "import matplotlib.pyplot as plt"
   ]
  },
  {
   "cell_type": "markdown",
   "id": "1f5e8c0c",
   "metadata": {},
   "source": [
    "# CDF and Directory setting: set by User"
   ]
  },
  {
   "cell_type": "code",
   "execution_count": null,
   "id": "6c181f65",
   "metadata": {},
   "outputs": [],
   "source": [
    "# The latest CDF library https://spdf.gsfc.nasa.gov/pub/software/cdf/dist/latest/\n",
    "from spacepy import pycdf\n",
    "\n",
    "import os\n",
    "os.environ[\"CDF_LIB\"] = \"/Applications/cdf/cdf39_0-dist/lib\"\n",
    "\n",
    "# *** Library ***\n",
    "sys.path.append('./lib/')\n",
    "import juice_cdf_lib as juice_cdf\n",
    "import juice_sid2_lib as juice_sid2"
   ]
  },
  {
   "attachments": {},
   "cell_type": "markdown",
   "id": "578b15bb",
   "metadata": {},
   "source": [
    "# Setting and Read CDF file: set by User"
   ]
  },
  {
   "cell_type": "code",
   "execution_count": null,
   "id": "05e8da84",
   "metadata": {},
   "outputs": [],
   "source": [
    "# *** Mode set ***\n",
    "cal_mode = 0                            # 0: raw      1: dBm＠ADC  2: V@HF   3:V2@HF   4:V2@RWI\n",
    "dump_mode = 1                           # 0: no-dump  1:plot dump\n",
    "\n",
    "# *** Parameter set ***\n",
    "cal = 0                                 # 0: background     1: CAL\n",
    "p_raw_max = 7.0                         # background: 7.5   CAL: 10\n",
    "p_raw_min = 0.0                         # background: 2.5   CAL: 5\n",
    "\n",
    "# *** Conversion factor: cal_mode ***\n",
    "cf, p_max0, p_min0 = juice_cdf.cal_factors(0, cal_mode, cal, p_raw_max, p_raw_min)\n",
    "print(\"conversion factor:\", cf, \"    MAX-min:\", p_max0, p_min0)"
   ]
  },
  {
   "cell_type": "code",
   "execution_count": null,
   "id": "0d556f41",
   "metadata": {},
   "outputs": [],
   "source": [
    "# *** Directory set: set by User ***\n",
    "work_dir = '/Users/user/0-python/JUICE_python/ql/'                         # Plot dump folder\n",
    "\n",
    "# *** Ver.2 ***\n",
    "# 202310 -- SAMPLE\n",
    "data_dir = '/Users/user/0-python/JUICE_data/test-CCSDS/sample/cdf/'        # CDF data folder\n",
    "data_name = 'SID02-high_20231019-1749.cdf'\n",
    "data_name = 'SID02-high_20231020-1218.cdf'\n",
    "data_name = 'SID02-high_20231020-1222.cdf'\n",
    "\n",
    "# 202312 -- TEST\n",
    "data_dir = '/Users/user/0-python/JUICE_data/test-TMIDX/202312_FS/cdf/'    # 202312_FS test folder\n",
    "data_name_list = [#'SID2_20000101T004732-20000101T004929_0.cdf',\n",
    "                  #'SID2_20000101T004934-20000101T005147_1.cdf',\n",
    "                  #'SID2_20000101T005151-20000101T005357_2.cdf',\n",
    "                  #'SID2_20000101T005401-20000101T005538_3.cdf',\n",
    "                  'SID2_20000101T005543-20000101T005624_4.cdf',\n",
    "                 ]"
   ]
  },
  {
   "attachments": {},
   "cell_type": "markdown",
   "id": "093823c4",
   "metadata": {},
   "source": [
    "# get CDF data"
   ]
  },
  {
   "cell_type": "code",
   "execution_count": null,
   "id": "a816949b",
   "metadata": {},
   "outputs": [],
   "source": [
    "class struct:\n",
    "    pass\n",
    "\n",
    "data = struct()\n",
    "num_list = len(data_name_list)\n",
    "\n",
    "for i in range(num_list):\n",
    "    data_name = data_name_list[i]\n",
    "    cdf_file = data_dir + data_name\n",
    "    print(i, cdf_file)\n",
    "\n",
    "    cdf = pycdf.CDF(cdf_file)\n",
    "    data1 = juice_sid2.hf_sid2_read(cdf, cf)\n",
    "\n",
    "    if i==0:\n",
    "        # print(data1.Eu_i)\n",
    "        data = data1\n",
    "    else:\n",
    "        # print(data1.Eu_i)\n",
    "        data = juice_sid2.hf_sid2_add(data, data1)\n",
    "        print(data.Eu_i.shape)"
   ]
  },
  {
   "cell_type": "code",
   "execution_count": null,
   "id": "5353f848",
   "metadata": {},
   "outputs": [],
   "source": [
    "\"\"\"\n",
    "cdf_file = data_dir + data_name\n",
    "%ls $cdf_file\n",
    "\n",
    "cdf = pycdf.CDF(cdf_file)\n",
    "data = juice_sid2.juice_getdata_hf_sid2(cdf, cf)\n",
    "\"\"\"\n",
    "\n",
    "date1 = data.epoch[0]\n",
    "date1 = date1.strftime('%Y/%m/%d %R:%S')\n",
    "date2 = data.epoch[-1]\n",
    "date2 = date2.strftime('%Y/%m/%d %R:%S')\n",
    "str_date = date1 + \"  -  \" + date2\n",
    "print(str_date)\n",
    "\n",
    "print(data.Eu_i.shape)\n",
    "n_time0 = data.Eu_i.shape[0]\n",
    "n_freq0 = data.Eu_i.shape[1]\n",
    "# n_samp0 = data.Eu_i.shape[2]\n",
    "f_min0 = data.frequency[0][0] # [0]\n",
    "f_max0 = (max(np.ravel(data.frequency)))"
   ]
  },
  {
   "cell_type": "code",
   "execution_count": null,
   "id": "96f894ad",
   "metadata": {},
   "outputs": [],
   "source": [
    "# Mode \n",
    "N_ch0 = data.U_selected[0] + data.V_selected[0] + data.W_selected[0]\n",
    "print(\"Ch:\", N_ch0, \"  (U:\", data.U_selected[0], \"  V:\", data.V_selected[0], \"  W:\", data.W_selected[0], \")\")\n",
    "print(\"Num-samples:\", n_time0, \"   Num-Frequency\", n_freq0) # , \"   Length:\", n_samp0)\n",
    "print(\"Frequency, width, step (kHz):\", f_min0,  \"-\", f_max0, data.freq_width[0][0], data.freq_step[0][0])\n",
    "#print(\"Frequency, width, step (kHz):\", f_min0,  \"-\", f_max0, data.freq_width[0][0][0], data.freq_step[0][0][0])\n",
    "print(\"Time-length:\", data.time[0][0], \"sec in 1-sweep\")\n",
    "# print(\"Time-length:\", data.time[0][0][n_samp0-1], \"sec in 1-sweep\")"
   ]
  },
  {
   "attachments": {},
   "cell_type": "markdown",
   "id": "c661f058",
   "metadata": {},
   "source": [
    "# Raw data"
   ]
  },
  {
   "cell_type": "code",
   "execution_count": null,
   "metadata": {},
   "outputs": [],
   "source": [
    "fig = plt.figure(figsize=(12, 10))\n",
    "ax1 = fig.add_subplot(5, 1, 1);  ax2 = fig.add_subplot(5, 1, 2);  ax3 = fig.add_subplot(5, 1, 3)\n",
    "ax4 = fig.add_subplot(5, 1, 4);  ax5 = fig.add_subplot(5, 1, 5)\n",
    "\n",
    "ax1.plot(np.ravel(data.Eu_i[:][:]), '-r', linewidth=.5, label='Eu_i'); ax1.plot(np.ravel(data.Eu_q[:][:]), ':g', linewidth=.5, label='Eu_q')\n",
    "ax2.plot(np.ravel(data.Ev_i[:][:]), '-r', linewidth=.5, label='Ev_i'); ax2.plot(np.ravel(data.Ev_q[:][:]), ':g', linewidth=.5, label='Ev_q')\n",
    "ax3.plot(np.ravel(data.Ew_i[:][:]), '-r', linewidth=.5, label='Ew_i'); ax3.plot(np.ravel(data.Ew_q[:][:]), ':g', linewidth=.5, label='Ew_q')\n",
    "ax4.plot(np.ravel(data.frequency),  '-b', linewidth=.5, label='Frequency');\n",
    "ax4.plot(np.ravel(data.freq_step*10),  '-g', linewidth=0.8, label='step*10')\n",
    "ax4.plot(np.ravel(data.freq_width*10), ':b', linewidth=1.0, label='width*10')\n",
    "ax4.plot(np.ravel(data.sweep_start)*data.frequency[0][-1], '-r', linewidth=.5, label='Sweep Start');\n",
    "#ax4.plot(np.ravel(data.sweep_start)*data.frequency[0][-1][0], '-r', linewidth=.5, label='Sweep Start');\n",
    "ax5.plot(np.ravel(data.epoch[:]), '.')\n",
    "ax1.set_ylabel('Eu');  ax2.set_ylabel('Ev');  ax3.set_ylabel('Ew');  ax4.set_ylabel('Frequency [kHz]');  ax5.set_xlabel(str_date)\n",
    "#\n",
    "title_label = '[JUICE/RPWI HF RAW (SID-2)]  ' + data_name;  ax1.set_title(title_label)\n",
    "ax1.legend(loc='upper right', fontsize=8);  ax2.legend(loc='upper right', fontsize=8);  ax3.legend(loc='upper right', fontsize=8)\n",
    "ax4.legend(loc='upper right', fontsize=8)\n",
    "\n",
    "# range: X-axis\n",
    "\"\"\"\n",
    "xlim=[0, len(np.ravel(data.Eu_i[:][:]))];  print(xlim)\n",
    "ax1.set_xlim(xlim);  ax2.set_xlim(xlim);  ax3.set_xlim(xlim);  ax4.set_xlim(xlim)\n",
    "\"\"\"\n",
    "# range: Y-axis\n",
    "ylim=[-10**(p_max0-4.5), 10**(p_max0-4.5)]\n",
    "ax1.set_ylim(ylim);  ax2.set_ylim(ylim);  ax3.set_ylim(ylim)\n",
    "ylim=[f_min0, f_max0]; ax4.set_ylim(ylim)\n",
    "\n",
    "# Plot\n",
    "fig.show\n",
    "if dump_mode == 1:\n",
    "    png_fname = work_dir+data_name+'_raw.png'\n",
    "    fig.savefig(png_fname)"
   ]
  }
 ],
 "metadata": {
  "kernelspec": {
   "display_name": "Python 3 (ipykernel)",
   "language": "python",
   "name": "python3"
  },
  "language_info": {
   "codemirror_mode": {
    "name": "ipython",
    "version": 3
   },
   "file_extension": ".py",
   "mimetype": "text/x-python",
   "name": "python",
   "nbconvert_exporter": "python",
   "pygments_lexer": "ipython3",
   "version": "3.10.13"
  }
 },
 "nbformat": 4,
 "nbformat_minor": 5
}
