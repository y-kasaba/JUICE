{
 "cells": [
  {
   "cell_type": "markdown",
   "id": "5ad0cc98",
   "metadata": {},
   "source": [
    "# JUICE RPWI HF SID22 (PSSR2 rich): L1a QL -- 2024/9/1"
   ]
  },
  {
   "attachments": {},
   "cell_type": "markdown",
   "id": "a116756d",
   "metadata": {},
   "source": [
    "# Import lib"
   ]
  },
  {
   "cell_type": "code",
   "execution_count": null,
   "id": "bca50671",
   "metadata": {},
   "outputs": [],
   "source": [
    "import sys\n",
    "import numpy as np\n",
    "import matplotlib.pyplot as plt\n",
    "import matplotlib.colors as colors"
   ]
  },
  {
   "cell_type": "markdown",
   "id": "1f5e8c0c",
   "metadata": {},
   "source": [
    "# CDF and Directory setting: set by User"
   ]
  },
  {
   "cell_type": "code",
   "execution_count": null,
   "id": "6c181f65",
   "metadata": {},
   "outputs": [],
   "source": [
    "# The latest CDF library https://spdf.gsfc.nasa.gov/pub/software/cdf/dist/latest/\n",
    "from spacepy import pycdf\n",
    "\n",
    "import os\n",
    "os.environ[\"CDF_LIB\"] = \"/Applications/cdf/cdf39_1-dist/lib\"\n",
    "\n",
    "# *** Library ***\n",
    "sys.path.append('./lib/')\n",
    "import juice_cdf_lib as juice_cdf\n",
    "import juice_math_lib as juice_math\n",
    "import juice_sid22_lib as juice_sid22"
   ]
  },
  {
   "attachments": {},
   "cell_type": "markdown",
   "id": "578b15bb",
   "metadata": {},
   "source": [
    "# Setting and Read CDF file: set by User"
   ]
  },
  {
   "cell_type": "code",
   "execution_count": null,
   "id": "05e8da84",
   "metadata": {},
   "outputs": [],
   "source": [
    "# *** Mode set ***\n",
    "band_mode = 0                           # 0: sum    1: /Hz\n",
    "unit_mode = 0                            # 0: raw    1: dBm＠ADC  2: V@HF   3:V2@HF   4:V2@RWI\n",
    "f_mode = 0                              # 0: linear   1:log  in frequency\n",
    "dump_mode = 1                           # 0: no-dump  1:plot dump\n",
    "\n",
    "# *** Parameter set ***\n",
    "cal = 0                                 # 0: background     1: CAL\n",
    "p_raw_max = 8.5                         # background: 7.5   CAL: 10\n",
    "p_raw_min = 1.0                         # background: 2.5   CAL: 5\n",
    "\n",
    "# *** Conversion factor: cal_mode ***\n",
    "# cf, p_max0, p_min0, str_unit = juice_cdf.cal_factors(unit_mode, p_raw_max, p_raw_min)\n",
    "# print(\"conversion factor:\", cf, \"    MAX-min:\", p_max0, p_min0, \"   str_unit:\", str_unit)\n",
    "\n",
    "# *** Directory set: set by User ***\n",
    "work_dir = '/Users/user/0-python/JUICE_python/ql/'                         # Plot dump folder"
   ]
  },
  {
   "cell_type": "code",
   "execution_count": null,
   "id": "0d556f41",
   "metadata": {},
   "outputs": [],
   "source": [
    "# *** Ground data: Ver.2 ***\n",
    "# 202310 -- SAMPLE\n",
    "data_dir = '/Users/user/0-python/JUICE_data/test-CCSDS/sample/cdf/'        # CDF data folderdata_name = 'SID21_20231024-0046.cdf'\n",
    "data_name_list = ['SID22_20231024-0049.cdf',\n",
    "                 ]\n",
    "# 202310 -- FS\n",
    "data_dir = '/Users/user/0-python/JUICE_data/test-TMIDX/202311_FS/cdf/'    # CDF data folder\n",
    "data_name_list = ['SID22_Seq06.cdf',\n",
    "                 ]\n"
   ]
  },
  {
   "cell_type": "code",
   "execution_count": null,
   "id": "6212d31f",
   "metadata": {},
   "outputs": [],
   "source": [
    "# *** Flight data: Ver.2 ***\n",
    "# 20240126\n",
    "data_dir = '/Users/user/0-python/JUICE_data/Data-CDF/2024/01/26/'        # CDF data folder\n",
    "data_name_list = ['JUICE_L1a_RPWI-HF-SID22_20240126T091728_V01.cdf',\n",
    "                 ]\n",
    "\"\"\"\n",
    "\"\"\""
   ]
  },
  {
   "cell_type": "code",
   "execution_count": null,
   "id": "d298803a",
   "metadata": {},
   "outputs": [],
   "source": [
    "# *** Group read\n",
    "\"\"\"\n",
    "data_dir = '/Users/user/0-python/JUICE_data/Data-CDF/2023/05/23/'        # CDF data folder\n",
    "data_name = '*SID4*.cdf'\n",
    "cdf_file = data_dir + data_name\n",
    "data_name_list = glob.glob(cdf_file)\n",
    "num_list = len(data_name_list)\n",
    "data_name_list.sort()\n",
    "for i in range(num_list):\n",
    "    data_name_list[i] = os.path.split(data_name_list[i])[1]\n",
    "\"\"\""
   ]
  },
  {
   "attachments": {},
   "cell_type": "markdown",
   "id": "093823c4",
   "metadata": {},
   "source": [
    "# get CDF data"
   ]
  },
  {
   "cell_type": "code",
   "execution_count": null,
   "id": "6269a115",
   "metadata": {},
   "outputs": [],
   "source": [
    "class struct:\n",
    "    pass\n",
    "\n",
    "data = struct()\n",
    "num_list = len(data_name_list)\n",
    "\n",
    "for i in range(num_list):\n",
    "    data_name = data_name_list[i]\n",
    "    cdf_file = data_dir + data_name\n",
    "    print(i, cdf_file)\n",
    "\n",
    "    cdf = pycdf.CDF(cdf_file)\n",
    "    data1 = juice_sid22.hf_sid22_read(cdf)\n",
    "\n",
    "    if i==0:\n",
    "        data = data1\n",
    "        print(data.auto_corr.shape)\n",
    "    else:\n",
    "        data = juice_sid22.hf_sid22_add(data, data1)\n",
    "        print(data.auto_corr.shape)    \n",
    "\n",
    "data_name = os.path.split(data_name)[1];  print(\"data name:\", data_name)"
   ]
  },
  {
   "cell_type": "code",
   "execution_count": null,
   "id": "5353f848",
   "metadata": {},
   "outputs": [],
   "source": [
    "\"\"\"\n",
    "cdf_file = data_dir + data_name\n",
    "%ls $cdf_file\n",
    "\n",
    "cdf = pycdf.CDF(cdf_file)\n",
    "data = juice_sid22.juice_getdata_hf_sid22(cdf)\n",
    "\"\"\"\n",
    "data = juice_sid22.hf_sid22_shaping(data)\n",
    "\n",
    "date1 = data.epoch[0];  date1 = date1.strftime('%Y/%m/%d %R:%S')\n",
    "date2 = data.epoch[-1]; date2 = date2.strftime('%Y/%m/%d %R:%S')\n",
    "str_date = date1 + \"  -  \" + date2;  print(str_date)\n",
    "\n",
    "n_time = data.auto_corr.shape[0]\n",
    "n_time0 = n_time-1\n",
    "print(\"data size:\", data.auto_corr.shape)"
   ]
  },
  {
   "cell_type": "code",
   "execution_count": null,
   "id": "96f894ad",
   "metadata": {},
   "outputs": [],
   "source": [
    "# Mode \n",
    "print(\"==> Ch:\", data.ch_selected[0], \"  Num-sweep:\", n_time, \"   Num-AutoCorr: 16    each Length:\", data.N_samp_AUX[0] )"
   ]
  },
  {
   "attachments": {},
   "cell_type": "markdown",
   "id": "c661f058",
   "metadata": {},
   "source": [
    "# Raw data"
   ]
  },
  {
   "cell_type": "code",
   "execution_count": null,
   "id": "2ef60e31",
   "metadata": {},
   "outputs": [],
   "source": [
    "fig = plt.figure(figsize=(14, 11))\n",
    "ax1 = fig.add_subplot(3, 1, 1);  ax2 = fig.add_subplot(3, 1, 2);  ax3 = fig.add_subplot(3, 1, 3)\n",
    "\n",
    "ax1.plot(np.ravel(data.auto_corr[:][:]),   linewidth=.5, label='auto_corr')\n",
    "ax2.plot(np.ravel(data.freq_auto_corr[:]), linewidth=.5, label='frequency')\n",
    "ax3.plot(np.ravel(data.epoch[:]), '.')\n",
    "ax1.set_ylabel('AutoCorr')\n",
    "ax2.set_ylabel('Frequency [kHz]')\n",
    "ax3.set_ylabel('Date-Time')\n",
    "ax3.set_xlabel(str_date)\n",
    "#\n",
    "title_label = '[JUICE/RPWI HF PSSR2-Rich (SID-22)]  ' + data_name\n",
    "ax1.set_title(title_label)\n",
    "ax1.legend(loc='upper right', fontsize=8);  ax2.legend(loc='upper right', fontsize=8)\n",
    "\n",
    "xlim=[-.5, len(np.ravel(data.auto_corr))     -.5];  print(xlim);  ax1.set_xlim(xlim)\n",
    "xlim=[-.5, len(np.ravel(data.freq_auto_corr))-.5];  print(xlim);  ax2.set_xlim(xlim)\n",
    "xlim=[-.5, len(np.ravel(data.epoch))         -.5];  print(xlim);  ax3.set_xlim(xlim)\n",
    "# ylim=[10**p_min0, 10**p_max0];  ax1.set_ylim(ylim)\n",
    "\n",
    "# Plot\n",
    "fig.show\n",
    "if dump_mode == 1:\n",
    "    png_fname = work_dir+data_name+'_raw.png'\n",
    "    fig.savefig(png_fname)"
   ]
  },
  {
   "cell_type": "markdown",
   "id": "a2b60696",
   "metadata": {},
   "source": [
    "## First data"
   ]
  },
  {
   "cell_type": "code",
   "execution_count": null,
   "id": "b4809b44",
   "metadata": {},
   "outputs": [],
   "source": [
    "n_sweep = 0\n",
    "\n",
    "fig = plt.figure(figsize=(14, 11))\n",
    "ax1  = fig.add_subplot(4, 4, 1);  ax2  = fig.add_subplot(4, 4, 2);   ax3  = fig.add_subplot(4, 4, 3);   ax4 = fig.add_subplot(4, 4, 4)\n",
    "ax5  = fig.add_subplot(4, 4, 5);  ax6  = fig.add_subplot(4, 4, 6);   ax7  = fig.add_subplot(4, 4, 7);   ax8 = fig.add_subplot(4, 4, 8)\n",
    "ax9  = fig.add_subplot(4, 4, 9);  ax10 = fig.add_subplot(4, 4, 10);  ax11 = fig.add_subplot(4, 4, 11); ax12 = fig.add_subplot(4, 4, 12)\n",
    "ax13 = fig.add_subplot(4, 4, 13); ax14 = fig.add_subplot(4, 4, 14);  ax15 = fig.add_subplot(4, 4, 15); ax16 = fig.add_subplot(4, 4, 16)\n",
    "\n",
    "ax1.plot(data.time[1:], data.auto_corr[n_sweep][0][1:], linewidth=.5)\n",
    "ax2.plot(data.time[1:], data.auto_corr[n_sweep][1][1:], linewidth=.5)\n",
    "ax3.plot(data.time[1:], data.auto_corr[n_sweep][2][1:], linewidth=.5)\n",
    "ax4.plot(data.time[1:], data.auto_corr[n_sweep][3][1:], linewidth=.5)\n",
    "ax5.plot(data.time[1:], data.auto_corr[n_sweep][4][1:], linewidth=.5)\n",
    "ax6.plot(data.time[1:], data.auto_corr[n_sweep][5][1:], linewidth=.5)\n",
    "ax7.plot(data.time[1:], data.auto_corr[n_sweep][6][1:], linewidth=.5)\n",
    "ax8.plot(data.time[1:], data.auto_corr[n_sweep][7][1:], linewidth=.5)\n",
    "ax9.plot(data.time[1:], data.auto_corr[n_sweep][8][1:], linewidth=.5)\n",
    "ax10.plot(data.time[1:], data.auto_corr[n_sweep][9][1:], linewidth=.5)\n",
    "ax11.plot(data.time[1:], data.auto_corr[n_sweep][10][1:], linewidth=.5)\n",
    "ax12.plot(data.time[1:], data.auto_corr[n_sweep][11][1:], linewidth=.5)\n",
    "ax13.plot(data.time[1:], data.auto_corr[n_sweep][12][1:], linewidth=.5)\n",
    "ax14.plot(data.time[1:], data.auto_corr[n_sweep][13][1:], linewidth=.5)\n",
    "ax15.plot(data.time[1:], data.auto_corr[n_sweep][14][1:], linewidth=.5)\n",
    "ax16.plot(data.time[1:], data.auto_corr[n_sweep][15][1:], linewidth=.5)\n",
    "\n",
    "date1 = data.epoch[n_sweep];  date1 = date1.strftime('First: %Y/%m/%d %R:%S')\n",
    "title_date = \"[\" + data_name + \"]  \" + date1;  ax2.set_title(title_date)\n",
    "#\n",
    "ax1.set_xlabel(\"#1: {0:.0f} [kHz]\".format(data.freq_auto_corr[n_sweep][0]))\n",
    "ax2.set_xlabel(\"#2: {0:.0f} [kHz]\".format(data.freq_auto_corr[n_sweep][1]))\n",
    "ax3.set_xlabel(\"#3: {0:.0f} [kHz]\".format(data.freq_auto_corr[n_sweep][2]))\n",
    "ax4.set_xlabel(\"#4: {0:.0f} [kHz]\".format(data.freq_auto_corr[n_sweep][3]))\n",
    "ax5.set_xlabel(\"#5: {0:.0f} [kHz]\".format(data.freq_auto_corr[n_sweep][4]))\n",
    "ax6.set_xlabel(\"#6: {0:.0f} [kHz]\".format(data.freq_auto_corr[n_sweep][5]))\n",
    "ax7.set_xlabel(\"#7: {0:.0f} [kHz]\".format(data.freq_auto_corr[n_sweep][6]))\n",
    "ax8.set_xlabel(\"#8: {0:.0f} [kHz]\".format(data.freq_auto_corr[n_sweep][7]))\n",
    "ax9.set_xlabel(\"#9: {0:.0f} [kHz]\".format(data.freq_auto_corr[n_sweep][8]))\n",
    "ax10.set_xlabel(\"#10: {0:.0f} [kHz]\".format(data.freq_auto_corr[n_sweep][9]))\n",
    "ax11.set_xlabel(\"#11: {0:.0f} [kHz]\".format(data.freq_auto_corr[n_sweep][10]))\n",
    "ax12.set_xlabel(\"#12: {0:.0f} [kHz]\".format(data.freq_auto_corr[n_sweep][11]))\n",
    "ax13.set_xlabel(\"#13: {0:.0f} [kHz]\".format(data.freq_auto_corr[n_sweep][12]))\n",
    "ax14.set_xlabel(\"#14: {0:.0f} [kHz]\".format(data.freq_auto_corr[n_sweep][13]))\n",
    "ax15.set_xlabel(\"#15: {0:.0f} [kHz]\".format(data.freq_auto_corr[n_sweep][14]))\n",
    "ax16.set_xlabel(\"#16: {0:.0f} [kHz]\".format(data.freq_auto_corr[n_sweep][15]))\n",
    "\n",
    "fig.subplots_adjust(hspace=0)\n",
    "fig.show\n",
    "if dump_mode == 1:\n",
    "    png_fname = work_dir+data_name+'_1st.png'\n",
    "    fig.savefig(png_fname)"
   ]
  },
  {
   "cell_type": "markdown",
   "metadata": {},
   "source": [
    "## Mid Data"
   ]
  },
  {
   "cell_type": "code",
   "execution_count": null,
   "metadata": {},
   "outputs": [],
   "source": [
    "n_sweep = np.int16(n_time0/2)\n",
    "\n",
    "fig = plt.figure(figsize=(14, 11))\n",
    "ax1  = fig.add_subplot(4, 4, 1);  ax2  = fig.add_subplot(4, 4, 2);   ax3  = fig.add_subplot(4, 4, 3);   ax4 = fig.add_subplot(4, 4, 4)\n",
    "ax5  = fig.add_subplot(4, 4, 5);  ax6  = fig.add_subplot(4, 4, 6);   ax7  = fig.add_subplot(4, 4, 7);   ax8 = fig.add_subplot(4, 4, 8)\n",
    "ax9  = fig.add_subplot(4, 4, 9);  ax10 = fig.add_subplot(4, 4, 10);  ax11 = fig.add_subplot(4, 4, 11); ax12 = fig.add_subplot(4, 4, 12)\n",
    "ax13 = fig.add_subplot(4, 4, 13); ax14 = fig.add_subplot(4, 4, 14);  ax15 = fig.add_subplot(4, 4, 15); ax16 = fig.add_subplot(4, 4, 16)\n",
    "\n",
    "ax1.plot(data.time[1:], data.auto_corr[n_sweep][0][1:], linewidth=.5)\n",
    "ax2.plot(data.time[1:], data.auto_corr[n_sweep][1][1:], linewidth=.5)\n",
    "ax3.plot(data.time[1:], data.auto_corr[n_sweep][2][1:], linewidth=.5)\n",
    "ax4.plot(data.time[1:], data.auto_corr[n_sweep][3][1:], linewidth=.5)\n",
    "ax5.plot(data.time[1:], data.auto_corr[n_sweep][4][1:], linewidth=.5)\n",
    "ax6.plot(data.time[1:], data.auto_corr[n_sweep][5][1:], linewidth=.5)\n",
    "ax7.plot(data.time[1:], data.auto_corr[n_sweep][6][1:], linewidth=.5)\n",
    "ax8.plot(data.time[1:], data.auto_corr[n_sweep][7][1:], linewidth=.5)\n",
    "ax9.plot(data.time[1:], data.auto_corr[n_sweep][8][1:], linewidth=.5)\n",
    "ax10.plot(data.time[1:], data.auto_corr[n_sweep][9][1:], linewidth=.5)\n",
    "ax11.plot(data.time[1:], data.auto_corr[n_sweep][10][1:], linewidth=.5)\n",
    "ax12.plot(data.time[1:], data.auto_corr[n_sweep][11][1:], linewidth=.5)\n",
    "ax13.plot(data.time[1:], data.auto_corr[n_sweep][12][1:], linewidth=.5)\n",
    "ax14.plot(data.time[1:], data.auto_corr[n_sweep][13][1:], linewidth=.5)\n",
    "ax15.plot(data.time[1:], data.auto_corr[n_sweep][14][1:], linewidth=.5)\n",
    "ax16.plot(data.time[1:], data.auto_corr[n_sweep][15][1:], linewidth=.5)\n",
    "\n",
    "date1 = data.epoch[n_sweep];  date1 = date1.strftime('Mid: %Y/%m/%d %R:%S')\n",
    "title_date = \"[\" + data_name + \"]  \" + date1;  ax2.set_title(title_date)\n",
    "#\n",
    "ax1.set_xlabel(\"#1: {0:.0f} [kHz]\".format(data.freq_auto_corr[n_sweep][0]))\n",
    "ax2.set_xlabel(\"#2: {0:.0f} [kHz]\".format(data.freq_auto_corr[n_sweep][1]))\n",
    "ax3.set_xlabel(\"#3: {0:.0f} [kHz]\".format(data.freq_auto_corr[n_sweep][2]))\n",
    "ax4.set_xlabel(\"#4: {0:.0f} [kHz]\".format(data.freq_auto_corr[n_sweep][3]))\n",
    "ax5.set_xlabel(\"#5: {0:.0f} [kHz]\".format(data.freq_auto_corr[n_sweep][4]))\n",
    "ax6.set_xlabel(\"#6: {0:.0f} [kHz]\".format(data.freq_auto_corr[n_sweep][5]))\n",
    "ax7.set_xlabel(\"#7: {0:.0f} [kHz]\".format(data.freq_auto_corr[n_sweep][6]))\n",
    "ax8.set_xlabel(\"#8: {0:.0f} [kHz]\".format(data.freq_auto_corr[n_sweep][7]))\n",
    "ax9.set_xlabel(\"#9: {0:.0f} [kHz]\".format(data.freq_auto_corr[n_sweep][8]))\n",
    "ax10.set_xlabel(\"#10: {0:.0f} [kHz]\".format(data.freq_auto_corr[n_sweep][9]))\n",
    "ax11.set_xlabel(\"#11: {0:.0f} [kHz]\".format(data.freq_auto_corr[n_sweep][10]))\n",
    "ax12.set_xlabel(\"#12: {0:.0f} [kHz]\".format(data.freq_auto_corr[n_sweep][11]))\n",
    "ax13.set_xlabel(\"#13: {0:.0f} [kHz]\".format(data.freq_auto_corr[n_sweep][12]))\n",
    "ax14.set_xlabel(\"#14: {0:.0f} [kHz]\".format(data.freq_auto_corr[n_sweep][13]))\n",
    "ax15.set_xlabel(\"#15: {0:.0f} [kHz]\".format(data.freq_auto_corr[n_sweep][14]))\n",
    "ax16.set_xlabel(\"#16: {0:.0f} [kHz]\".format(data.freq_auto_corr[n_sweep][15]))\n",
    "\n",
    "fig.subplots_adjust(hspace=0)\n",
    "fig.show\n",
    "if dump_mode == 1:\n",
    "    png_fname = work_dir+data_name+'_mid.png'\n",
    "    fig.savefig(png_fname)"
   ]
  },
  {
   "cell_type": "markdown",
   "metadata": {},
   "source": [
    "## Last data"
   ]
  },
  {
   "cell_type": "code",
   "execution_count": null,
   "id": "675db0ef",
   "metadata": {},
   "outputs": [],
   "source": [
    "n_sweep = n_time0\n",
    "\n",
    "fig = plt.figure(figsize=(14, 11))\n",
    "ax1  = fig.add_subplot(4, 4, 1);  ax2  = fig.add_subplot(4, 4, 2);   ax3  = fig.add_subplot(4, 4, 3);   ax4 = fig.add_subplot(4, 4, 4)\n",
    "ax5  = fig.add_subplot(4, 4, 5);  ax6  = fig.add_subplot(4, 4, 6);   ax7  = fig.add_subplot(4, 4, 7);   ax8 = fig.add_subplot(4, 4, 8)\n",
    "ax9  = fig.add_subplot(4, 4, 9);  ax10 = fig.add_subplot(4, 4, 10);  ax11 = fig.add_subplot(4, 4, 11); ax12 = fig.add_subplot(4, 4, 12)\n",
    "ax13 = fig.add_subplot(4, 4, 13); ax14 = fig.add_subplot(4, 4, 14);  ax15 = fig.add_subplot(4, 4, 15); ax16 = fig.add_subplot(4, 4, 16)\n",
    "\n",
    "ax1.plot(data.time[1:], data.auto_corr[n_sweep][0][1:], linewidth=.5)\n",
    "ax2.plot(data.time[1:], data.auto_corr[n_sweep][1][1:], linewidth=.5)\n",
    "ax3.plot(data.time[1:], data.auto_corr[n_sweep][2][1:], linewidth=.5)\n",
    "ax4.plot(data.time[1:], data.auto_corr[n_sweep][3][1:], linewidth=.5)\n",
    "ax5.plot(data.time[1:], data.auto_corr[n_sweep][4][1:], linewidth=.5)\n",
    "ax6.plot(data.time[1:], data.auto_corr[n_sweep][5][1:], linewidth=.5)\n",
    "ax7.plot(data.time[1:], data.auto_corr[n_sweep][6][1:], linewidth=.5)\n",
    "ax8.plot(data.time[1:], data.auto_corr[n_sweep][7][1:], linewidth=.5)\n",
    "ax9.plot(data.time[1:], data.auto_corr[n_sweep][8][1:], linewidth=.5)\n",
    "ax10.plot(data.time[1:], data.auto_corr[n_sweep][9][1:], linewidth=.5)\n",
    "ax11.plot(data.time[1:], data.auto_corr[n_sweep][10][1:], linewidth=.5)\n",
    "ax12.plot(data.time[1:], data.auto_corr[n_sweep][11][1:], linewidth=.5)\n",
    "ax13.plot(data.time[1:], data.auto_corr[n_sweep][12][1:], linewidth=.5)\n",
    "ax14.plot(data.time[1:], data.auto_corr[n_sweep][13][1:], linewidth=.5)\n",
    "ax15.plot(data.time[1:], data.auto_corr[n_sweep][14][1:], linewidth=.5)\n",
    "ax16.plot(data.time[1:], data.auto_corr[n_sweep][15][1:], linewidth=.5)\n",
    "\n",
    "date1 = data.epoch[n_sweep];  date1 = date1.strftime('Last: %Y/%m/%d %R:%S')\n",
    "title_date = \"[\" + data_name + \"]  \" + date1;  ax2.set_title(title_date)\n",
    "#\n",
    "ax1.set_xlabel(\"#1: {0:.0f} [kHz]\".format(data.freq_auto_corr[n_sweep][0]))\n",
    "ax2.set_xlabel(\"#2: {0:.0f} [kHz]\".format(data.freq_auto_corr[n_sweep][1]))\n",
    "ax3.set_xlabel(\"#3: {0:.0f} [kHz]\".format(data.freq_auto_corr[n_sweep][2]))\n",
    "ax4.set_xlabel(\"#4: {0:.0f} [kHz]\".format(data.freq_auto_corr[n_sweep][3]))\n",
    "ax5.set_xlabel(\"#5: {0:.0f} [kHz]\".format(data.freq_auto_corr[n_sweep][4]))\n",
    "ax6.set_xlabel(\"#6: {0:.0f} [kHz]\".format(data.freq_auto_corr[n_sweep][5]))\n",
    "ax7.set_xlabel(\"#7: {0:.0f} [kHz]\".format(data.freq_auto_corr[n_sweep][6]))\n",
    "ax8.set_xlabel(\"#8: {0:.0f} [kHz]\".format(data.freq_auto_corr[n_sweep][7]))\n",
    "ax9.set_xlabel(\"#9: {0:.0f} [kHz]\".format(data.freq_auto_corr[n_sweep][8]))\n",
    "ax10.set_xlabel(\"#10: {0:.0f} [kHz]\".format(data.freq_auto_corr[n_sweep][9]))\n",
    "ax11.set_xlabel(\"#11: {0:.0f} [kHz]\".format(data.freq_auto_corr[n_sweep][10]))\n",
    "ax12.set_xlabel(\"#12: {0:.0f} [kHz]\".format(data.freq_auto_corr[n_sweep][11]))\n",
    "ax13.set_xlabel(\"#13: {0:.0f} [kHz]\".format(data.freq_auto_corr[n_sweep][12]))\n",
    "ax14.set_xlabel(\"#14: {0:.0f} [kHz]\".format(data.freq_auto_corr[n_sweep][13]))\n",
    "ax15.set_xlabel(\"#15: {0:.0f} [kHz]\".format(data.freq_auto_corr[n_sweep][14]))\n",
    "ax16.set_xlabel(\"#16: {0:.0f} [kHz]\".format(data.freq_auto_corr[n_sweep][15]))\n",
    "\n",
    "fig.subplots_adjust(hspace=0)\n",
    "fig.show\n",
    "if dump_mode == 1:\n",
    "    png_fname = work_dir+data_name+'_last.png'\n",
    "    fig.savefig(png_fname)"
   ]
  }
 ],
 "metadata": {
  "kernelspec": {
   "display_name": "Python 3 (ipykernel)",
   "language": "python",
   "name": "python3"
  },
  "language_info": {
   "codemirror_mode": {
    "name": "ipython",
    "version": 3
   },
   "file_extension": ".py",
   "mimetype": "text/x-python",
   "name": "python",
   "nbconvert_exporter": "python",
   "pygments_lexer": "ipython3",
   "version": "3.10.14"
  }
 },
 "nbformat": 4,
 "nbformat_minor": 5
}
