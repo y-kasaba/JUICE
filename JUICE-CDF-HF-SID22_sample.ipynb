{
 "cells": [
  {
   "cell_type": "markdown",
   "id": "5ad0cc98",
   "metadata": {},
   "source": [
    "# JUICE RPWI HF SID22 (PSSR2 rich): L1a QL -- 2023/10/29"
   ]
  },
  {
   "attachments": {},
   "cell_type": "markdown",
   "id": "a116756d",
   "metadata": {},
   "source": [
    "# Import lib"
   ]
  },
  {
   "cell_type": "code",
   "execution_count": null,
   "id": "bca50671",
   "metadata": {},
   "outputs": [],
   "source": [
    "import sys\n",
    "import numpy as np\n",
    "import matplotlib.pyplot as plt\n",
    "import matplotlib.colors as colors"
   ]
  },
  {
   "cell_type": "markdown",
   "id": "1f5e8c0c",
   "metadata": {},
   "source": [
    "# CDF and Directory setting: set by User"
   ]
  },
  {
   "cell_type": "code",
   "execution_count": null,
   "id": "6c181f65",
   "metadata": {},
   "outputs": [],
   "source": [
    "# The latest CDF library https://spdf.gsfc.nasa.gov/pub/software/cdf/dist/latest/\n",
    "from spacepy import pycdf\n",
    "\n",
    "# os.environ[\"CDF_LIB\"] = \"C:\\\\Program Files\\\\CDF_Distribution\\\\cdf39_0-dist\\\\lib\"\n",
    "import os\n",
    "os.environ[\"CDF_LIB\"] = \"/Applications/cdf/cdf39_0-dist/lib\"\n",
    "\n",
    "# *** Library ***\n",
    "sys.path.append('./lib/')\n",
    "import juice_cdf_lib as juice_cdf\n",
    "import juice_math_lib as juice_math\n",
    "import juice_sid22_lib as juice_sid22"
   ]
  },
  {
   "attachments": {},
   "cell_type": "markdown",
   "id": "578b15bb",
   "metadata": {},
   "source": [
    "# Setting and Read CDF file: set by User"
   ]
  },
  {
   "cell_type": "code",
   "execution_count": null,
   "id": "05e8da84",
   "metadata": {},
   "outputs": [],
   "source": [
    "# *** Mode set ***\n",
    "unit_mode = 0                           # 0: sum    1: /Hz\n",
    "cal_mode = 0                            # 0: raw    1: dBm＠ADC  2: V@HF   3:V2@HF   4:V2@RWI\n",
    "\n",
    "# *** Parameter set ***\n",
    "cal = 0                                 # 0: background     1: CAL\n",
    "p_raw_max = 8.5                         # background: 7.5   CAL: 10\n",
    "p_raw_min = 1.0                         # background: 2.5   CAL: 5\n",
    "\n",
    "# *** Conversion factor: cal_mode ***\n",
    "cf, p_max, p_min = juice_cdf.cal_factors(unit_mode, cal_mode, cal, p_raw_max, p_raw_min)"
   ]
  },
  {
   "cell_type": "code",
   "execution_count": null,
   "id": "0d556f41",
   "metadata": {},
   "outputs": [],
   "source": [
    "# *** Directory set: set by User ***\n",
    "work_dir = '/Users/user/0-python/JUICE_python/ql/'   # Plot dump folder\n",
    "data_dir = '/Users/user/0-python/JUICE_data/'        # CDF data folder\n",
    "\n",
    "# *** Ver.2 ***\n",
    "\n",
    "# 202310 -- SAMPLE\n",
    "data_name = 'test-CCSDS/sample/cdf/SID22_20231024-0049.cdf'"
   ]
  },
  {
   "attachments": {},
   "cell_type": "markdown",
   "id": "093823c4",
   "metadata": {},
   "source": [
    "# get CDF data"
   ]
  },
  {
   "cell_type": "code",
   "execution_count": null,
   "id": "5353f848",
   "metadata": {},
   "outputs": [],
   "source": [
    "cdf_file = data_dir + data_name\n",
    "%ls $cdf_file\n",
    "\n",
    "cdf = pycdf.CDF(cdf_file)\n",
    "data = juice_sid22.juice_getdata_hf_sid22(cdf)\n",
    "date = data.epoch[0]\n",
    "month = date.strftime('%Y%m')\n",
    "print(data.epoch[0], \"-\", data.epoch[-1], \"[\", month, \"]\")\n",
    "\n",
    "n_time = data.auto_corr.shape[0]\n",
    "n_time0 = n_time-1\n",
    "print(\"data size:\", data.auto_corr.shape)  # n_time, 16, data.N_samp_AUX[0]\n",
    "\n",
    "data.auto_corr = data.auto_corr * 10**(cf/10)"
   ]
  },
  {
   "cell_type": "code",
   "execution_count": null,
   "id": "96f894ad",
   "metadata": {},
   "outputs": [],
   "source": [
    "# Mode \n",
    "print(\"==> Ch:\", data.ch_selected[0], \"  Num-sweep:\", n_time, \"   Num-AutoCorr: 16    each Length:\", data.N_samp_AUX[0] )"
   ]
  },
  {
   "attachments": {},
   "cell_type": "markdown",
   "id": "c661f058",
   "metadata": {},
   "source": [
    "# Raw data"
   ]
  },
  {
   "cell_type": "code",
   "execution_count": null,
   "id": "2ef60e31",
   "metadata": {},
   "outputs": [],
   "source": [
    "fig = plt.figure(figsize=(12, 10))\n",
    "ax1 = fig.add_subplot(4, 1, 1)\n",
    "ax2 = fig.add_subplot(4, 1, 2)\n",
    "ax3 = fig.add_subplot(4, 1, 3)\n",
    "\n",
    "ax1.plot(np.ravel(data.auto_corr[:][:]), linewidth=.5)\n",
    "ax2.plot(np.ravel(data.freq_auto_corr[:]), linewidth=.5)\n",
    "ax3.plot(np.ravel(data.epoch[:]), '.')\n",
    "ax1.set_ylabel('AutoCorr [RAW @ ADC]')\n",
    "ax2.set_ylabel('Frequency [kHz]')\n",
    "date = data.epoch[0]\n",
    "date = date.strftime('%Y/%m/%d')\n",
    "ax3.set_xlabel(date)\n",
    "\n",
    "\"\"\"\n",
    "# range: X-axis\n",
    "xlim=[0, N_frequency-1]\n",
    "ax1.set_xlim(xlim)\n",
    "ax2.set_xlim(xlim)\n",
    "ax3.set_xlim(xlim)\n",
    "# range: Y-axis\n",
    "ylim=[10**p_raw_min, 10**p_raw_max]\n",
    "ax1.set_ylim(ylim)\n",
    "ax2.set_ylim(ylim)\n",
    "ylim=[f_min, f_max]\n",
    "ax3.set_ylim(ylim)\n",
    "\"\"\"\n",
    "\n",
    "# Plot\n",
    "fig.show\n",
    "png_fname = work_dir+data_name+'_raw.png'\n",
    "# fig.savefig(png_fname)"
   ]
  },
  {
   "cell_type": "markdown",
   "id": "a2b60696",
   "metadata": {},
   "source": [
    "# First data"
   ]
  },
  {
   "cell_type": "code",
   "execution_count": null,
   "id": "b4809b44",
   "metadata": {},
   "outputs": [],
   "source": [
    "n_sweep = 0\n",
    "\n",
    "fig = plt.figure(figsize=(12, 12))\n",
    "ax1 = fig.add_subplot(4, 4, 1)\n",
    "ax2 = fig.add_subplot(4, 4, 2)\n",
    "ax3 = fig.add_subplot(4, 4, 3)\n",
    "ax4 = fig.add_subplot(4, 4, 4)\n",
    "ax5 = fig.add_subplot(4, 4, 5)\n",
    "ax6 = fig.add_subplot(4, 4, 6)\n",
    "ax7 = fig.add_subplot(4, 4, 7)\n",
    "ax8 = fig.add_subplot(4, 4, 8)\n",
    "ax9 = fig.add_subplot(4, 4, 9)\n",
    "ax10 = fig.add_subplot(4, 4, 10)\n",
    "ax11 = fig.add_subplot(4, 4, 11)\n",
    "ax12 = fig.add_subplot(4, 4, 12)\n",
    "ax13 = fig.add_subplot(4, 4, 13)\n",
    "ax14 = fig.add_subplot(4, 4, 14)\n",
    "ax15 = fig.add_subplot(4, 4, 15)\n",
    "ax16 = fig.add_subplot(4, 4, 16)\n",
    "\n",
    "ax1.plot(data.time[1:], data.auto_corr[n_sweep][0][1:], linewidth=.5)\n",
    "ax2.plot(data.time[1:], data.auto_corr[n_sweep][1][1:], linewidth=.5)\n",
    "ax3.plot(data.time[1:], data.auto_corr[n_sweep][2][1:], linewidth=.5)\n",
    "ax4.plot(data.time[1:], data.auto_corr[n_sweep][3][1:], linewidth=.5)\n",
    "ax5.plot(data.time[1:], data.auto_corr[n_sweep][4][1:], linewidth=.5)\n",
    "ax6.plot(data.time[1:], data.auto_corr[n_sweep][5][1:], linewidth=.5)\n",
    "ax7.plot(data.time[1:], data.auto_corr[n_sweep][6][1:], linewidth=.5)\n",
    "ax8.plot(data.time[1:], data.auto_corr[n_sweep][7][1:], linewidth=.5)\n",
    "ax9.plot(data.time[1:], data.auto_corr[n_sweep][8][1:], linewidth=.5)\n",
    "ax10.plot(data.time[1:], data.auto_corr[n_sweep][9][1:], linewidth=.5)\n",
    "ax11.plot(data.time[1:], data.auto_corr[n_sweep][10][1:], linewidth=.5)\n",
    "ax12.plot(data.time[1:], data.auto_corr[n_sweep][11][1:], linewidth=.5)\n",
    "ax13.plot(data.time[1:], data.auto_corr[n_sweep][12][1:], linewidth=.5)\n",
    "ax14.plot(data.time[1:], data.auto_corr[n_sweep][13][1:], linewidth=.5)\n",
    "ax15.plot(data.time[1:], data.auto_corr[n_sweep][14][1:], linewidth=.5)\n",
    "ax16.plot(data.time[1:], data.auto_corr[n_sweep][15][1:], linewidth=.5)\n",
    "\n",
    "ax1.set_xlabel(\"#1: {0:.0f} [kHz]\".format(data.freq_auto_corr[n_sweep][0]))\n",
    "ax2.set_xlabel(\"#2: {0:.0f} [kHz]\".format(data.freq_auto_corr[n_sweep][1]))\n",
    "ax3.set_xlabel(\"#3: {0:.0f} [kHz]\".format(data.freq_auto_corr[n_sweep][2]))\n",
    "ax4.set_xlabel(\"#4: {0:.0f} [kHz]\".format(data.freq_auto_corr[n_sweep][3]))\n",
    "ax5.set_xlabel(\"#5: {0:.0f} [kHz]\".format(data.freq_auto_corr[n_sweep][4]))\n",
    "ax6.set_xlabel(\"#6: {0:.0f} [kHz]\".format(data.freq_auto_corr[n_sweep][5]))\n",
    "ax7.set_xlabel(\"#7: {0:.0f} [kHz]\".format(data.freq_auto_corr[n_sweep][6]))\n",
    "ax8.set_xlabel(\"#8: {0:.0f} [kHz]\".format(data.freq_auto_corr[n_sweep][7]))\n",
    "ax9.set_xlabel(\"#9: {0:.0f} [kHz]\".format(data.freq_auto_corr[n_sweep][8]))\n",
    "ax10.set_xlabel(\"#10: {0:.0f} [kHz]\".format(data.freq_auto_corr[n_sweep][9]))\n",
    "ax11.set_xlabel(\"#11: {0:.0f} [kHz]\".format(data.freq_auto_corr[n_sweep][10]))\n",
    "ax12.set_xlabel(\"#12: {0:.0f} [kHz]\".format(data.freq_auto_corr[n_sweep][11]))\n",
    "ax13.set_xlabel(\"#13: {0:.0f} [kHz]\".format(data.freq_auto_corr[n_sweep][12]))\n",
    "ax14.set_xlabel(\"#14: {0:.0f} [kHz]\".format(data.freq_auto_corr[n_sweep][13]))\n",
    "ax15.set_xlabel(\"#15: {0:.0f} [kHz]\".format(data.freq_auto_corr[n_sweep][14]))\n",
    "ax16.set_xlabel(\"#16v {0:.0f} [kHz]\".format(data.freq_auto_corr[n_sweep][15]))\n",
    "\n",
    "# Plot\n",
    "fig.show\n",
    "png_fname = work_dir+data_name+'_1st.png'\n",
    "# fig.savefig(png_fname)"
   ]
  },
  {
   "cell_type": "code",
   "execution_count": null,
   "id": "675db0ef",
   "metadata": {},
   "outputs": [],
   "source": [
    "n_sweep = n_time0\n",
    "\n",
    "fig = plt.figure(figsize=(12, 12))\n",
    "ax1 = fig.add_subplot(4, 4, 1)\n",
    "ax2 = fig.add_subplot(4, 4, 2)\n",
    "ax3 = fig.add_subplot(4, 4, 3)\n",
    "ax4 = fig.add_subplot(4, 4, 4)\n",
    "ax5 = fig.add_subplot(4, 4, 5)\n",
    "ax6 = fig.add_subplot(4, 4, 6)\n",
    "ax7 = fig.add_subplot(4, 4, 7)\n",
    "ax8 = fig.add_subplot(4, 4, 8)\n",
    "ax9 = fig.add_subplot(4, 4, 9)\n",
    "ax10 = fig.add_subplot(4, 4, 10)\n",
    "ax11 = fig.add_subplot(4, 4, 11)\n",
    "ax12 = fig.add_subplot(4, 4, 12)\n",
    "ax13 = fig.add_subplot(4, 4, 13)\n",
    "ax14 = fig.add_subplot(4, 4, 14)\n",
    "ax15 = fig.add_subplot(4, 4, 15)\n",
    "ax16 = fig.add_subplot(4, 4, 16)\n",
    "\n",
    "ax1.plot(data.time[1:], data.auto_corr[n_sweep][0][1:], linewidth=.5)\n",
    "ax2.plot(data.time[1:], data.auto_corr[n_sweep][1][1:], linewidth=.5)\n",
    "ax3.plot(data.time[1:], data.auto_corr[n_sweep][2][1:], linewidth=.5)\n",
    "ax4.plot(data.time[1:], data.auto_corr[n_sweep][3][1:], linewidth=.5)\n",
    "ax5.plot(data.time[1:], data.auto_corr[n_sweep][4][1:], linewidth=.5)\n",
    "ax6.plot(data.time[1:], data.auto_corr[n_sweep][5][1:], linewidth=.5)\n",
    "ax7.plot(data.time[1:], data.auto_corr[n_sweep][6][1:], linewidth=.5)\n",
    "ax8.plot(data.time[1:], data.auto_corr[n_sweep][7][1:], linewidth=.5)\n",
    "ax9.plot(data.time[1:], data.auto_corr[n_sweep][8][1:], linewidth=.5)\n",
    "ax10.plot(data.time[1:], data.auto_corr[n_sweep][9][1:], linewidth=.5)\n",
    "ax11.plot(data.time[1:], data.auto_corr[n_sweep][10][1:], linewidth=.5)\n",
    "ax12.plot(data.time[1:], data.auto_corr[n_sweep][11][1:], linewidth=.5)\n",
    "ax13.plot(data.time[1:], data.auto_corr[n_sweep][12][1:], linewidth=.5)\n",
    "ax14.plot(data.time[1:], data.auto_corr[n_sweep][13][1:], linewidth=.5)\n",
    "ax15.plot(data.time[1:], data.auto_corr[n_sweep][14][1:], linewidth=.5)\n",
    "ax16.plot(data.time[1:], data.auto_corr[n_sweep][15][1:], linewidth=.5)\n",
    "\n",
    "ax1.set_xlabel(\"#1: {0:.0f} [kHz]\".format(data.freq_auto_corr[n_sweep][0]))\n",
    "ax2.set_xlabel(\"#2: {0:.0f} [kHz]\".format(data.freq_auto_corr[n_sweep][1]))\n",
    "ax3.set_xlabel(\"#3: {0:.0f} [kHz]\".format(data.freq_auto_corr[n_sweep][2]))\n",
    "ax4.set_xlabel(\"#4: {0:.0f} [kHz]\".format(data.freq_auto_corr[n_sweep][3]))\n",
    "ax5.set_xlabel(\"#5: {0:.0f} [kHz]\".format(data.freq_auto_corr[n_sweep][4]))\n",
    "ax6.set_xlabel(\"#6: {0:.0f} [kHz]\".format(data.freq_auto_corr[n_sweep][5]))\n",
    "ax7.set_xlabel(\"#7: {0:.0f} [kHz]\".format(data.freq_auto_corr[n_sweep][6]))\n",
    "ax8.set_xlabel(\"#8: {0:.0f} [kHz]\".format(data.freq_auto_corr[n_sweep][7]))\n",
    "ax9.set_xlabel(\"#9: {0:.0f} [kHz]\".format(data.freq_auto_corr[n_sweep][8]))\n",
    "ax10.set_xlabel(\"#10: {0:.0f} [kHz]\".format(data.freq_auto_corr[n_sweep][9]))\n",
    "ax11.set_xlabel(\"#11: {0:.0f} [kHz]\".format(data.freq_auto_corr[n_sweep][10]))\n",
    "ax12.set_xlabel(\"#12: {0:.0f} [kHz]\".format(data.freq_auto_corr[n_sweep][11]))\n",
    "ax13.set_xlabel(\"#13: {0:.0f} [kHz]\".format(data.freq_auto_corr[n_sweep][12]))\n",
    "ax14.set_xlabel(\"#14: {0:.0f} [kHz]\".format(data.freq_auto_corr[n_sweep][13]))\n",
    "ax15.set_xlabel(\"#15: {0:.0f} [kHz]\".format(data.freq_auto_corr[n_sweep][14]))\n",
    "ax16.set_xlabel(\"#16: {0:.0f} [kHz]\".format(data.freq_auto_corr[n_sweep][15]))\n",
    "\n",
    "# Plot\n",
    "fig.show\n",
    "png_fname = work_dir+data_name+'_last.png'\n",
    "# fig.savefig(png_fname)"
   ]
  }
 ],
 "metadata": {
  "kernelspec": {
   "display_name": "Python 3 (ipykernel)",
   "language": "python",
   "name": "python3"
  },
  "language_info": {
   "codemirror_mode": {
    "name": "ipython",
    "version": 3
   },
   "file_extension": ".py",
   "mimetype": "text/x-python",
   "name": "python",
   "nbconvert_exporter": "python",
   "pygments_lexer": "ipython3",
   "version": "3.10.12"
  }
 },
 "nbformat": 4,
 "nbformat_minor": 5
}
