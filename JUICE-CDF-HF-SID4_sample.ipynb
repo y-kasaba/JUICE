{
 "cells": [
  {
   "cell_type": "markdown",
   "id": "5ad0cc98",
   "metadata": {},
   "source": [
    "# JUICE RPWI HF SID4 (Burst surv): L1a QL -- 2023/10/29"
   ]
  },
  {
   "attachments": {},
   "cell_type": "markdown",
   "id": "a116756d",
   "metadata": {},
   "source": [
    "# Import lib"
   ]
  },
  {
   "cell_type": "code",
   "execution_count": null,
   "id": "bca50671",
   "metadata": {},
   "outputs": [],
   "source": [
    "import sys\n",
    "import numpy as np\n",
    "import matplotlib.pyplot as plt\n",
    "import matplotlib.colors as colors"
   ]
  },
  {
   "cell_type": "markdown",
   "id": "1f5e8c0c",
   "metadata": {},
   "source": [
    "# CDF and Directory setting: set by User"
   ]
  },
  {
   "cell_type": "code",
   "execution_count": null,
   "id": "6c181f65",
   "metadata": {},
   "outputs": [],
   "source": [
    "# The latest CDF library https://spdf.gsfc.nasa.gov/pub/software/cdf/dist/latest/\n",
    "from spacepy import pycdf\n",
    "\n",
    "import os\n",
    "os.environ[\"CDF_LIB\"] = \"/Applications/cdf/cdf39_0-dist/lib\"\n",
    "\n",
    "# *** Library ***\n",
    "sys.path.append('./lib/')\n",
    "import juice_cdf_lib as juice_cdf\n",
    "import juice_sid4_lib as juice_sid4\n",
    "# import juice_math_lib as juice_math"
   ]
  },
  {
   "attachments": {},
   "cell_type": "markdown",
   "id": "578b15bb",
   "metadata": {},
   "source": [
    "# Setting and Read CDF file: set by User"
   ]
  },
  {
   "cell_type": "code",
   "execution_count": null,
   "id": "05e8da84",
   "metadata": {},
   "outputs": [],
   "source": [
    "# *** Mode set ***\n",
    "unit_mode = 0                           # 0: sum    1: /Hz\n",
    "cal_mode = 0                            # 0: raw    1: dBm＠ADC  2: V@HF   3:V2@HF   4:V2@RWI\n",
    "\n",
    "# *** Parameter set ***\n",
    "cal = 0                                 # 0: background     1: CAL\n",
    "p_raw_max = 8.5                         # background: 7.5   CAL: 10\n",
    "p_raw_min = 1.0                         # background: 2.5   CAL: 5\n",
    "\n",
    "# *** Conversion factor: cal_mode ***\n",
    "cf, p_max, p_min = juice_cdf.cal_factors(unit_mode, cal_mode, cal, p_raw_max, p_raw_min)"
   ]
  },
  {
   "cell_type": "code",
   "execution_count": null,
   "id": "0d556f41",
   "metadata": {},
   "outputs": [],
   "source": [
    "# *** Directory set: set by User ***\n",
    "work_dir = '/Users/user/0-python/JUICE_python/ql/'   # Plot dump folder\n",
    "data_dir = '/Users/user/0-python/JUICE_data/'        # CDF data folder\n",
    "\n",
    "# *** Ver.2 ***\n",
    "# 202310 -- SAMPLE\n",
    "data_name = 'test-CCSDS/sample/cdf/SID04_20231024-0042.cdf'"
   ]
  },
  {
   "attachments": {},
   "cell_type": "markdown",
   "id": "093823c4",
   "metadata": {},
   "source": [
    "# get CDF data"
   ]
  },
  {
   "cell_type": "code",
   "execution_count": null,
   "id": "5353f848",
   "metadata": {},
   "outputs": [],
   "source": [
    "cdf_file = data_dir + data_name\n",
    "%ls $cdf_file\n",
    "\n",
    "cdf = pycdf.CDF(cdf_file)\n",
    "data = juice_sid4.juice_getdata_hf_sid4(cdf)\n",
    "date = data.epoch[0]\n",
    "month = date.strftime('%Y%m')\n",
    "print(data.epoch[0], \"-\", data.epoch[-1], \"[\", month, \"]\")\n",
    "\n",
    "data.EuEu = data.EuEu * 10**(cf/10)\n",
    "data.EvEv = data.EvEv * 10**(cf/10)\n",
    "data.EwEw = data.EwEw * 10**(cf/10)\n",
    "data.EuEu_dB = 10.0 * np.log10(data.EuEu)\n",
    "data.EvEv_dB = 10.0 * np.log10(data.EvEv)\n",
    "data.EwEw_dB = 10.0 * np.log10(data.EwEw)\n",
    "\n",
    "n_freq = data.EuEu.shape[1]\n",
    "n_time = data.EuEu.shape[0]\n",
    "n_time0 = n_time-1\n",
    "print(\"data size:\", data.EuEu.shape, n_time, n_freq)"
   ]
  },
  {
   "cell_type": "code",
   "execution_count": null,
   "id": "96f894ad",
   "metadata": {},
   "outputs": [],
   "source": [
    "# Mode \n",
    "N_ch = data.U_selected[0] + data.V_selected[0] + data.W_selected[0]\n",
    "if (data.complex[0] == 0):\n",
    "    print(\"complex:\", data.complex[0], \" (power 3-ch) <Table 6.3.2>\")\n",
    "    N_component = 3\n",
    "elif (data.complex[0] == 1):\n",
    "    print(\"complex:\", data.complex[0], \" (spectral matrix 3-ch) <Table 6.3.3>\")\n",
    "    N_component = 9\n",
    "else:\n",
    "    print(\"complex:\", data.complex[0], \" (3D spectral matrix 3-ch) <Table 6.3.4>\")\n",
    "    N_component = 21\n",
    "print(\"Ch:\", N_ch, \"  (U:\", data.U_selected[0], \"  V:\", data.V_selected[0], \"  W:\", data.W_selected[0], \")\")\n",
    "N_frequency = data.B0_step[0] * data.B0_subdiv[0]\n",
    "print(\"==> Component\", N_component, \"   Num-frequency\", N_frequency, \"  Num-sweep:\", n_time)"
   ]
  },
  {
   "attachments": {},
   "cell_type": "markdown",
   "id": "3dbd3949",
   "metadata": {},
   "source": [
    "# Data for checks"
   ]
  },
  {
   "cell_type": "code",
   "execution_count": null,
   "id": "0c0ac766",
   "metadata": {},
   "outputs": [],
   "source": [
    "Epoch_1d       = data.epoch.tolist()\n",
    "freq_1d        = data.frequency[0].tolist()\n",
    "freq1          = freq_1d[0:N_frequency]\n",
    "freq_width_1d  = data.freq_width[0].tolist()\n",
    "freq_width1    = freq_width_1d[0:N_frequency]\n",
    "freq_width_2d  = data.freq_width.transpose()\n",
    "\n",
    "EuEu_2d = data.EuEu.transpose()\n",
    "EvEv_2d = data.EvEv.transpose()\n",
    "EwEw_2d = data.EwEw.transpose()\n",
    "Eu_power1 = data.EuEu[0][0:N_frequency]\n",
    "Ev_power1 = data.EvEv[0][0:N_frequency]\n",
    "Ew_power1 = data.EwEw[0][0:N_frequency]\n",
    "Eu_power2 = data.EuEu[n_time0][0:N_frequency]\n",
    "Ev_power2 = data.EvEv[n_time0][0:N_frequency]\n",
    "Ew_power2 = data.EwEw[n_time0][0:N_frequency]\n",
    "if unit_mode == 1:\n",
    "    EuEu_2d = EuEu_2d / freq_width_2d / 1000\n",
    "    EvEv_2d = EvEv_2d / freq_width_2d / 1000\n",
    "    EwEw_2d = EwEw_2d / freq_width_2d / 1000\n",
    "    Eu_power1 = Eu_power1 / freq_width1 / 1000\n",
    "    Ev_power1 = Ev_power1 / freq_width1 / 1000\n",
    "    Ew_power1 = Ew_power1 / freq_width1 / 1000\n",
    "    Eu_power2 = Eu_power2 / freq_width1 / 1000\n",
    "    Ev_power2 = Ev_power2 / freq_width1 / 1000\n",
    "    Ew_power2 = Ew_power2 / freq_width1 / 1000\n",
    "    print(\"frequency width:\", freq_width1)\n",
    "\n",
    "f_min = freq_1d[0]\n",
    "f_max = freq_1d[N_frequency-1]\n",
    "power_str = juice_cdf.power_label(cal_mode, unit_mode)"
   ]
  },
  {
   "attachments": {},
   "cell_type": "markdown",
   "id": "c661f058",
   "metadata": {},
   "source": [
    "# Raw data"
   ]
  },
  {
   "cell_type": "code",
   "execution_count": null,
   "id": "2ef60e31",
   "metadata": {},
   "outputs": [],
   "source": [
    "fig = plt.figure(figsize=(12, 10))\n",
    "ax1 = fig.add_subplot(4, 1, 1)\n",
    "ax2 = fig.add_subplot(4, 1, 2)\n",
    "ax3 = fig.add_subplot(4, 1, 3)\n",
    "ax4 = fig.add_subplot(4, 1, 4)\n",
    "\n",
    "ax1.plot(np.ravel(data.EuEu), '-r', linewidth=.5)\n",
    "ax1.plot(np.ravel(data.EvEv), '-g', linewidth=.5)\n",
    "ax1.plot(np.ravel(data.EwEw), '-b', linewidth=.5)\n",
    "ax1.set_yscale('log')\n",
    "ax2.plot(np.ravel(data.EuEv_re), '-r', linewidth=.5)\n",
    "ax2.plot(np.ravel(data.EvEw_re), '-g', linewidth=.5)\n",
    "ax2.plot(np.ravel(data.EwEu_re), '-b', linewidth=.5)\n",
    "ax2.plot(np.ravel(data.EuEv_im), ':r', linewidth=.5)\n",
    "ax2.plot(np.ravel(data.EvEw_im), ':g', linewidth=.5)\n",
    "ax2.plot(np.ravel(data.EwEu_im), ':b', linewidth=.5)\n",
    "ax2.set_yscale('log')\n",
    "ax3.plot(np.ravel(data.frequency), '-r', linewidth=.5)\n",
    "ax3.plot(np.ravel(data.freq_step*1000), '-g', linewidth=.5)\n",
    "ax3.plot(np.ravel(data.freq_width*1000), '-b', linewidth=.5)\n",
    "ax4.plot(np.ravel(data.epoch), '.')\n",
    "ax1.set_ylabel('Power [RAW @ ADC]')\n",
    "ax2.set_ylabel('Real & Img [RAW @ ADC]')\n",
    "ax3.set_ylabel('frequency [kHz]')\n",
    "ax4.set_ylabel('Date-Time')\n",
    "date = data.epoch[0]\n",
    "date = date.strftime('%Y/%m/%d')\n",
    "ax4.set_xlabel(date)\n",
    "\n",
    "# range: X-axis\n",
    "\"\"\"\n",
    "xlim=[0, N_frequency*2-1]\n",
    "ax1.set_xlim(xlim)\n",
    "ax2.set_xlim(xlim)\n",
    "ax3.set_xlim(xlim)\n",
    "\"\"\"\n",
    "# range: Y-axis\n",
    "ylim=[10**p_raw_min, 10**p_raw_max]\n",
    "ax1.set_ylim(ylim)\n",
    "ax2.set_ylim(ylim)\n",
    "ylim=[f_min, f_max]\n",
    "ax3.set_ylim(ylim)\n",
    "\n",
    "# Plot\n",
    "fig.show\n",
    "png_fname = work_dir+data_name+'_raw.png'\n",
    "# fig.savefig(png_fname)"
   ]
  },
  {
   "attachments": {},
   "cell_type": "markdown",
   "id": "dccd566c",
   "metadata": {},
   "source": [
    "## Spec LOG"
   ]
  },
  {
   "cell_type": "code",
   "execution_count": null,
   "id": "7dea4554",
   "metadata": {},
   "outputs": [],
   "source": [
    "# Y-range\n",
    "p_min0 = p_min\n",
    "p_max0 = p_max\n",
    "\n",
    "fig, cal = plt.subplots(figsize=(12, 6))\n",
    "cal.plot(freq1, Eu_power1, ':r', linewidth=.5)\n",
    "cal.plot(freq1, Ev_power1, ':g', linewidth=.5)\n",
    "cal.plot(freq1, Ew_power1, ':b', linewidth=.5)\n",
    "cal.plot(freq1, Eu_power2, '-r', linewidth=.5)\n",
    "cal.plot(freq1, Ev_power2, '-g', linewidth=.5)\n",
    "cal.plot(freq1, Ew_power2, '-b', linewidth=.5)\n",
    "\n",
    "cal.set_xlabel('Frequency [kHz]')\n",
    "cal.set_xscale('log')\n",
    "cal.set_xlim(f_min, f_max)\n",
    "\n",
    "cal.set_yscale('log')\n",
    "plt.ylabel(power_str)\n",
    "cal.set_ylim(10**p_min0, 10**p_max0)\n",
    "\n",
    "plt.show\n",
    "png_fname = work_dir+data_name+'_spec-log.png'\n",
    "# fig.savefig(png_fname)"
   ]
  },
  {
   "attachments": {},
   "cell_type": "markdown",
   "id": "cdca7efe",
   "metadata": {},
   "source": [
    "## Spec-linear"
   ]
  },
  {
   "cell_type": "code",
   "execution_count": null,
   "id": "f1597e8c",
   "metadata": {},
   "outputs": [],
   "source": [
    "# Y-range\n",
    "p_min0 = p_min\n",
    "p_max0 = p_max\n",
    "\n",
    "fig, cal = plt.subplots(figsize=(12, 6))\n",
    "cal.plot(freq1, Eu_power1, ':r', linewidth=.5)\n",
    "cal.plot(freq1, Ev_power1, ':g', linewidth=.5)\n",
    "cal.plot(freq1, Ew_power1, ':b', linewidth=.5)\n",
    "cal.plot(freq1, Eu_power2, '-r', linewidth=.5)\n",
    "cal.plot(freq1, Ev_power2, '-g', linewidth=.5)\n",
    "cal.plot(freq1, Ew_power2, '-b', linewidth=.5)\n",
    "\n",
    "cal.set_xlabel('Frequency [kHz]')\n",
    "cal.set_xlim(f_min, f_max)\n",
    "\n",
    "cal.set_yscale('log')\n",
    "plt.ylabel(power_str)\n",
    "cal.set_ylim(10**p_min0, 10**p_max0)\n",
    "\n",
    "plt.show\n",
    "png_fname = work_dir+data_name+'_spec.png'\n",
    "# fig.savefig(png_fname)"
   ]
  },
  {
   "attachments": {},
   "cell_type": "markdown",
   "id": "637c35b8",
   "metadata": {},
   "source": [
    "## FT - LOG"
   ]
  },
  {
   "cell_type": "code",
   "execution_count": null,
   "id": "fd7a2679",
   "metadata": {},
   "outputs": [],
   "source": [
    "p_min0 = p_min\n",
    "p_max0 = p_max\n",
    "\n",
    "fig2d = plt.figure(figsize=[12,10])\n",
    "ax1 = fig2d.add_subplot(3, 1, 1)\n",
    "ax2 = fig2d.add_subplot(3, 1, 2)\n",
    "ax3 = fig2d.add_subplot(3, 1, 3)\n",
    "\n",
    "# Y-axis\n",
    "ax1.set_ylim(f_min, f_max)\n",
    "ax2.set_ylim(f_min, f_max)\n",
    "ax3.set_ylim(f_min, f_max)\n",
    "ax1.set_yscale('log')\n",
    "ax2.set_yscale('log')\n",
    "ax3.set_yscale('log')\n",
    "ax1.set_ylabel('Frequency [kHz]')\n",
    "ax2.set_ylabel('Frequency [kHz]')\n",
    "ax3.set_ylabel('Frequency [kHz]')\n",
    "\n",
    "# X-axis\n",
    "ax1.set_title('EuEu (x)')\n",
    "ax2.set_title('EvEv (y)')\n",
    "ax3.set_title('EwEw (z)')\n",
    "date = data.epoch[0]\n",
    "date = date.strftime('%Y/%m/%d')\n",
    "ax3.set_xlabel(date)\n",
    "\n",
    "# Plot\n",
    "p1 = ax1.pcolormesh(Epoch_1d, freq_1d, EuEu_2d, norm=colors.LogNorm(vmin=10**p_min0, vmax=10**p_max0), cmap='jet')\n",
    "p2 = ax2.pcolormesh(Epoch_1d, freq_1d, EvEv_2d, norm=colors.LogNorm(vmin=10**p_min0, vmax=10**p_max0), cmap='jet')\n",
    "p3 = ax3.pcolormesh(Epoch_1d, freq_1d, EwEw_2d, norm=colors.LogNorm(vmin=10**p_min0, vmax=10**p_max0), cmap='jet')\n",
    "\n",
    "pp1 = fig2d.colorbar(p1, ax=ax1, orientation=\"vertical\")\n",
    "pp1.set_label(power_str)\n",
    "pp2 = fig2d.colorbar(p2, ax=ax2, orientation=\"vertical\")\n",
    "pp2.set_label(power_str)\n",
    "pp3 = fig2d.colorbar(p3, ax=ax3, orientation=\"vertical\")\n",
    "pp3.set_label(power_str)\n",
    "\n",
    "plt.show()\n",
    "png_fname = work_dir+data_name+'_FT-log.png'\n",
    "# fig2d.savefig(png_fname)\n"
   ]
  },
  {
   "attachments": {},
   "cell_type": "markdown",
   "id": "d0d979f8",
   "metadata": {},
   "source": [
    "## FT - linear"
   ]
  },
  {
   "cell_type": "code",
   "execution_count": null,
   "id": "542c5749",
   "metadata": {},
   "outputs": [],
   "source": [
    "p_min0 = p_min\n",
    "p_max0 = p_max\n",
    "\n",
    "fig2d = plt.figure(figsize=[12,10])\n",
    "ax1 = fig2d.add_subplot(3, 1, 1)\n",
    "ax2 = fig2d.add_subplot(3, 1, 2)\n",
    "ax3 = fig2d.add_subplot(3, 1, 3)\n",
    "\n",
    "# Y-axis\n",
    "ax1.set_ylim(f_min, f_max)\n",
    "ax2.set_ylim(f_min, f_max)\n",
    "ax3.set_ylim(f_min, f_max)\n",
    "ax1.set_ylabel('f [kHz]')\n",
    "ax2.set_ylabel('f [kHz]')\n",
    "ax3.set_ylabel('f [kHz]')\n",
    "\n",
    "# X-axis\n",
    "ax1.set_title('EuEu (X)')\n",
    "ax2.set_title('EvEv (Z)')\n",
    "ax3.set_title('EwEw (Y)')\n",
    "date = data.epoch[0]\n",
    "date = date.strftime('%Y/%m/%d')\n",
    "ax3.set_xlabel(date)\n",
    "\n",
    "# Plot\n",
    "p1 = ax1.pcolormesh(Epoch_1d, freq_1d, EuEu_2d, norm=colors.LogNorm(vmin=10**p_min0, vmax=10**p_max0), cmap='jet')\n",
    "p2 = ax2.pcolormesh(Epoch_1d, freq_1d, EvEv_2d, norm=colors.LogNorm(vmin=10**p_min0, vmax=10**p_max0), cmap='jet')\n",
    "p3 = ax3.pcolormesh(Epoch_1d, freq_1d, EwEw_2d, norm=colors.LogNorm(vmin=10**p_min0, vmax=10**p_max0), cmap='jet')\n",
    "\n",
    "pp1 = fig2d.colorbar(p1, ax=ax1, orientation=\"vertical\")\n",
    "pp1.set_label(power_str)\n",
    "pp2 = fig2d.colorbar(p2, ax=ax2, orientation=\"vertical\")\n",
    "pp2.set_label(power_str)\n",
    "pp3 = fig2d.colorbar(p3, ax=ax3, orientation=\"vertical\")\n",
    "pp3.set_label(power_str)\n",
    "\n",
    "plt.show()\n",
    "png_fname = work_dir+data_name+'_FT.png'\n",
    "# fig2d.savefig(png_fname)"
   ]
  }
 ],
 "metadata": {
  "kernelspec": {
   "display_name": "Python 3 (ipykernel)",
   "language": "python",
   "name": "python3"
  },
  "language_info": {
   "codemirror_mode": {
    "name": "ipython",
    "version": 3
   },
   "file_extension": ".py",
   "mimetype": "text/x-python",
   "name": "python",
   "nbconvert_exporter": "python",
   "pygments_lexer": "ipython3",
   "version": "3.10.13"
  }
 },
 "nbformat": 4,
 "nbformat_minor": 5
}
