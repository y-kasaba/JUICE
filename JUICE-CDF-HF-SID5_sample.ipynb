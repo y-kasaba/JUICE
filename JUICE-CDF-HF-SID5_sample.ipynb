{
 "cells": [
  {
   "cell_type": "markdown",
   "id": "5ad0cc98",
   "metadata": {},
   "source": [
    "# JUICE RPWI HF SID5 (PSSR1 surv): L1a QL -- 2023/10/29"
   ]
  },
  {
   "attachments": {},
   "cell_type": "markdown",
   "id": "a116756d",
   "metadata": {},
   "source": [
    "# Import lib"
   ]
  },
  {
   "cell_type": "code",
   "execution_count": null,
   "id": "bca50671",
   "metadata": {},
   "outputs": [],
   "source": [
    "import sys\n",
    "import numpy as np\n",
    "import matplotlib.pyplot as plt\n",
    "import matplotlib.colors as colors"
   ]
  },
  {
   "cell_type": "markdown",
   "id": "1f5e8c0c",
   "metadata": {},
   "source": [
    "# CDF and Directory setting: set by User"
   ]
  },
  {
   "cell_type": "code",
   "execution_count": null,
   "id": "6c181f65",
   "metadata": {},
   "outputs": [],
   "source": [
    "# The latest CDF library https://spdf.gsfc.nasa.gov/pub/software/cdf/dist/latest/\n",
    "from spacepy import pycdf\n",
    "\n",
    "# os.environ[\"CDF_LIB\"] = \"C:\\\\Program Files\\\\CDF_Distribution\\\\cdf39_0-dist\\\\lib\"\n",
    "import os\n",
    "os.environ[\"CDF_LIB\"] = \"/Applications/cdf/cdf39_0-dist/lib\"\n",
    "\n",
    "# *** Library ***\n",
    "sys.path.append('./lib/')\n",
    "import juice_cdf_lib as juice_cdf\n",
    "import juice_math_lib as juice_math\n",
    "import juice_sid5_lib as juice_sid5"
   ]
  },
  {
   "attachments": {},
   "cell_type": "markdown",
   "id": "578b15bb",
   "metadata": {},
   "source": [
    "# Setting and Read CDF file: set by User"
   ]
  },
  {
   "cell_type": "code",
   "execution_count": null,
   "id": "05e8da84",
   "metadata": {},
   "outputs": [],
   "source": [
    "# *** Mode set ***\n",
    "unit_mode = 0                           # 0: sum    1: /Hz\n",
    "cal_mode = 0                            # 0: raw    1: dBm＠ADC  2: V@HF   3:V2@HF   4:V2@RWI\n",
    "\n",
    "# *** Parameter set ***\n",
    "cal = 0                                 # 0: background     1: CAL\n",
    "p_raw_max = 8.5                         # background: 7.5   CAL: 10\n",
    "p_raw_min = 2.5                         # background: 2.5   CAL: 5\n",
    "\n",
    "# *** Conversion factor: cal_mode ***\n",
    "cf, p_max, p_min = juice_cdf.cal_factors(unit_mode, cal_mode, cal, p_raw_max, p_raw_min)"
   ]
  },
  {
   "cell_type": "code",
   "execution_count": null,
   "id": "0d556f41",
   "metadata": {},
   "outputs": [],
   "source": [
    "# *** Directory set: set by User ***\n",
    "work_dir = '/Users/user/0-python/JUICE_python/ql/'   # Plot dump folder\n",
    "data_dir = '/Users/user/0-python/JUICE_data/'        # CDF data folder\n",
    "\n",
    "# *** Ver.2 ***\n",
    "\n",
    "# 202310 -- SAMPLE\n",
    "data_name = 'test-CCSDS/sample/cdf/SID05_20231024-0046.cdf'"
   ]
  },
  {
   "attachments": {},
   "cell_type": "markdown",
   "id": "093823c4",
   "metadata": {},
   "source": [
    "# get CDF data"
   ]
  },
  {
   "cell_type": "code",
   "execution_count": null,
   "id": "5353f848",
   "metadata": {},
   "outputs": [],
   "source": [
    "cdf_file = data_dir + data_name\n",
    "%ls $cdf_file\n",
    "\n",
    "cdf = pycdf.CDF(cdf_file)\n",
    "data = juice_sid5.juice_getdata_hf_sid5(cdf)\n",
    "date = data.epoch[0]\n",
    "month = date.strftime('%Y%m')\n",
    "print(data.epoch[0], \"-\", data.epoch[-1], \"[\", month, \"]\")\n",
    "\n",
    "data.EE = data.EE * 10**(cf/10)\n",
    "data.EE_dB = 10.0 * np.log10(data.EE)\n",
    "\n",
    "n_freq = data.EE.shape[1]\n",
    "n_time = data.EE.shape[0]\n",
    "n_time0 = n_time-1\n",
    "print(\"data size:\", data.EE.shape, n_time, n_freq)"
   ]
  },
  {
   "cell_type": "code",
   "execution_count": null,
   "id": "96f894ad",
   "metadata": {},
   "outputs": [],
   "source": [
    "# Mode \n",
    "print(\"[Data Mode]\")\n",
    "N_ch = data.U_selected[0] + data.V_selected[0] + data.W_selected[0]\n",
    "N_component = 1\n",
    "print(\"Ch:\", N_ch, \"  (U:\", data.U_selected[0], \"  V:\", data.V_selected[0], \"  W:\", data.W_selected[0], \")\")\n",
    "N_frequency = data.N_freq[0]   # U_selected[0]np.int16(data.B0_step[0] * data.B0_subdiv[0] / data.subdiv_reduction[0])\n",
    "print(\"==> Component\", N_component, \"   Num-frequency\", N_frequency, \"  Num-sweep:\", n_time)"
   ]
  },
  {
   "attachments": {},
   "cell_type": "markdown",
   "id": "3dbd3949",
   "metadata": {},
   "source": [
    "# Data for checks"
   ]
  },
  {
   "cell_type": "code",
   "execution_count": null,
   "id": "0c0ac766",
   "metadata": {},
   "outputs": [],
   "source": [
    "Epoch_1d = data.epoch.tolist()\n",
    "freq_1d  = data.frequency[0].tolist()\n",
    "freq1  = freq_1d[0:N_frequency]\n",
    "freq_width_1d  = data.freq_width[0].tolist()\n",
    "freq_width1  = freq_width_1d[0:N_frequency]\n",
    "freq_width_2d = data.freq_width.transpose()\n",
    "\n",
    "EE_2d = data.EE.transpose()\n",
    "EE_power1 = data.EE[0][0:N_frequency]\n",
    "EE_power2 = data.EE[n_time0][0:N_frequency]\n",
    "if unit_mode == 1:\n",
    "    EE_2d = EE_2d / freq_width_2d / 1000 * data.subdiv_reduction[0]**0.5\n",
    "    EE_power1 = EE_power1 / freq_width1 / 1000 * data.subdiv_reduction[0]**0.5\n",
    "    EE_power2 = EE_power2 / freq_width1 / 1000 * data.subdiv_reduction[0]**0.5\n",
    "    print(\"frequency width:\", freq_width1[0], data.subdiv_reduction[0])\n",
    "    \n",
    "f_min = freq_1d[0]\n",
    "f_max = freq_1d[N_frequency-1]\n",
    "power_str = juice_cdf.power_label(cal_mode, unit_mode)"
   ]
  },
  {
   "attachments": {},
   "cell_type": "markdown",
   "id": "c661f058",
   "metadata": {},
   "source": [
    "# Raw data"
   ]
  },
  {
   "cell_type": "code",
   "execution_count": null,
   "id": "2ef60e31",
   "metadata": {},
   "outputs": [],
   "source": [
    "fig = plt.figure(figsize=(12, 6))\n",
    "ax1 = fig.add_subplot(3, 1, 1)\n",
    "ax2 = fig.add_subplot(3, 1, 2)\n",
    "ax3 = fig.add_subplot(3, 1, 3)\n",
    "\n",
    "ax1.plot(np.ravel(data.EE), '-r', linewidth=.5)\n",
    "ax1.set_yscale('log')\n",
    "ax2.plot(np.ravel(data.frequency), '-r', linewidth=.5)\n",
    "ax2.plot(np.ravel(data.freq_step*100), '-g', linewidth=.5)\n",
    "ax2.plot(np.ravel(data.freq_width*100), '-b', linewidth=.5)\n",
    "ax3.plot(np.ravel(data.epoch), '.')\n",
    "\n",
    "ax1.set_ylabel('Power [RAW @ ADC]')\n",
    "ax2.set_ylabel('frequency [kHz]')\n",
    "ax3.set_ylabel('Date-Time')\n",
    "date = data.epoch[0]\n",
    "date = date.strftime('%Y/%m/%d')\n",
    "ax3.set_xlabel(date)\n",
    "\n",
    "\"\"\"\n",
    "# range: X-axis\n",
    "xlim=[0, N_frequency]\n",
    "ax1.set_xlim(xlim)\n",
    "ax2.set_xlim(xlim)\n",
    "\"\"\"\n",
    "# range: Y-axis\n",
    "ylim=[10**p_raw_min, 10**p_raw_max]\n",
    "ax1.set_ylim(ylim)\n",
    "ylim=[f_min, f_max]\n",
    "ax2.set_ylim(ylim)\n",
    "\n",
    "# Plot\n",
    "fig.show\n",
    "png_fname = work_dir+data_name+'_raw.png'\n",
    "# fig.savefig(png_fname)"
   ]
  },
  {
   "attachments": {},
   "cell_type": "markdown",
   "id": "dccd566c",
   "metadata": {},
   "source": [
    "## Spec LOG"
   ]
  },
  {
   "cell_type": "code",
   "execution_count": null,
   "id": "7dea4554",
   "metadata": {},
   "outputs": [],
   "source": [
    "# Y-range\n",
    "p_min0 = p_min\n",
    "p_max0 = p_max\n",
    "\n",
    "fig, cal = plt.subplots(figsize=(12, 6))\n",
    "cal.plot(freq1, EE_power1, '-r', linewidth=.5)\n",
    "cal.plot(freq1, EE_power2, '-b', linewidth=.5)\n",
    "\n",
    "cal.set_xlabel('Frequency [kHz]')\n",
    "cal.set_xscale('log')\n",
    "cal.set_xlim(f_min, f_max)\n",
    "\n",
    "cal.set_yscale('log')\n",
    "plt.ylabel(power_str)\n",
    "cal.set_ylim(10**p_min0, 10**p_max0)\n",
    "\n",
    "plt.show\n",
    "png_fname = work_dir+data_name+'_spec-log.png'\n",
    "# fig.savefig(png_fname)"
   ]
  },
  {
   "attachments": {},
   "cell_type": "markdown",
   "id": "cdca7efe",
   "metadata": {},
   "source": [
    "## Spec-linear"
   ]
  },
  {
   "cell_type": "code",
   "execution_count": null,
   "id": "f1597e8c",
   "metadata": {},
   "outputs": [],
   "source": [
    "# Y-range\n",
    "p_min0 = p_min\n",
    "p_max0 = p_max\n",
    "\n",
    "fig, cal = plt.subplots(figsize=(12, 6))\n",
    "cal.plot(freq1, EE_power1, '-r', linewidth=.5)\n",
    "cal.plot(freq1, EE_power2, '-b', linewidth=.5)\n",
    "\n",
    "cal.set_xlabel('Frequency [kHz]')\n",
    "cal.set_xlim(f_min, f_max)\n",
    "\n",
    "cal.set_yscale('log')\n",
    "plt.ylabel(power_str)\n",
    "cal.set_ylim(10**p_min0, 10**p_max0)\n",
    "\n",
    "plt.show\n",
    "png_fname = work_dir+data_name+'_spec.png'\n",
    "# fig.savefig(png_fname)"
   ]
  },
  {
   "attachments": {},
   "cell_type": "markdown",
   "id": "637c35b8",
   "metadata": {},
   "source": [
    "## FT - LOG"
   ]
  },
  {
   "cell_type": "code",
   "execution_count": null,
   "id": "fd7a2679",
   "metadata": {},
   "outputs": [],
   "source": [
    "p_min0 = p_min\n",
    "p_max0 = p_max\n",
    "\n",
    "fig2d = plt.figure(figsize=[12,3])\n",
    "ax1 = fig2d.add_subplot(1, 1, 1)\n",
    "\n",
    "# Y-axis\n",
    "ax1.set_ylim(f_min, f_max)\n",
    "ax1.set_yscale('log')\n",
    "ax1.set_ylabel('Frequency [kHz]')\n",
    "\n",
    "# X-axis\n",
    "ax1.set_title('EE')\n",
    "date = data.epoch[0]\n",
    "date = date.strftime('%Y/%m/%d')\n",
    "ax1.set_xlabel(date)\n",
    "\n",
    "# Plot\n",
    "p1 = ax1.pcolormesh(Epoch_1d, freq_1d, EE_2d, norm=colors.LogNorm(vmin=10**p_min0, vmax=10**p_max0), cmap='jet')\n",
    "\n",
    "pp1 = fig2d.colorbar(p1, ax=ax1, orientation=\"vertical\")\n",
    "pp1.set_label(power_str)\n",
    "\n",
    "plt.show()\n",
    "png_fname = work_dir+data_name+'_FT-log.png'\n",
    "# fig2d.savefig(png_fname)\n"
   ]
  },
  {
   "attachments": {},
   "cell_type": "markdown",
   "id": "d0d979f8",
   "metadata": {},
   "source": [
    "## FT - linear"
   ]
  },
  {
   "cell_type": "code",
   "execution_count": null,
   "id": "542c5749",
   "metadata": {},
   "outputs": [],
   "source": [
    "p_min0 = p_min\n",
    "p_max0 = p_max\n",
    "\n",
    "fig2d = plt.figure(figsize=[12,3])\n",
    "ax1 = fig2d.add_subplot(1, 1, 1)\n",
    "\n",
    "# Y-axis\n",
    "ax1.set_ylim(f_min, f_max)\n",
    "ax1.set_ylabel('f [kHz]')\n",
    "\n",
    "# X-axis\n",
    "ax1.set_title('EE')\n",
    "date = data.epoch[0]\n",
    "date = date.strftime('%Y/%m/%d')\n",
    "ax1.set_xlabel(date)\n",
    "\n",
    "# Plot\n",
    "p1 = ax1.pcolormesh(Epoch_1d, freq_1d, EE_2d, norm=colors.LogNorm(vmin=10**p_min0, vmax=10**p_max0), cmap='jet')\n",
    "\n",
    "pp1 = fig2d.colorbar(p1, ax=ax1, orientation=\"vertical\")\n",
    "pp1.set_label(power_str)\n",
    "\n",
    "plt.show()\n",
    "png_fname = work_dir+data_name+'_FT.png'\n",
    "# fig2d.savefig(png_fname)"
   ]
  }
 ],
 "metadata": {
  "kernelspec": {
   "display_name": "Python 3 (ipykernel)",
   "language": "python",
   "name": "python3"
  },
  "language_info": {
   "codemirror_mode": {
    "name": "ipython",
    "version": 3
   },
   "file_extension": ".py",
   "mimetype": "text/x-python",
   "name": "python",
   "nbconvert_exporter": "python",
   "pygments_lexer": "ipython3",
   "version": "3.10.13"
  }
 },
 "nbformat": 4,
 "nbformat_minor": 5
}
