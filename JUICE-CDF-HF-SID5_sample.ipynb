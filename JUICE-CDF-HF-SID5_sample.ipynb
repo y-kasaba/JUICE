{
 "cells": [
  {
   "cell_type": "markdown",
   "id": "5ad0cc98",
   "metadata": {},
   "source": [
    "# JUICE RPWI HF SID5 (PSSR1 surv): L1a QL -- 2025/7/5"
   ]
  },
  {
   "attachments": {},
   "cell_type": "markdown",
   "id": "a116756d",
   "metadata": {},
   "source": [
    "# Import lib"
   ]
  },
  {
   "cell_type": "code",
   "execution_count": null,
   "id": "bca50671",
   "metadata": {},
   "outputs": [],
   "source": [
    "import copy\n",
    "import datetime\n",
    "import math\n",
    "import matplotlib.colors as colors\n",
    "import matplotlib.pyplot as plt\n",
    "import numpy as np\n",
    "import sys"
   ]
  },
  {
   "cell_type": "markdown",
   "id": "1f5e8c0c",
   "metadata": {},
   "source": [
    "# CDF and Directory setting: set by User"
   ]
  },
  {
   "cell_type": "code",
   "execution_count": null,
   "id": "6c181f65",
   "metadata": {},
   "outputs": [],
   "source": [
    "# The latest CDF library https://spdf.gsfc.nasa.gov/pub/software/cdf/dist/latest/\n",
    "from spacepy import pycdf\n",
    "import os\n",
    "os.environ[\"CDF_LIB\"] = \"/Applications/cdf/cdf39_1-dist/lib\"\n",
    "\n",
    "# *** Library ***\n",
    "sys.path.append('./lib/')\n",
    "import juice_cal_lib   as juice_cal\n",
    "import juice_cdf_lib   as juice_cdf\n",
    "import juice_math_lib  as juice_math\n",
    "import juice_sid5_data as juice_data\n",
    "import juice_sid5_lib  as juice_sid5\n",
    "import juice_spec_lib  as juice_spec"
   ]
  },
  {
   "cell_type": "markdown",
   "id": "c70be7eb",
   "metadata": {},
   "source": [
    "# Setting and Read CDF file: set by User"
   ]
  },
  {
   "cell_type": "code",
   "execution_count": null,
   "id": "27815392",
   "metadata": {},
   "outputs": [],
   "source": [
    "# *** Dump ***\n",
    "dump_mode = 2                           # 0: no-dump  1:plot dump\n",
    "# *** CAL ***\n",
    "unit_mode = 2                           # [Power]     0: raw     1: V＠ADC     2: V@HF    3: V@RWI  4: V/m\n",
    "band_mode = 0                           # [Power]     0: sum     1: /Hz\n",
    "cal_mode  = 2                           # [Power]     0: background     1: CAL     2: all\n",
    "# *** Unit ***\n",
    "f_mode    = 1                           # [Frequency] 0: linear  1: log\n",
    "time_mode = 1                           # [Time]      0: Epoch   1: data number\n",
    "gap_mode  = 1                           # [gap]       0: n/a     1: gap\n",
    "# *** Power range ***\n",
    "p_raw_max = 8.5                         # background: 7.5   CAL: 10\n",
    "p_raw_min = 1.0                         # background: 2.5   CAL: 5\n",
    "# *** Directory set: set by User ***\n",
    "work_dir = '/Users/user/0-python/JUICE_python/ql/'   # Plot dump folder"
   ]
  },
  {
   "cell_type": "code",
   "execution_count": null,
   "id": "c8527547",
   "metadata": {},
   "outputs": [],
   "source": [
    "E_min = '2024-08-19 20:30:00';  t_min0 = datetime.datetime.strptime(E_min, \"%Y-%m-%d %H:%M:%S\")\n",
    "E_max = '2024-08-19 20:40:00';  t_max0 = datetime.datetime.strptime(E_max, \"%Y-%m-%d %H:%M:%S\")\n",
    "t_min0 = 0;  t_max0 = 0"
   ]
  },
  {
   "cell_type": "markdown",
   "id": "462daef7",
   "metadata": {},
   "source": [
    "# get CDF data"
   ]
  },
  {
   "cell_type": "code",
   "execution_count": null,
   "id": "427b8ab4",
   "metadata": {},
   "outputs": [],
   "source": [
    "# date='20240909'\n",
    "# date='20250331'; ver = 'V02'\n",
    "date='0'; ver = 'V02'\n",
    "data_dir, data_name_list = juice_data.datalist(date, ver)       # [date]   yyyymmdd: group read    others: file list"
   ]
  },
  {
   "cell_type": "code",
   "execution_count": null,
   "id": "1187075c",
   "metadata": {},
   "outputs": [],
   "source": [
    "class struct:\n",
    "    pass\n",
    "\n",
    "data = struct()\n",
    "num_list = len(data_name_list)\n",
    "for i in range(num_list):\n",
    "    data_name = data_name_list[i];  cdf_file = data_dir + data_name;  print(i, cdf_file)\n",
    "    RPWI_FSW_version = juice_cdf._RPWI_FSW_version(cdf_file)\n",
    "    cdf = pycdf.CDF(cdf_file);      data1 = juice_sid5.hf_sid5_read(cdf, RPWI_FSW_version)\n",
    "    if i==0:\n",
    "        data = data1;                               print(data.EE.shape)\n",
    "    else:\n",
    "        data = juice_sid5.hf_sid5_add(data, data1); print(data.EE.shape)\n",
    "data_name = os.path.split(data_name)[1];            print(\"data name:\", data_name)"
   ]
  },
  {
   "cell_type": "code",
   "execution_count": null,
   "id": "6bc4e7a2",
   "metadata": {},
   "outputs": [],
   "source": [
    "data = juice_sid5.hf_sid5_shaping(data, cal_mode)"
   ]
  },
  {
   "cell_type": "code",
   "execution_count": null,
   "id": "89f4e8a5",
   "metadata": {},
   "outputs": [],
   "source": [
    "date1 = data.epoch[0];  date1 = date1.strftime('%Y/%m/%d %R:%S')\n",
    "date2 = data.epoch[-1]; date2 = date2.strftime('%Y/%m/%d %R:%S')\n",
    "str_date = date1 + \"  -  \" + date2\n",
    "n_time0 = data.EE.shape[0];     n_freq0 = data.EE.shape[1]\n",
    "f_min0  = data.frequency[0][0]; f_max0  = (max(np.ravel(data.frequency)))\n",
    "\n",
    "print(\"       date and time:\", str_date)\n",
    "print(\"           data size:\", data.EE.shape, \"  [ Num-samples:\", n_time0, \"  Num-Frequency:\", n_freq0, \"]\")\n",
    "print(\"           Frequency:\", f_min0,  \"-\", f_max0, \"kHz\")\n",
    "print(\"f, width, step (kHz):\", f_min0,  \"-\", f_max0, data.freq_width[0][0], data.freq_step[0][0])\n",
    "\n",
    "# N_ch0     = data.U_selected[0] + data.V_selected[0] + data.W_selected[0]\n",
    "print(\"                  Ch:\", data.ch_selected[0])\n",
    "#\n",
    "N_frequency = data.n_step \n",
    "N_component = 1;    print(\"       ==> Component:\", N_component)"
   ]
  },
  {
   "cell_type": "markdown",
   "id": "cbc01f76",
   "metadata": {},
   "source": [
    "# Spectrum Data"
   ]
  },
  {
   "cell_type": "code",
   "execution_count": null,
   "id": "3f5252fb",
   "metadata": {},
   "outputs": [],
   "source": [
    "T_HF  = data.T_HF_FPGA[n_time0//2];  T_RWI = (data.T_RWI_CH1[n_time0//2] + data.T_RWI_CH2[n_time0//2])/2\n",
    "print(\"Temperature(org): \", 'HF - {:.1f}'.format(T_HF), '  RWI - {:.1f}'.format(T_RWI))\n",
    "if T_HF  > 199 or T_HF  < -50 or math.isnan(T_HF):\n",
    "   T_HF  = 25;  data.T_HF_FPGA[:] = math.nan\n",
    "if T_RWI > 199 or T_RWI < -199 or math.isnan(T_RWI):\n",
    "   T_RWI = 25;  data.T_RWI_CH1[:] = math.nan;  data.T_RWI_CH2[:] = math.nan\n",
    "print(\"Temperature(cal): \", 'HF - {:.1f}'.format(T_HF), '  RWI - {:.1f}'.format(T_RWI))"
   ]
  },
  {
   "cell_type": "code",
   "execution_count": null,
   "id": "1b013e63",
   "metadata": {},
   "outputs": [],
   "source": [
    "spec = copy.deepcopy(data)\n",
    "spec = juice_cal.spec_cal(spec,   5, unit_mode, band_mode, T_HF, T_RWI)     # CAL\n",
    "\n",
    "Epoch_1d  = spec.epoch.tolist();      n_time1 = spec.EE.shape[0];   num_1d = np.arange(n_time1)\n",
    "freq_1d   = spec.freq  [n_time1//2];  n_freq1 = freq_1d.shape[0];   f_min0 = freq_1d[0];  f_max0  = freq_1d[-1]\n",
    "freq_w_1d = spec.freq_w[n_time1//2]\n",
    "\n",
    "# NAN\n",
    "if gap_mode == 1 and time_mode == 0:\n",
    "    for i in range(n_time1-1):\n",
    "        if spec.scet[i+1]-spec.scet[i] > 60:\n",
    "            print(\"[gap]\", i, spec.epoch[i], i+1, spec.epoch[i+1])\n",
    "            juice_sid5.spec_nan(spec, i);  juice_sid5.spec_nan(spec, i+1)"
   ]
  },
  {
   "cell_type": "code",
   "execution_count": null,
   "id": "6860b7e2",
   "metadata": {},
   "outputs": [],
   "source": [
    "p_max0 = p_raw_max + spec.cf/10;  p_min0 = p_raw_min + spec.cf/10\n",
    "p_max0 = np.ceil(np.log10( np.nanmax(spec.EE) )*5)/5+.5\n",
    "p_min0 = np.ceil(np.log10( np.nanmin(spec.EE) )*5)/5-.5\n",
    "p_max  = p_max0;                  p_min  = p_min0\n",
    "print(\"conversion factor:\", '{:.1f}'.format(spec.cf), \"    MAX-min:\", '{:.1f}'.format(p_max), '({:.1f})'.format(p_max0), '{:.1f}'.format(p_min), '({:.1f})'.format(p_min0), \"   str_unit:\", spec.str_unit)"
   ]
  },
  {
   "cell_type": "markdown",
   "id": "2919de3e",
   "metadata": {},
   "source": [
    "### Peak"
   ]
  },
  {
   "cell_type": "code",
   "execution_count": null,
   "id": "98eb8814",
   "metadata": {},
   "outputs": [],
   "source": [
    "# print(\"N_samp:\", data.N_samp[0], \"   decimation:\", juice_cdf._sample_rate(data.decimation[0]))\n",
    "peak_E = np.ravel(spec.EE[:][:]); peak_f = np.nanargmax(peak_E)\n",
    "print(\"Peak EE:\", '{:.2e}'.format(peak_E[peak_f]), spec.str_unit, ' {:.2e}'.format(peak_E[peak_f]**.5), '  |  {:.2e}'.format( (peak_E[peak_f-2]+peak_E[peak_f-1]+peak_E[peak_f]+peak_E[peak_f+1]+peak_E[peak_f+2])), spec.str_unit, ' {:.2e}'.format( (peak_E[peak_f-2]+peak_E[peak_f-1]+peak_E[peak_f]+peak_E[peak_f+1]+peak_E[peak_f+2])**.5))\n",
    "if unit_mode==0:\n",
    "    peak_E = np.ravel(spec.EE[:][:]); peak_f = np.nanargmax(peak_E);  print(\"Peak EuEu:\", '{:10.0f}'.format(peak_E[peak_f]), '{:x}'.format(np.int64(peak_E[peak_f])))"
   ]
  },
  {
   "cell_type": "code",
   "execution_count": null,
   "id": "97a29d2c",
   "metadata": {},
   "outputs": [],
   "source": [
    "n_sweep = n_time1//2;  peak_E = np.ravel(spec.EE[n_sweep]);  peak_f = np.nanargmax(peak_E); \n",
    "print(f\"[SWEEP - {n_sweep}]  Peak at\", '{:.1f}'.format(freq_1d[peak_f]), \"kHz\", peak_f)\n",
    "print(\"     EE:\", '{:+.2e}'.format(np.ravel(spec.EE   [n_sweep])[peak_f]), spec.str_unit)"
   ]
  },
  {
   "cell_type": "code",
   "execution_count": null,
   "id": "4d00461d",
   "metadata": {},
   "outputs": [],
   "source": [
    "n_sweep1 = 0;  n_sweep2 = n_time0//2;  n_sweep3 = n_time0-1\n",
    "peak_E = np.ravel(spec.EE[n_sweep1]); peak_f = np.nanargmax(peak_E); print(f\"[First peak - {n_sweep1}]  EE:\", '{:.2e}'.format(peak_E[peak_f]), spec.str_unit, '{:.2e}'.format(peak_E[peak_f]**.5), '{:.1f} kHz'.format(freq_1d[peak_f]))\n",
    "peak_E = np.ravel(spec.EE[n_sweep2]); peak_f = np.nanargmax(peak_E); print(f\"[Mid   peak - {n_sweep2}]  EE:\", '{:.2e}'.format(peak_E[peak_f]), spec.str_unit, '{:.2e}'.format(peak_E[peak_f]**.5), '{:.1f} kHz'.format(freq_1d[peak_f]))\n",
    "peak_E = np.ravel(spec.EE[n_sweep3]); peak_f = np.nanargmax(peak_E); print(f\"[Last  peak - {n_sweep3}]  EE:\", '{:.2e}'.format(peak_E[peak_f]), spec.str_unit, '{:.2e}'.format(peak_E[peak_f]**.5), '{:.1f} kHz'.format(freq_1d[peak_f]))"
   ]
  },
  {
   "attachments": {},
   "cell_type": "markdown",
   "id": "3dbd3949",
   "metadata": {},
   "source": [
    "### Spectrum plot"
   ]
  },
  {
   "cell_type": "code",
   "execution_count": null,
   "id": "db011fa4",
   "metadata": {},
   "outputs": [],
   "source": [
    "fig = plt.figure(figsize=(14, 11))\n",
    "ax1 = fig.add_subplot(4, 1, 1);  ax7 = fig.add_subplot(4, 1, 2);  ax8 = fig.add_subplot(4, 1, 3);  ax9 = fig.add_subplot(4, 1, 4)\n",
    "\n",
    "ax1.plot(np.ravel(spec.EE),             '-r', linewidth=1.2, label='EE')\n",
    "ax1.set_yscale('log')\n",
    "ax7.plot(np.ravel(data.frequency),      '-r', linewidth=0.6, label='frequency')\n",
    "ax7.plot(np.ravel(data.freq_step*10),   '-g', linewidth=0.8, label='step*10')\n",
    "ax7.plot(np.ravel(data.freq_width*10),  ':b', linewidth=1.0, label='width*10')\n",
    "ax8.plot(np.ravel(data.T_HF_FPGA),      ':r', label='T (HK-FPGA)')\n",
    "ax8.plot(np.ravel(data.T_RWI_CH1),      ':b', label='T (RWI1)')\n",
    "ax8.plot(np.ravel(data.T_RWI_CH2),      ':g', label='T (RWI2)')\n",
    "ax8.plot(np.ravel(data.cal_signal*10),  '-k', label='CAL')\n",
    "ax9.plot(np.ravel(data.epoch),          '.')\n",
    "\n",
    "ax1.set_ylabel(spec.str_unit)\n",
    "ax7.set_ylabel('frequency [kHz]');    ax8.set_ylabel('T [degC]');   ax9.set_ylabel('Date-Time');  ax9.set_xlabel(str_date)\n",
    "#\n",
    "title_label = '[JUICE/RPWI HF PSSR1-Surv (SID-5)]  ' + data_name;  ax1.set_title(title_label)\n",
    "ax1.legend(loc='upper right', fontsize=8);     ax7.legend(loc='upper right', fontsize=8); ax8.legend(loc='upper right', fontsize=8)\n",
    "\n",
    "xlim=[-.5, len(np.ravel(data.EE))   -.5]; print(xlim); ax1.set_xlim(xlim); ax7.set_xlim(xlim)\n",
    "xlim=[-.5, len(np.ravel(data.epoch))-.5]; print(xlim); ax8.set_xlim(xlim); ax9.set_xlim(xlim)\n",
    "# ylim=[10**p_min, 10**p_max];                ax1.set_ylim(ylim)\n",
    "ylim=[f_min0, f_max0];  ax7.set_ylim(ylim)\n",
    "\n",
    "fig.subplots_adjust(hspace=0);  fig.show\n",
    "if dump_mode == 1:\n",
    "    png_fname = work_dir+data_name+'_raw.png'\n",
    "    fig.savefig(png_fname)"
   ]
  },
  {
   "cell_type": "code",
   "execution_count": null,
   "id": "df63d7fd",
   "metadata": {},
   "outputs": [],
   "source": [
    "n_time = n_time1//2\n",
    "fig = plt.figure(figsize=(14, 11))\n",
    "ax1 = fig.add_subplot(2, 1, 1);  ax7 = fig.add_subplot(2, 1, 2)\n",
    "\n",
    "ax1.plot(spec.EE[n_time],            '-r', linewidth=1.2, label='EE')\n",
    "ax1.set_yscale('log')\n",
    "ax7.plot(data.frequency[n_time],     '-r', linewidth=0.6, label='frequency')\n",
    "ax7.plot(data.freq_step[n_time]*10,  '-g', linewidth=0.8, label='step*10')\n",
    "ax7.plot(data.freq_width[n_time]*10, ':b', linewidth=1.0, label='width*10')\n",
    "\n",
    "ax1.set_ylabel(spec.str_unit)\n",
    "ax7.set_ylabel('frequency [kHz]');    ax7.set_xlabel(data.epoch[n_time].strftime('%Y/%m/%d %R:%S') + '  [in ' + str_date + ']')\n",
    "#\n",
    "title_label = '[JUICE/RPWI HF PSSR1-Rich (SID-21)]  ' + data_name;  ax1.set_title(title_label)\n",
    "ax1.legend(loc='upper right', fontsize=8);      ax7.legend(loc='upper right', fontsize=8)\n",
    "\n",
    "xlim=[0, n_freq0];  ax1.set_xlim(xlim); ax7.set_xlim(xlim)\n",
    "# ylim=[10**p_raw_min, 10**p_raw_max]; # ax1.set_ylim(ylim)\n",
    "ylim=[f_min0, f_max0];  ax7.set_ylim(ylim)\n",
    "\n",
    "fig.subplots_adjust(hspace=0);  fig.show\n",
    "if dump_mode == 1:\n",
    "    png_fname = work_dir+data_name+'_raw2.png'\n",
    "    fig.savefig(png_fname)"
   ]
  },
  {
   "cell_type": "code",
   "execution_count": null,
   "id": "2ed1d3d4",
   "metadata": {},
   "outputs": [],
   "source": [
    "print(\"CAL_sig:\", data.cal_signal)"
   ]
  },
  {
   "attachments": {},
   "cell_type": "markdown",
   "id": "dccd566c",
   "metadata": {},
   "source": [
    "### FT Plot data"
   ]
  },
  {
   "cell_type": "code",
   "execution_count": null,
   "id": "b14e8229",
   "metadata": {},
   "outputs": [],
   "source": [
    "# Normal spectrum plots\n",
    "EE_2d      = spec.EE.transpose();       EE_med      = np.nanmedian(spec.EE,      axis=0)\n",
    "f_min0 = freq_1d[0];  f_max0 = freq_1d[N_frequency-1]\n",
    "print(spec.str_unit, \"   f_MAX/min:\", f_max0, f_min0, \"   num of f, step, window:\", N_frequency, data.freq_step[0][0], data.freq_width[0][0])"
   ]
  },
  {
   "cell_type": "code",
   "execution_count": null,
   "id": "0c0ac766",
   "metadata": {},
   "outputs": [],
   "source": [
    "\"\"\"\n",
    "Epoch_1d      = data.epoch.tolist()\n",
    "freq_1d       = data.frequency[0].tolist()\n",
    "freq1         = freq_1d[0:N_frequency]\n",
    "freq_width_1d = data.freq_width[0].tolist()\n",
    "freq_width1   = freq_width_1d[0:N_frequency]\n",
    "\n",
    "EE_2d = data.EE.transpose()\n",
    "# EE_power1 = data.EE[0][0:N_frequency]\n",
    "# EE_power2 = data.EE[n_time0][0:N_frequency]\n",
    "#\n",
    "freq_width_2d = data.freq_width.transpose()\n",
    "if band_mode == 1:\n",
    "    EE_2d = EE_2d / freq_width_2d / 1000 * data.subdiv_reduction[0]\n",
    "    # EE_power1 = EE_power1 / freq_width1 / 1000 * data.subdiv_reduction[0]\n",
    "    # EE_power2 = EE_power2 / freq_width1 / 1000 * data.subdiv_reduction[0]\n",
    "f_min0 = freq_1d[0]\n",
    "f_max0 = freq_1d[N_frequency-1]\n",
    "# power_str = juice_cdf.power_label(band_mode, unit_mode)\n",
    "\"\"\""
   ]
  },
  {
   "cell_type": "code",
   "execution_count": null,
   "id": "eab6e00c",
   "metadata": {},
   "outputs": [],
   "source": [
    "n0 = 0;  n1 = n_time0//2;   n2 = n_time0-1\n",
    "p_min = p_min0;  p_max = p_max0\n",
    "f_min = f_min0;  f_max = f_max0\n",
    "\n",
    "fig = plt.figure(figsize=(14, 11))\n",
    "ax1 = fig.add_subplot(1, 1, 1)\n",
    "\n",
    "ax1.plot(freq_1d, EE_med,      '-y',  linewidth=3.0, label='med')\n",
    "ax1.plot(freq_1d, spec.EE[n0], ':r',  linewidth=1.0, label='init')\n",
    "ax1.plot(freq_1d, spec.EE[n1], '-.r', linewidth=1.0, label='half')\n",
    "ax1.plot(freq_1d, spec.EE[n2], '-r',  linewidth=1.0, label='end')\n",
    "ax1.set_yscale('log')\n",
    "if f_mode == 1: ax1.set_xscale('log')\n",
    "\n",
    "ax1.set_ylabel(spec.str_unit)\n",
    "ax1.set_xlabel('frequency [Hz]')\n",
    "\n",
    "date1 = data.epoch[n0];  date1 = date1.strftime('%Y/%m/%d %R:%S')\n",
    "date2 = data.epoch[n1];  date2 = date2.strftime('%Y/%m/%d %R:%S')\n",
    "date3 = data.epoch[n2];  date3 = date3.strftime('%Y/%m/%d %R:%S')\n",
    "title_date = \"[\" + data_name + \"]  \" + date1 + \"  -  \" + date2 + \"  -  \" + date3;  ax1.set_title(title_date)\n",
    "ax1.legend(loc='upper right', fontsize=8)\n",
    "\n",
    "xlim=[f_min, f_max];  ax1.set_xlim(xlim)\n",
    "ylim=[10**p_min, 10**p_max]; ax1.set_ylim(ylim)\n",
    "\n",
    "fig.subplots_adjust(hspace=0);  fig.show\n",
    "if dump_mode > 0:\n",
    "    png_fname = work_dir+data_name+'_spec.png'\n",
    "    if f_mode == 1:\n",
    "        png_fname = work_dir+data_name+'_spec-log.png'\n",
    "    fig.savefig(png_fname)"
   ]
  },
  {
   "attachments": {},
   "cell_type": "markdown",
   "id": "637c35b8",
   "metadata": {},
   "source": [
    "## FT"
   ]
  },
  {
   "cell_type": "code",
   "execution_count": null,
   "id": "fd7a2679",
   "metadata": {},
   "outputs": [],
   "source": [
    "# Y-range\n",
    "f_min = f_min0;      f_max = f_max0\n",
    "# Z-range\n",
    "p_min = p_min0;      p_max = p_max0\n",
    "\n",
    "fig2d = plt.figure(figsize=[16,11])\n",
    "ax1 = fig2d.add_subplot(1, 1, 1)\n",
    "\n",
    "# Y-axis\n",
    "ax1.set_ylim(f_min, f_max)\n",
    "if f_mode == 1:\n",
    "    ax1.set_yscale('log')\n",
    "ax1.set_ylabel('Frequency [kHz]')\n",
    "\n",
    "# X-axis\n",
    "ax1.set_title(\"[\" + data_name + \"]  \" + 'EE')\n",
    "ax1.set_xlabel(str_date)\n",
    "\n",
    "# Plot\n",
    "p1 = ax1.pcolormesh(Epoch_1d, freq_1d, EE_2d, norm=colors.LogNorm(vmin=10**p_min, vmax=10**p_max), cmap='jet')\n",
    "\n",
    "pp1 = fig2d.colorbar(p1, ax=ax1, orientation=\"vertical\");  pp1.set_label(spec.str_unit)\n",
    "\n",
    "plt.show()\n",
    "if dump_mode > 0:\n",
    "    png_fname = work_dir+data_name+'_FT.png'\n",
    "    if f_mode == 1:\n",
    "        png_fname = work_dir+data_name+'_FT-log.png'\n",
    "    fig2d.savefig(png_fname)\n"
   ]
  }
 ],
 "metadata": {
  "kernelspec": {
   "display_name": "3.11",
   "language": "python",
   "name": "python3"
  },
  "language_info": {
   "codemirror_mode": {
    "name": "ipython",
    "version": 3
   },
   "file_extension": ".py",
   "mimetype": "text/x-python",
   "name": "python",
   "nbconvert_exporter": "python",
   "pygments_lexer": "ipython3",
   "version": "3.11.10"
  }
 },
 "nbformat": 4,
 "nbformat_minor": 5
}
