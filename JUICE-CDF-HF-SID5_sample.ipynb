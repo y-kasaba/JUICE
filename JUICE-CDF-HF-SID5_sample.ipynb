{
 "cells": [
  {
   "cell_type": "markdown",
   "id": "5ad0cc98",
   "metadata": {},
   "source": [
    "# JUICE RPWI HF SID5 (PSSR1 surv): L1a QL -- 2023/11/18"
   ]
  },
  {
   "attachments": {},
   "cell_type": "markdown",
   "id": "a116756d",
   "metadata": {},
   "source": [
    "# Import lib"
   ]
  },
  {
   "cell_type": "code",
   "execution_count": null,
   "id": "bca50671",
   "metadata": {},
   "outputs": [],
   "source": [
    "import sys\n",
    "import numpy as np\n",
    "import matplotlib.pyplot as plt\n",
    "import matplotlib.colors as colors"
   ]
  },
  {
   "cell_type": "markdown",
   "id": "1f5e8c0c",
   "metadata": {},
   "source": [
    "# CDF and Directory setting: set by User"
   ]
  },
  {
   "cell_type": "code",
   "execution_count": null,
   "id": "6c181f65",
   "metadata": {},
   "outputs": [],
   "source": [
    "# The latest CDF library https://spdf.gsfc.nasa.gov/pub/software/cdf/dist/latest/\n",
    "from spacepy import pycdf\n",
    "\n",
    "# os.environ[\"CDF_LIB\"] = \"C:\\\\Program Files\\\\CDF_Distribution\\\\cdf39_0-dist\\\\lib\"\n",
    "import os\n",
    "os.environ[\"CDF_LIB\"] = \"/Applications/cdf/cdf39_0-dist/lib\"\n",
    "\n",
    "# *** Library ***\n",
    "sys.path.append('./lib/')\n",
    "import juice_cdf_lib as juice_cdf\n",
    "import juice_math_lib as juice_math\n",
    "import juice_sid5_lib as juice_sid5"
   ]
  },
  {
   "attachments": {},
   "cell_type": "markdown",
   "id": "578b15bb",
   "metadata": {},
   "source": [
    "# Setting and Read CDF file: set by User"
   ]
  },
  {
   "cell_type": "code",
   "execution_count": null,
   "id": "05e8da84",
   "metadata": {},
   "outputs": [],
   "source": [
    "# *** Mode set ***\n",
    "unit_mode = 0                           # 0: sum    1: /Hz\n",
    "cal_mode = 2                            # 0: raw    1: dBm＠ADC  2: V@HF   3:V2@HF   4:V2@RWI\n",
    "f_mode = 1                              # 0: linear   1:log  in frequency\n",
    "dump_mode = 1                           # 0: no-dump  1:plot dump\n",
    "\n",
    "# *** Parameter set ***\n",
    "cal = 0                                 # 0: background     1: CAL\n",
    "p_raw_max = 10.0                        # background: 7.5   CAL: 10\n",
    "p_raw_min = 4.0                         # background: 2.5   CAL: 5\n",
    "\n",
    "# *** Conversion factor: cal_mode ***\n",
    "cf, p_max, p_min = juice_cdf.cal_factors(unit_mode, cal_mode, cal, p_raw_max, p_raw_min)"
   ]
  },
  {
   "cell_type": "code",
   "execution_count": null,
   "id": "0d556f41",
   "metadata": {},
   "outputs": [],
   "source": [
    "# *** Directory set: set by User ***\n",
    "work_dir = '/Users/user/0-python/JUICE_python/ql/'   # Plot dump folder\n",
    "\n",
    "# *** Ver.2 ***\n",
    "# 202310 -- SAMPLE\n",
    "data_dir = '/Users/user/0-python/JUICE_data/test-CCSDS/sample/cdf/'        # CDF data folder\n",
    "data_name = 'SID05_20231024-0046.cdf'\n",
    "data_name = 'SID05_20231117-1603.cdf'\n",
    "data_name = 'SID05_20231117-1611.cdf'\n",
    "\n",
    "# 202310 -- FS\n",
    "#data_dir = '/Users/user/0-python/JUICE_data/test-TMIDX/202310_FS/cdf/'        # CDF data folder\n",
    "#data_name = 'SID05_Seq01.cdf'"
   ]
  },
  {
   "attachments": {},
   "cell_type": "markdown",
   "id": "093823c4",
   "metadata": {},
   "source": [
    "# get CDF data"
   ]
  },
  {
   "cell_type": "code",
   "execution_count": null,
   "id": "5353f848",
   "metadata": {},
   "outputs": [],
   "source": [
    "cdf_file = data_dir + data_name\n",
    "%ls $cdf_file\n",
    "\n",
    "cdf = pycdf.CDF(cdf_file)\n",
    "data = juice_sid5.juice_getdata_hf_sid5(cdf, cf)\n",
    "\n",
    "date1 = data.epoch[0]\n",
    "date1 = date1.strftime('%Y/%m/%d %R:%S')\n",
    "date2 = data.epoch[-1]\n",
    "date2 = date2.strftime('%Y/%m/%d %R:%S')\n",
    "str_date = date1 + \"  -  \" + date2\n",
    "print(str_date)\n",
    "\n",
    "n_freq = data.EE.shape[1]\n",
    "n_time = data.EE.shape[0]\n",
    "n_time0 = n_time-1\n",
    "print(\"data size:\", data.EE.shape, n_time, n_freq)"
   ]
  },
  {
   "cell_type": "code",
   "execution_count": null,
   "id": "96f894ad",
   "metadata": {},
   "outputs": [],
   "source": [
    "# Mode \n",
    "print(\"[Data Mode]\")\n",
    "N_ch = data.U_selected[0] + data.V_selected[0] + data.W_selected[0]\n",
    "N_component = 1\n",
    "print(\"Ch:\", N_ch, \"  (U:\", data.U_selected[0], \"  V:\", data.V_selected[0], \"  W:\", data.W_selected[0], \")\")\n",
    "N_frequency = data.N_freq[0]   # U_selected[0]np.int16(data.B0_step[0] * data.B0_subdiv[0] / data.subdiv_reduction[0])\n",
    "print(\"==> Component\", N_component, \"   Num-frequency\", N_frequency, \"  Num-sweep:\", n_time)"
   ]
  },
  {
   "attachments": {},
   "cell_type": "markdown",
   "id": "3dbd3949",
   "metadata": {},
   "source": [
    "# Data for checks"
   ]
  },
  {
   "cell_type": "code",
   "execution_count": null,
   "id": "0c0ac766",
   "metadata": {},
   "outputs": [],
   "source": [
    "Epoch_1d      = data.epoch.tolist()\n",
    "freq_1d       = data.frequency[0].tolist()\n",
    "freq1         = freq_1d[0:N_frequency]\n",
    "freq_width_1d = data.freq_width[0].tolist()\n",
    "freq_width1   = freq_width_1d[0:N_frequency]\n",
    "\n",
    "EE_2d = data.EE.transpose()\n",
    "# EE_power1 = data.EE[0][0:N_frequency]\n",
    "# EE_power2 = data.EE[n_time0][0:N_frequency]\n",
    "#\n",
    "freq_width_2d = data.freq_width.transpose()\n",
    "if unit_mode == 1:\n",
    "    EE_2d = EE_2d / freq_width_2d / 1000 * data.subdiv_reduction[0]\n",
    "    # EE_power1 = EE_power1 / freq_width1 / 1000 * data.subdiv_reduction[0]\n",
    "    # EE_power2 = EE_power2 / freq_width1 / 1000 * data.subdiv_reduction[0]\n",
    "    \"\"\"\n",
    "    print(\"frequency width:\", freq_width1[0], data.subdiv_reduction[0])\n",
    "    \"\"\"\n",
    "\n",
    "f_min = freq_1d[0]\n",
    "f_max = freq_1d[N_frequency-1]\n",
    "power_str = juice_cdf.power_label(cal_mode, unit_mode)"
   ]
  },
  {
   "attachments": {},
   "cell_type": "markdown",
   "id": "c661f058",
   "metadata": {},
   "source": [
    "# Raw data"
   ]
  },
  {
   "cell_type": "code",
   "execution_count": null,
   "id": "2ef60e31",
   "metadata": {},
   "outputs": [],
   "source": [
    "fig = plt.figure(figsize=(12, 8))\n",
    "ax1 = fig.add_subplot(3, 1, 1)\n",
    "ax2 = fig.add_subplot(3, 1, 2)\n",
    "ax3 = fig.add_subplot(3, 1, 3)\n",
    "\n",
    "ax1.plot(np.ravel(data.EE), '-r', linewidth=.5, label='EE')\n",
    "ax1.set_yscale('log')\n",
    "#\n",
    "ax2.plot(np.ravel(data.frequency),      '-r', linewidth=0.6, label='frequency')\n",
    "ax2.plot(np.ravel(data.freq_step*100),  '-g', linewidth=0.8, label='step*100')\n",
    "ax2.plot(np.ravel(data.freq_width*100), ':b', linewidth=1.0, label='width*100')\n",
    "ax3.plot(np.ravel(data.epoch), '.')\n",
    "\n",
    "ax1.set_ylabel(power_str)\n",
    "ax2.set_ylabel('frequency [kHz]')\n",
    "ax3.set_ylabel('Date-Time')\n",
    "ax3.set_xlabel(str_date)\n",
    "#\n",
    "title_label = '[JUICE/RPWI HF PSSR1-Surv (SID-5)]  ' + data_name\n",
    "ax1.set_title(title_label);  \n",
    "ax1.legend(loc='upper right', fontsize=8); ax2.legend(loc='upper right', fontsize=8);\n",
    "\n",
    "\"\"\"\n",
    "# range: X-axis\n",
    "xlim=[0, N_frequency]\n",
    "ax1.set_xlim(xlim)\n",
    "ax2.set_xlim(xlim)\n",
    "# range: Y-axis\n",
    "ylim=[10**p_raw_min, 10**p_raw_max]\n",
    "ax1.set_ylim(ylim)\n",
    "\"\"\"\n",
    "ylim=[f_min, f_max]\n",
    "ax2.set_ylim(ylim)\n",
    "\n",
    "# Plot\n",
    "fig.show\n",
    "if dump_mode == 1:\n",
    "    png_fname = work_dir+data_name+'_raw.png'\n",
    "    fig.savefig(png_fname)"
   ]
  },
  {
   "attachments": {},
   "cell_type": "markdown",
   "id": "dccd566c",
   "metadata": {},
   "source": [
    "## Spec"
   ]
  },
  {
   "cell_type": "code",
   "execution_count": null,
   "id": "7dea4554",
   "metadata": {},
   "outputs": [],
   "source": [
    "# Sweep_num\n",
    "n0 = 0\n",
    "n1 = np.int16(n_time0/2)\n",
    "n2 = n_time0\n",
    "# X-range\n",
    "f_min0 = f_min;  f_max0 = f_max\n",
    "# Y-range\n",
    "p_min0 = p_min;  p_max0 = p_max\n",
    "\n",
    "fig, cal = plt.subplots(figsize=(12, 8))\n",
    "\n",
    "cal.plot(freq1, data.EE[n0][0:N_frequency], '-r', linewidth=1.0, label='uu init')\n",
    "cal.plot(freq1, data.EE[n1][0:N_frequency], '-g', linewidth=1.0, label='uu half')\n",
    "cal.plot(freq1, data.EE[n2][0:N_frequency], '-b', linewidth=1.0, label='uu end')\n",
    "cal.set_yscale('log')\n",
    "if f_mode == 1:\n",
    "    cal.set_xscale('log')\n",
    "\n",
    "# Label\n",
    "cal.set_ylabel(power_str)\n",
    "cal.set_xlabel('Frequency [kHz]')\n",
    "#\n",
    "date1 = data.epoch[n0];  date1 = date1.strftime('%Y/%m/%d %R:%S')\n",
    "date2 = data.epoch[n1];  date2 = date2.strftime('%Y/%m/%d %R:%S')\n",
    "date3 = data.epoch[n2];  date3 = date3.strftime('%Y/%m/%d %R:%S')\n",
    "title_date = \"[\" + data_name + \"]  \" + date1 + \"  -  \" + date2 + \"  -  \" + date3 \n",
    "cal.set_title(title_date)\n",
    "cal.legend(loc='upper right', fontsize=8)\n",
    "\n",
    "# range: X-axis\n",
    "xlim=[f_min0, f_max0];           cal.set_xlim(xlim)\n",
    "# range: Y-axis\n",
    "ylim=[10**p_min0, 10**p_max0];   cal.set_ylim(ylim)\n",
    "\n",
    "plt.show\n",
    "if dump_mode == 1:\n",
    "    png_fname = work_dir+data_name+'_spec.png'\n",
    "    if f_mode == 1:\n",
    "        png_fname = work_dir+data_name+'_spec-log.png'\n",
    "    fig.savefig(png_fname)"
   ]
  },
  {
   "attachments": {},
   "cell_type": "markdown",
   "id": "637c35b8",
   "metadata": {},
   "source": [
    "## FT"
   ]
  },
  {
   "cell_type": "code",
   "execution_count": null,
   "id": "fd7a2679",
   "metadata": {},
   "outputs": [],
   "source": [
    "# Y-range\n",
    "f_min0 = f_min;      f_max0 = f_max\n",
    "# Z-range\n",
    "p_min0 = p_min;      p_max0 = p_max\n",
    "\n",
    "fig2d = plt.figure(figsize=[12,8])\n",
    "ax1 = fig2d.add_subplot(1, 1, 1)\n",
    "\n",
    "# Y-axis\n",
    "ax1.set_ylim(f_min0, f_max0)\n",
    "if f_mode == 1:\n",
    "    ax1.set_yscale('log')\n",
    "ax1.set_ylabel('Frequency [kHz]')\n",
    "\n",
    "# X-axis\n",
    "ax1.set_title(\"[\" + data_name + \"]  \" + 'EE')\n",
    "ax1.set_xlabel(str_date)\n",
    "\n",
    "# Plot\n",
    "p1 = ax1.pcolormesh(Epoch_1d, freq_1d, EE_2d, norm=colors.LogNorm(vmin=10**p_min0, vmax=10**p_max0), cmap='jet')\n",
    "\n",
    "pp1 = fig2d.colorbar(p1, ax=ax1, orientation=\"vertical\");  pp1.set_label(power_str)\n",
    "\n",
    "plt.show()\n",
    "if dump_mode == 1:\n",
    "    png_fname = work_dir+data_name+'_FT.png'\n",
    "    if f_mode == 1:\n",
    "        png_fname = work_dir+data_name+'_FT-log.png'\n",
    "    fig2d.savefig(png_fname)\n"
   ]
  }
 ],
 "metadata": {
  "kernelspec": {
   "display_name": "Python 3 (ipykernel)",
   "language": "python",
   "name": "python3"
  },
  "language_info": {
   "codemirror_mode": {
    "name": "ipython",
    "version": 3
   },
   "file_extension": ".py",
   "mimetype": "text/x-python",
   "name": "python",
   "nbconvert_exporter": "python",
   "pygments_lexer": "ipython3",
   "version": "3.10.13"
  }
 },
 "nbformat": 4,
 "nbformat_minor": 5
}
