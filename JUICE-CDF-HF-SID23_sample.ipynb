{
 "cells": [
  {
   "cell_type": "markdown",
   "id": "5ad0cc98",
   "metadata": {},
   "source": [
    "# JUICE RPWI HF SID23 (PSSR3 rich): L1a QL -- 2023/10/30"
   ]
  },
  {
   "attachments": {},
   "cell_type": "markdown",
   "id": "a116756d",
   "metadata": {},
   "source": [
    "# Import lib"
   ]
  },
  {
   "cell_type": "code",
   "execution_count": null,
   "id": "bca50671",
   "metadata": {},
   "outputs": [],
   "source": [
    "import sys\n",
    "import numpy as np\n",
    "import matplotlib.pyplot as plt\n",
    "import matplotlib.colors as colors"
   ]
  },
  {
   "cell_type": "markdown",
   "id": "1f5e8c0c",
   "metadata": {},
   "source": [
    "# CDF and Directory setting: set by User"
   ]
  },
  {
   "cell_type": "code",
   "execution_count": null,
   "id": "6c181f65",
   "metadata": {},
   "outputs": [],
   "source": [
    "# The latest CDF library https://spdf.gsfc.nasa.gov/pub/software/cdf/dist/latest/\n",
    "from spacepy import pycdf\n",
    "\n",
    "import os\n",
    "os.environ[\"CDF_LIB\"] = \"/Applications/cdf/cdf39_0-dist/lib\"\n",
    "\n",
    "# *** Library ***\n",
    "sys.path.append('./lib/')\n",
    "import juice_cdf_lib as juice_cdf\n",
    "import juice_math_lib as juice_math\n",
    "import juice_sid23_lib as juice_sid23"
   ]
  },
  {
   "attachments": {},
   "cell_type": "markdown",
   "id": "578b15bb",
   "metadata": {},
   "source": [
    "# Setting and Read CDF file: set by User"
   ]
  },
  {
   "cell_type": "code",
   "execution_count": null,
   "id": "05e8da84",
   "metadata": {},
   "outputs": [],
   "source": [
    "# *** Mode set ***\n",
    "unit_mode = 0                           # 0: sum    1: /Hz\n",
    "cal_mode = 0                            # 0: raw    1: dBm＠ADC  2: V@HF   3:V2@HF   4:V2@RWI\n",
    "\n",
    "# *** Parameter set ***\n",
    "cal = 0                                 # 0: background     1: CAL\n",
    "p_raw_max = 8.5                         # background: 7.5   CAL: 10\n",
    "p_raw_min = 1.0                         # background: 2.5   CAL: 5\n",
    "\n",
    "# *** Conversion factor: cal_mode ***\n",
    "cf, p_max, p_min = juice_cdf.cal_factors(0, cal_mode, cal, p_raw_max, p_raw_min)"
   ]
  },
  {
   "cell_type": "code",
   "execution_count": null,
   "id": "0d556f41",
   "metadata": {},
   "outputs": [],
   "source": [
    "# *** Directory set: set by User ***\n",
    "work_dir = '/Users/user/0-python/JUICE_python/ql/'   # Plot dump folder\n",
    "data_dir = '/Users/user/0-python/JUICE_data/'        # CDF data folder\n",
    "\n",
    "# *** Ver.2 ***\n",
    "\n",
    "# 202310 -- SAMPLE\n",
    "data_name = 'test-CCSDS/sample/cdf/SID23_20231024-0011.cdf'\n",
    "# data_name = 'test-CCSDS/sample/cdf/SID23_20231024-0024.cdf'\n",
    "# data_name = 'test-CCSDS/sample/cdf/SID23_20231024-0034.cdf'\n"
   ]
  },
  {
   "attachments": {},
   "cell_type": "markdown",
   "id": "093823c4",
   "metadata": {},
   "source": [
    "# get CDF data"
   ]
  },
  {
   "cell_type": "code",
   "execution_count": null,
   "id": "5353f848",
   "metadata": {},
   "outputs": [],
   "source": [
    "cdf_file = data_dir + data_name\n",
    "%ls $cdf_file\n",
    "\n",
    "cdf = pycdf.CDF(cdf_file)\n",
    "data = juice_sid23.juice_getdata_hf_sid23(cdf)\n",
    "\n",
    "# epoch\n",
    "date = data.epoch[0]\n",
    "month = date.strftime('%Y%m')\n",
    "print(data.epoch[0], \"-\", data.epoch[-1], \"[\", month, \"]\")\n",
    "\n",
    "# data\n",
    "data.Eu_i = data.Eu_i * 10**(cf/10)\n",
    "data.Ev_i = data.Ev_i * 10**(cf/10)\n",
    "data.Ew_i = data.Ew_i * 10**(cf/10)\n",
    "data.Eu_q = data.Eu_q * 10**(cf/10)\n",
    "data.Ev_q = data.Ev_q * 10**(cf/10)\n",
    "data.Ew_q = data.Ew_q * 10**(cf/10)\n",
    "\n",
    "n_time0 = data.n_time - 1\n",
    "n_time = data.Eu_i.shape[0]\n",
    "n_samp = data.Eu_i.shape[1]\n",
    "print(\"data size:\", data.Eu_i.shape)\n",
    "\n",
    "n_block = data.N_block[0]\n",
    "n_length = data.N_feed[0]*128\n",
    "freq_center = data.freq_center[0]"
   ]
  },
  {
   "cell_type": "code",
   "execution_count": null,
   "id": "96f894ad",
   "metadata": {},
   "outputs": [],
   "source": [
    "# Mode \n",
    "N_ch = data.U_selected[0] + data.V_selected[0] + data.W_selected[0]\n",
    "print(\"Ch:\", N_ch, \"  (U:\", data.U_selected[0], \"  V:\", data.V_selected[0], \"  W:\", data.W_selected[0], \")\")\n",
    "print(\"==> Num-samples:\", n_time, \"   Num-Block:\", n_block, \"   Length:\", n_length, \"  frequency_center:\", freq_center, \"[kHz]\")"
   ]
  },
  {
   "attachments": {},
   "cell_type": "markdown",
   "id": "c661f058",
   "metadata": {},
   "source": [
    "# Raw data"
   ]
  },
  {
   "cell_type": "code",
   "execution_count": null,
   "id": "2ef60e31",
   "metadata": {},
   "outputs": [],
   "source": [
    "fig = plt.figure(figsize=(12, 16))\n",
    "ax1 = fig.add_subplot(8, 1, 1)\n",
    "ax3 = fig.add_subplot(8, 1, 2)\n",
    "ax5 = fig.add_subplot(8, 1, 3)\n",
    "ax7 = fig.add_subplot(8, 1, 4)\n",
    "ax8 = fig.add_subplot(8, 1, 5)\n",
    "ax2 = fig.add_subplot(8, 1, 6)\n",
    "ax4 = fig.add_subplot(8, 1, 7)\n",
    "ax6 = fig.add_subplot(8, 1, 8)\n",
    "\n",
    "ax1.plot(np.ravel(data.Eu_i[:][:]), '-b', linewidth=.5)\n",
    "ax1.plot(np.ravel(data.Eu_q[:][:]), ':r', linewidth=.5)\n",
    "ax2.plot(np.ravel(data.Eu_i[:][:]), '-b', linewidth=.5)\n",
    "ax2.plot(np.ravel(data.Eu_q[:][:]), ':r', linewidth=.5)\n",
    "ax3.plot(np.ravel(data.Ev_i[:][:]), '-b', linewidth=.5)\n",
    "ax3.plot(np.ravel(data.Ev_q[:][:]), ':r', linewidth=.5)\n",
    "ax4.plot(np.ravel(data.Ev_i[:][:]), '-b', linewidth=.5)\n",
    "ax4.plot(np.ravel(data.Ev_q[:][:]), ':r', linewidth=.5)\n",
    "ax5.plot(np.ravel(data.Ew_i[:][:]), '-b', linewidth=.5)\n",
    "ax5.plot(np.ravel(data.Ew_q[:][:]), ':r', linewidth=.5)\n",
    "ax6.plot(np.ravel(data.Ew_i[:][:]), '-b', linewidth=.5)\n",
    "ax6.plot(np.ravel(data.Ew_q[:][:]), ':r', linewidth=.5)\n",
    "ax7.plot(np.ravel(data.time[:]), linewidth=.5)\n",
    "ax8.plot(np.ravel(data.epoch[:]), '.')\n",
    "ax1.set_ylabel('Eu [RAW @ ADC]')\n",
    "ax2.set_ylabel('Eu (1st 100)')\n",
    "ax3.set_ylabel('Ev [RAW @ ADC]')\n",
    "ax4.set_ylabel('Ev (1st 100)')\n",
    "ax5.set_ylabel('Ew [RAW @ ADC]')\n",
    "ax6.set_ylabel('Ew (1st 100)')\n",
    "ax7.set_ylabel('Time')\n",
    "date = data.epoch[0]\n",
    "date = date.strftime('%Y/%m/%d')\n",
    "ax8.set_ylabel(date)\n",
    "\n",
    "# range: X-axis\n",
    "xlim=[0, len(np.ravel(data.Eu_i[:][:]))]\n",
    "ax1.set_xlim(xlim)\n",
    "ax3.set_xlim(xlim)\n",
    "ax5.set_xlim(xlim)\n",
    "ax7.set_xlim(xlim)\n",
    "xlim=[128 * data.N_feed[0] * 0, 128 * data.N_feed[0] * .1]\n",
    "ax2.set_xlim(xlim)\n",
    "ax4.set_xlim(xlim)\n",
    "ax6.set_xlim(xlim)\n",
    "\"\"\"\n",
    "# range: Y-axis\n",
    "ylim=[-10**(p_raw_max/.2), 10**(p_raw_max/.2)]\n",
    "ax1.set_ylim(ylim)\n",
    "ax2.set_ylim(ylim)\n",
    "ax3.set_ylim(ylim)\n",
    "\"\"\"\n",
    "\n",
    "# Plot\n",
    "fig.show\n",
    "png_fname = work_dir+data_name+'_raw.png'\n",
    "# fig.savefig(png_fname)"
   ]
  },
  {
   "cell_type": "markdown",
   "id": "a2b60696",
   "metadata": {},
   "source": [
    "# Get Spectrum"
   ]
  },
  {
   "cell_type": "code",
   "execution_count": null,
   "id": "9e87c2af",
   "metadata": {},
   "outputs": [],
   "source": [
    "# Spec mode:           0: low resolution  1; high resolution  \n",
    "spec = juice_sid23.hf_sid23_getspec(data, unit_mode)\n",
    "power_str = juice_cdf.power_label(cal_mode, unit_mode)\n",
    "#\n",
    "n_time = spec.EuEu.shape[0]\n",
    "n_block = spec.EuEu.shape[1]\n",
    "n_freq = spec.EuEu.shape[2]\n",
    "f_min = spec.freq[0]\n",
    "f_max = spec.freq[n_freq-1]\n",
    "d_freq = spec.freq[1]-spec.freq[0]\n",
    "\n",
    "print(spec.EuEu.shape, \"n_time:\", n_time, \"n_block:\", n_block, \"n_freq:\", n_freq)\n",
    "print(f_min, \"kHz -\", f_max, \"kHz  (Center:\", data.freq_center[0], \"kHz  df:\", d_freq, \"kHz\")"
   ]
  },
  {
   "cell_type": "markdown",
   "id": "fc5e1a7b",
   "metadata": {},
   "source": [
    "# Spectrum"
   ]
  },
  {
   "cell_type": "code",
   "execution_count": null,
   "id": "353a311a",
   "metadata": {},
   "outputs": [],
   "source": [
    "fig = plt.figure(figsize=(12, 10))\n",
    "ax1 = fig.add_subplot(4, 1, 1)\n",
    "ax4 = fig.add_subplot(4, 1, 2)\n",
    "ax5 = fig.add_subplot(4, 1, 3)\n",
    "ax6 = fig.add_subplot(4, 1, 4)\n",
    "\n",
    "s = spec.EuEu[0][0]\n",
    "print(spec.freq.shape, s.shape)\n",
    "\n",
    "ax1.plot(np.ravel(spec.EuEu[0][:][:]), '-r', linewidth=.5)\n",
    "ax1.plot(np.ravel(spec.EvEv[0][:][:]), '-b', linewidth=.5)\n",
    "ax1.plot(np.ravel(spec.EwEw[0][:][:]), '-b', linewidth=.5)\n",
    "#\n",
    "ax4.plot(spec.freq, np.ravel(spec.EuEu[0][0][:]), '-r', linewidth=.5)\n",
    "ax5.plot(spec.freq, np.ravel(spec.EvEv[0][0][:]), '-r', linewidth=.5)\n",
    "ax6.plot(spec.freq, np.ravel(spec.EwEw[0][0][:]), '-r', linewidth=.5)\n",
    "ax4.plot(spec.freq, np.ravel(spec.EuEu[0][np.int16(n_block/2)][:]), '-g', linewidth=.5)\n",
    "ax5.plot(spec.freq, np.ravel(spec.EvEv[0][np.int16(n_block/2)][:]), '-g', linewidth=.5)\n",
    "ax6.plot(spec.freq, np.ravel(spec.EwEw[0][np.int16(n_block/2)][:]), '-g', linewidth=.5)\n",
    "ax4.plot(spec.freq, np.ravel(spec.EuEu[0][n_block-1][:]), '-b', linewidth=.5)\n",
    "ax5.plot(spec.freq, np.ravel(spec.EvEv[0][n_block-1][:]), '-b', linewidth=.5)\n",
    "ax6.plot(spec.freq, np.ravel(spec.EwEw[0][n_block-1][:]), '-b', linewidth=.5)\n",
    "ax1.set_ylabel('EE [RAW @ ADC]')\n",
    "ax4.set_ylabel('EuEu [RAW @ ADC]')\n",
    "ax5.set_ylabel('EvEv [RAW @ ADC]')\n",
    "ax6.set_ylabel('EwEw [RAW @ ADC]')\n",
    "ax1.set_yscale('log')\n",
    "ax4.set_yscale('log')\n",
    "ax5.set_yscale('log')\n",
    "ax6.set_yscale('log')\n",
    "\n",
    "# TMP: no filter\n",
    "ax4.plot(spec.freq, np.ravel(spec.EuEu0[0][0][:]), ':r', linewidth=.5)\n",
    "ax5.plot(spec.freq, np.ravel(spec.EvEv0[0][0][:]), ':r', linewidth=.5)\n",
    "ax6.plot(spec.freq, np.ravel(spec.EwEw0[0][0][:]), ':r', linewidth=.5)\n",
    "ax4.plot(spec.freq, np.ravel(spec.EuEu0[0][np.int16(n_block/2)][:]), ':g', linewidth=.5)\n",
    "ax5.plot(spec.freq, np.ravel(spec.EvEv0[0][np.int16(n_block/2)][:]), ':g', linewidth=.5)\n",
    "ax6.plot(spec.freq, np.ravel(spec.EwEw0[0][np.int16(n_block/2)][:]), ':g', linewidth=.5)\n",
    "ax4.plot(spec.freq, np.ravel(spec.EuEu0[0][n_block-1][:]), ':b', linewidth=.5)\n",
    "ax5.plot(spec.freq, np.ravel(spec.EvEv0[0][n_block-1][:]), ':b', linewidth=.5)\n",
    "ax6.plot(spec.freq, np.ravel(spec.EwEw0[0][n_block-1][:]), ':b', linewidth=.5)\n",
    "\n",
    "\"\"\"\n",
    "# range: X-axis\n",
    "xlim=[0, len(np.ravel(data.Eu_i[:][:]))]\n",
    "ax1.set_xlim(xlim)\n",
    "ax3.set_xlim(xlim)\n",
    "ax5.set_xlim(xlim)\n",
    "ax7.set_xlim(xlim)\n",
    "xlim=[128 * data.N_feed[0] * 0, 128 * data.N_feed[0] * .1]\n",
    "ax2.set_xlim(xlim)\n",
    "ax4.set_xlim(xlim)\n",
    "ax6.set_xlim(xlim)\n",
    "\"\"\"\n",
    "# range: Y-axis\n",
    "ylim=[10**(p_raw_min-4), 10**(p_raw_max)]\n",
    "ax1.set_ylim(ylim)\n",
    "ax2.set_ylim(ylim)\n",
    "ax3.set_ylim(ylim)\n",
    "ax4.set_ylim(ylim)\n",
    "ax5.set_ylim(ylim)\n",
    "ax6.set_ylim(ylim)\n",
    "\n",
    "# Plot\n",
    "plt.show()\n",
    "png_fname = work_dir+data_name+'_spec.png'\n",
    "# fig.savefig(png_fname)"
   ]
  },
  {
   "cell_type": "markdown",
   "id": "2abf2ad2",
   "metadata": {},
   "source": [
    "# Frequency - Time diagram"
   ]
  },
  {
   "cell_type": "code",
   "execution_count": null,
   "id": "d32ee3e8",
   "metadata": {},
   "outputs": [],
   "source": [
    "p_min0 = p_min - 4\n",
    "p_max0 = p_max\n",
    "n_num = n_time * n_block\n",
    "EuEu_2d = np.ravel(spec.EuEu[0])\n",
    "EvEv_2d = np.ravel(spec.EvEv[0])\n",
    "EwEw_2d = np.ravel(spec.EwEw[0])\n",
    "EuEu_2d = EuEu_2d.reshape(n_num, n_freq).transpose()\n",
    "EvEv_2d = EvEv_2d.reshape(n_num, n_freq).transpose()\n",
    "EwEw_2d = EwEw_2d.reshape(n_num, n_freq).transpose()\n",
    "num_1d = np.arange(n_num)\n",
    "\n",
    "fig2d = plt.figure(figsize=[12,10])\n",
    "ax1 = fig2d.add_subplot(3, 1, 1)\n",
    "ax2 = fig2d.add_subplot(3, 1, 2)\n",
    "ax3 = fig2d.add_subplot(3, 1, 3)\n",
    "\n",
    "# Y-axis\n",
    "ax1.set_ylim(f_min, f_max)\n",
    "ax2.set_ylim(f_min, f_max)\n",
    "ax3.set_ylim(f_min, f_max)\n",
    "ax1.set_ylabel('f [kHz]')\n",
    "ax2.set_ylabel('f [kHz]')\n",
    "ax3.set_ylabel('f [kHz]')\n",
    "\n",
    "# X-axis\n",
    "ax1.set_title('EuEu')\n",
    "ax2.set_title('EvEv')\n",
    "ax3.set_title('EwEw')\n",
    "date = data.epoch[0]\n",
    "date = date.strftime('%Y/%m/%d')\n",
    "ax3.set_xlabel(date)\n",
    "\n",
    "# Plot\n",
    "p1 = ax1.pcolormesh(num_1d, spec.freq, EuEu_2d[:], norm=colors.LogNorm(vmin=10**p_min0, vmax=10**p_max0), cmap='jet')\n",
    "p2 = ax2.pcolormesh(num_1d, spec.freq, EvEv_2d[:], norm=colors.LogNorm(vmin=10**p_min0, vmax=10**p_max0), cmap='jet')\n",
    "p3 = ax3.pcolormesh(num_1d, spec.freq, EwEw_2d[:], norm=colors.LogNorm(vmin=10**p_min0, vmax=10**p_max0), cmap='jet')\n",
    "\n",
    "pp1 = fig2d.colorbar(p1, ax=ax1, orientation=\"vertical\")\n",
    "pp1.set_label(power_str)\n",
    "pp2 = fig2d.colorbar(p2, ax=ax2, orientation=\"vertical\")\n",
    "pp2.set_label(power_str)\n",
    "pp3 = fig2d.colorbar(p3, ax=ax3, orientation=\"vertical\")\n",
    "pp3.set_label(power_str)\n",
    "\n",
    "plt.show()\n",
    "png_fname = work_dir+data_name+'_FT.png'\n",
    "# fig2d.savefig(png_fname)"
   ]
  }
 ],
 "metadata": {
  "kernelspec": {
   "display_name": "Python 3 (ipykernel)",
   "language": "python",
   "name": "python3"
  },
  "language_info": {
   "codemirror_mode": {
    "name": "ipython",
    "version": 3
   },
   "file_extension": ".py",
   "mimetype": "text/x-python",
   "name": "python",
   "nbconvert_exporter": "python",
   "pygments_lexer": "ipython3",
   "version": "3.10.13"
  }
 },
 "nbformat": 4,
 "nbformat_minor": 5
}
