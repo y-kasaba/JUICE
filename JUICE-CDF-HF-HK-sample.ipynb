{
 "cells": [
  {
   "attachments": {},
   "cell_type": "markdown",
   "metadata": {},
   "source": [
    "# JUICE RPWI HF HK: QL -- 2024/9/12"
   ]
  },
  {
   "cell_type": "code",
   "execution_count": null,
   "metadata": {},
   "outputs": [],
   "source": [
    "import datetime\n",
    "import matplotlib.pyplot as plt\n",
    "import numpy as np\n",
    "import sys"
   ]
  },
  {
   "cell_type": "code",
   "execution_count": null,
   "metadata": {},
   "outputs": [],
   "source": [
    "# The latest CDF library https://spdf.gsfc.nasa.gov/pub/software/cdf/dist/latest/\n",
    "import os\n",
    "os.environ[\"CDF_LIB\"] = \"/Applications/cdf/cdf39_1-dist/lib\"\n",
    "\n",
    "sys.path.append('./lib/')\n",
    "import juice_hk_lib as juice_hk"
   ]
  },
  {
   "cell_type": "code",
   "execution_count": null,
   "metadata": {},
   "outputs": [],
   "source": [
    "dump_mode = 1"
   ]
  },
  {
   "cell_type": "markdown",
   "metadata": {},
   "source": [
    "# Setting and Read CDF file: set by User"
   ]
  },
  {
   "cell_type": "code",
   "execution_count": null,
   "metadata": {},
   "outputs": [],
   "source": [
    "# V1-software\n",
    "#date='20230523'\n",
    "#date='20230526'\n",
    "#date='20230601'\n",
    "#date='20230712'\n",
    "\n",
    "# Ground\n",
    "#date='all'\n",
    "#date='RPWI_S7_P1'\n",
    "#date='RPWI_S7_P1_switch'\n",
    "#date='RPWI_S8_P1'\n",
    "#date='RPWI_S8_P2_switch'\n",
    "#date='RPWI_S9_P2'\n",
    "#date='RPWI_S9_P2_delta'\n",
    "#date='RPWI_S11_P2'\n",
    "#date='RPWI_S11_P2_delta'\n",
    "#date='RPWI_S12_P2'\n",
    "#date='RPWI_S12_P2_switch'\n",
    "#date='RPWI_S13_P2'\n",
    "#date='RPWI_S14_P2'\n",
    "#date='RPWI_S15_P2'\n",
    "#date='RPWI_S17_P3_P4'\n",
    "#date='RPWI_S17_P4_switch'\n",
    "#date='RPWI_S18_P4_switch'\n",
    "#date='RPWI_S19_P4'\n",
    "#date='RPWI_S20_P4'\n",
    "#date='RPWI_S21_P4'\n",
    "#date='RPWI_S21_P4_SWITCH'\n",
    "#date='RPWI_S22_P4_P5'\n",
    "#date='RPWI_S23_P5'\n",
    "#date='RPWI_S24_P5'\n",
    "#date='RPWI_S24_P5_SWITCH'\n",
    "#date='RPWI_S25_P4_SWITCH'\n",
    "#date='RPWI_S25_P5'\n",
    "#date='RPWI_S40_P10'\n",
    "#date='RPWI_S64_S12_SWITCH'"
   ]
  },
  {
   "cell_type": "code",
   "execution_count": null,
   "metadata": {},
   "outputs": [],
   "source": [
    "# V2-software\n",
    "# date='20240125'\n",
    "# date='20240126'\n",
    "# date='20240701'\n",
    "# date='20240702'\n",
    "# date='20240706'\n",
    "# date='20240819'\n",
    "# date='20240820'\n",
    "# date='20240821'\n",
    "# date='20240822'\n",
    "# date='20240823'\n",
    "date='20240909'\n",
    "\n",
    "# Ground\n",
    "# date='HK'           # linked to /Users/user/0-python/JUICE_data/HK/HK/"
   ]
  },
  {
   "cell_type": "code",
   "execution_count": null,
   "metadata": {},
   "outputs": [],
   "source": [
    "# *** Directory set: set by User ***\n",
    "work_dir = '/Users/user/0-python/JUICE_python/ql/'          # Plot dump folder\n",
    "\n",
    "if date[0:2] == '20':\n",
    "    base_dir = '/Users/user/D-Univ/data/data-JUICE/datasets/'\n",
    "elif date[0:2] == 'HK':\n",
    "    base_dir = '/Users/user/0-python/JUICE_data/HK/'        # Ground test   [with Link revision]\n",
    "else:\n",
    "    base_dir = '/Users/user/0-python/JUICE_data/SYS/'       # Prelaunch System Test\n",
    "print(base_dir)"
   ]
  },
  {
   "attachments": {},
   "cell_type": "markdown",
   "metadata": {},
   "source": [
    "# (1) read CDF files"
   ]
  },
  {
   "cell_type": "code",
   "execution_count": null,
   "metadata": {},
   "outputs": [],
   "source": [
    "# HF: 32\n",
    "if date[0:2] == '20' or date[0:2] == 'HK':\n",
    "    data_hf, err_hf = juice_hk.juice_readhk(date, 'LWYHK00032', base_dir=base_dir)\n",
    "else:\n",
    "    data_hf, err_hf = juice_hk.juice_readhk(date, 'LWY_HK_00032', base_dir=base_dir)\n",
    "if err_hf == 0: \n",
    "    print(\"==> read HF-HK\")\n",
    "    hk_hf = juice_hk.juice_gethk_hf(data_hf, 0)\n",
    "    err_hf2 = 1\n",
    "else:\n",
    "    data_hf, err_hf = juice_hk.juice_readhk(date, 'LWYHK10033', base_dir=base_dir)\n",
    "    if err_hf == 0:\n",
    "        print(\"==> read HF-HK2\")\n",
    "        hk_hf = juice_hk.juice_gethk_hf(data_hf, 1)\n",
    "        err_hf2 = 0\n",
    "    else: \n",
    "        print(\"==> no HF-HK\")\n",
    "        err_hf2 = 1"
   ]
  },
  {
   "cell_type": "code",
   "execution_count": null,
   "metadata": {},
   "outputs": [],
   "source": [
    "# DPU: 64\n",
    "if date[0:2] == '20' or date[0:2] == 'HK':\n",
    "    data_dpu, err_dpu = juice_hk.juice_readhk(date, 'LWYHK00064', base_dir=base_dir)\n",
    "else:\n",
    "    data_dpu, err_dpu = juice_hk.juice_readhk(date, 'LWY_HK_00064', base_dir=base_dir)\n",
    "if err_dpu == 0:\n",
    "    print(\"==> read DPU-HK\")\n",
    "    hk_dpu = juice_hk.juice_gethk_dpu(data_dpu, 0)\n",
    "    err_dpu2 = 1\n",
    "else: \n",
    "    data_dpu, err_dpu = juice_hk.juice_readhk(date, 'LWYHK10064', base_dir=base_dir)\n",
    "    if err_dpu == 0:\n",
    "        print(\"read DPU HK2\")\n",
    "        hk_dpu = juice_hk.juice_gethk_dpu(data_dpu, 1)\n",
    "        err_dpu2 = 0\n",
    "    else: \n",
    "        print(\"==> no DPU-HK\")"
   ]
  },
  {
   "cell_type": "code",
   "execution_count": null,
   "metadata": {},
   "outputs": [],
   "source": [
    "# LVPS: 80\n",
    "if date[0:2] == '20' or date[0:2] == 'HK':\n",
    "    data_lvps, err_lvps = juice_hk.juice_readhk(date, 'LWYHK00080', base_dir=base_dir)\n",
    "else:\n",
    "    data_lvps, err_lvps = juice_hk.juice_readhk(date, 'LWY_HK_00080', base_dir=base_dir)\n",
    "if err_lvps == 0:\n",
    "    print(\"==> read LVPS-HK\")\n",
    "    hk_lvps = juice_hk.juice_gethk_lvps(data_lvps)\n",
    "else: \n",
    "    print(\"==> no LVPS HK\")"
   ]
  },
  {
   "cell_type": "code",
   "execution_count": null,
   "metadata": {},
   "outputs": [],
   "source": [
    "if err_hf == 0 or err_hf2 == 0:\n",
    "    temp_lim = [-150.0, 100.0]\n",
    "    temp_rwi_ch1 = np.where((hk_hf.temp_rwi_ch1 < temp_lim[0]) |\n",
    "                          (hk_hf.temp_rwi_ch1 > temp_lim[1]), np.nan, hk_hf.temp_rwi_ch1)\n",
    "    temp_rwi_ch2 = np.where((hk_hf.temp_rwi_ch2 < temp_lim[0]) |\n",
    "                          (hk_hf.temp_rwi_ch2 > temp_lim[1]), np.nan, hk_hf.temp_rwi_ch2)\n",
    "    temp_hf_fpga = np.where((hk_hf.temp_hf_fpga < temp_lim[0]) |\n",
    "                            (hk_hf.temp_hf_fpga > temp_lim[1]), np.nan, hk_hf.temp_hf_fpga)\n",
    "\n",
    "    # ICD\n",
    "    temp_rwi_ch1_rev = np.where((hk_hf.temp_rwi_ch1_rev < temp_lim[0]) |\n",
    "                          (hk_hf.temp_rwi_ch1_rev > temp_lim[1]), np.nan, hk_hf.temp_rwi_ch1_rev)\n",
    "    temp_rwi_ch2_rev = np.where((hk_hf.temp_rwi_ch2_rev < temp_lim[0]) |\n",
    "                          (hk_hf.temp_rwi_ch2_rev > temp_lim[1]), np.nan, hk_hf.temp_rwi_ch2_rev)\n",
    "    temp_hf_fpga_rev = np.where((hk_hf.temp_hf_fpga_rev < temp_lim[0]) |\n",
    "                            (hk_hf.temp_hf_fpga_rev > temp_lim[1]), np.nan, hk_hf.temp_hf_fpga_rev)\n",
    "\n",
    "    # onboard\n",
    "    temp_rwi_ch1_rev2 = np.where((hk_hf.temp_rwi_ch1_rev2 < temp_lim[0]) |\n",
    "                          (hk_hf.temp_rwi_ch1_rev2 > temp_lim[1]), np.nan, hk_hf.temp_rwi_ch1_rev2)\n",
    "    temp_rwi_ch2_rev2 = np.where((hk_hf.temp_rwi_ch2_rev2 < temp_lim[0]) |\n",
    "                          (hk_hf.temp_rwi_ch2_rev2 > temp_lim[1]), np.nan, hk_hf.temp_rwi_ch2_rev2)\n",
    "    temp_hf_fpga_rev2 = np.where((hk_hf.temp_hf_fpga_rev2 < temp_lim[0]) |\n",
    "                            (hk_hf.temp_hf_fpga_rev2 > temp_lim[1]), np.nan, hk_hf.temp_hf_fpga_rev2)\n",
    "    \n",
    "    # RAW\n",
    "    temp_rwi_ch1_raw = np.where((hk_hf.temp_rwi_ch1_rev < temp_lim[0]) |\n",
    "                          (hk_hf.temp_rwi_ch1_rev > temp_lim[1]), np.nan, hk_hf.temp_rwi_ch1_raw)\n",
    "    temp_rwi_ch2_raw = np.where((hk_hf.temp_rwi_ch2_rev < temp_lim[0]) |\n",
    "                          (hk_hf.temp_rwi_ch2_rev > temp_lim[1]), np.nan, hk_hf.temp_rwi_ch1_raw)\n",
    "    temp_hf_fpga_raw = np.where((hk_hf.temp_hf_fpga_rev < temp_lim[0]) |\n",
    "                            (hk_hf.temp_hf_fpga_rev > temp_lim[1]), np.nan, hk_hf.temp_hf_fpga_raw)"
   ]
  },
  {
   "attachments": {},
   "cell_type": "markdown",
   "metadata": {},
   "source": [
    "# (2) Plot HK values"
   ]
  },
  {
   "cell_type": "code",
   "execution_count": null,
   "metadata": {},
   "outputs": [],
   "source": [
    "title_label = 'JUICE/RPWI HF HK ' + date[0:4] + '-' + date[4:6] + '-' + date[6:8]\n",
    "fig, (ax1, ax2, ax3, ax4) = plt.subplots(4, figsize=(14, 11), sharex=True)\n",
    "\n",
    "if err_hf == 0:\n",
    "    # ax1.plot(hk_hf.epoch, temp_hf_fpga, '.c', markersize=6, linewidth=0.5, label='HF(FPGA)')\n",
    "    ax1.plot(hk_hf.epoch,  temp_hf_fpga_rev,  '.r', markersize=5, linewidth=0.5, label='HF(FPGA) rev')\n",
    "    #ax1.plot(hk_hf.epoch, temp_hf_fpga_rev2, '.y', linewidth=0.5, label='HF(FPGA) rev2')\n",
    "if err_dpu == 0:\n",
    "    ax1.plot(hk_dpu.epoch, hk_dpu.hf_temp,    '.k', markersize=5, label='HF(PCB)')\n",
    "    ax1.plot(hk_dpu.epoch, hk_dpu.lvps_temp,  '--b', markersize=1, label='LVPS(PCB)')\n",
    "    # ax1.plot(hk_dpu.epoch, hk_dpu.dpu_temp, '.k', markersize=1, label='DPU(PCB)')\n",
    "    # ax1.plot(hk_dpu.epoch, hk_dpu.lp_temp,  '.b', markersize=1, label='LP(PCB)')\n",
    "    # ax1.plot(hk_dpu.epoch, hk_dpu.lf_temp,  '.g', markersize=1, label='LF(PCB)')\n",
    "ax1.set_ylabel('HF T [degC]');  ax1.legend();  ax1.set_title(title_label)\n",
    "\n",
    "if err_hf == 0:\n",
    "    # ax2.plot(hk_hf.epoch, temp_rwi_ch1, '.c', markersize=6, linewidth=0.5, label='RWI CH1')\n",
    "    # ax2.plot(hk_hf.epoch, temp_rwi_ch2, '.y', markersize=6, linewidth=0.5, label='RWI CH2')\n",
    "    ax2.plot(hk_hf.epoch, temp_rwi_ch1_rev,  '.g', markersize=5, label='RWI CH1 rev')\n",
    "    ax2.plot(hk_hf.epoch, temp_rwi_ch2_rev,  '.r', markersize=5, label='RWI CH2 rev')\n",
    "    #ax2.plot(hk_hf.epoch, temp_rwi_ch1_rev2, '-g', linewidth=0.5, label='RWI CH1 rev2')\n",
    "    #ax2.plot(hk_hf.epoch, temp_rwi_ch2_rev2, '-b', linewidth=0.5, label='RWI CH2 rev2')\n",
    "if err_dpu == 0:\n",
    "    ax2.plot(hk_dpu.epoch, hk_dpu.scm_temp,  '.b', markersize=1, label='SCM')\n",
    "ax2.set_ylabel('RWI T [degC]');  ax2.legend()\n",
    "\n",
    "if err_lvps == 0:\n",
    "    ax3.plot(hk_lvps.epoch, hk_lvps.vol_hf_85,    '.g', markersize=3, label='RWI 8.5V (LVPS)')\n",
    "    ax3.plot(hk_lvps.epoch, hk_lvps.vol_hf_33,    '.k', markersize=3, label='HF  3.3V  (LVPS)')\n",
    "    #\n",
    "    ax3.plot(hk_lvps.epoch, hk_lvps.hf_on_off,    '-k', markersize=3, label='HF ON/off (LVPS)')\n",
    "    ax3.plot(hk_hf.epoch,   hk_hf.v1_8+.1,        '-r', markersize=3, label='HF 1.8V off/ON (HF)')\n",
    "    #\n",
    "    ax4.plot(hk_lvps.epoch, hk_lvps.cur_hf_85*10, '.g', markersize=3, label='RWI 8.5V (LVPS) [x10]')\n",
    "    ax4.plot(hk_lvps.epoch, hk_lvps.cur_hf_33,    '.k', markersize=3, label='HF  3.3V (LVPS)')\n",
    "if err_hf == 0:\n",
    "    ax3.plot(hk_hf.epoch,   hk_hf.heater_ena,     '-y', markersize=3, label='RWI Heater ENA')\n",
    "    # ax3.plot(hk_hf.epoch, hk_hf.pol + 0.2, '.g', markersize=1, label='Pol Master/Slave')\n",
    "    if err_hf2 != 0:\n",
    "        ax3.plot(hk_hf.epoch, hk_hf.calsig_ena+.3, '--y', label='Cal signal ENA')\n",
    "ax3.set_ylabel('Voltage [V]');  ax3.legend()\n",
    "ax4.set_ylabel('Current [A]');  ax4.legend();  ax4.set_xlabel('UT')\n",
    "\n",
    "\"\"\"\n",
    "print(hk_hf.epoch)\n",
    "E_min = '2024-01-25 11:00:00';  t_min = datetime.datetime.strptime(E_min, \"%Y-%m-%d %H:%M:%S\");  \n",
    "E_max = '2024-01-25 12:10:00';  t_max = datetime.datetime.strptime(E_max, \"%Y-%m-%d %H:%M:%S\");  \n",
    "xlim=[t_min, t_max]; ax1.set_xlim(xlim)\n",
    "\"\"\"\n",
    "#-----------------------------------------------------------------\n",
    "fig.subplots_adjust(hspace=0)\n",
    "if dump_mode == 1:\n",
    "    png_fname = work_dir+'JUICE_RPWI_HF_HK_'+date+'.png'\n",
    "    fig.savefig(png_fname)"
   ]
  }
 ],
 "metadata": {
  "kernelspec": {
   "display_name": "3.11",
   "language": "python",
   "name": "python3"
  },
  "language_info": {
   "codemirror_mode": {
    "name": "ipython",
    "version": 3
   },
   "file_extension": ".py",
   "mimetype": "text/x-python",
   "name": "python",
   "nbconvert_exporter": "python",
   "pygments_lexer": "ipython3",
   "version": "3.11.10"
  },
  "orig_nbformat": 4
 },
 "nbformat": 4,
 "nbformat_minor": 2
}
