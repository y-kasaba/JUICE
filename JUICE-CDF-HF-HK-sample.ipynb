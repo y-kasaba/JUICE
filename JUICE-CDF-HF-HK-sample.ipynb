{
 "cells": [
  {
   "attachments": {},
   "cell_type": "markdown",
   "metadata": {},
   "source": [
    "# JUICE RPWI HF HK: QL -- 2023/11/12"
   ]
  },
  {
   "cell_type": "code",
   "execution_count": null,
   "metadata": {},
   "outputs": [],
   "source": [
    "import sys"
   ]
  },
  {
   "attachments": {},
   "cell_type": "markdown",
   "metadata": {},
   "source": [
    "# CDF and Directory setting: set by User"
   ]
  },
  {
   "cell_type": "code",
   "execution_count": null,
   "metadata": {},
   "outputs": [],
   "source": [
    "# The latest CDF library https://spdf.gsfc.nasa.gov/pub/software/cdf/dist/latest/\n",
    "# from spacepy import pycdf\n",
    "\n",
    "import os\n",
    "os.environ[\"CDF_LIB\"] = \"/Applications/cdf/cdf39_0-dist/lib\"\n",
    "\n",
    "# *** Library ***\n",
    "sys.path.append('./lib/')\n",
    "import juice_cdf_lib as juice_cdf\n",
    "import juice_hk_lib as juice_hk\n",
    "# import juice_math_lib as juice_math"
   ]
  },
  {
   "cell_type": "markdown",
   "metadata": {},
   "source": [
    "# Setting and Read CDF file: set by User"
   ]
  },
  {
   "cell_type": "code",
   "execution_count": null,
   "metadata": {},
   "outputs": [],
   "source": [
    "# *** Directory set: set by User ***\n",
    "work_dir = '/Users/user/0-python/JUICE_python/ql/'                      # Plot dump folder\n",
    "#data_dir = '/Users/user/0-python/JUICE_data/'                           # CDF data folder\n",
    "base_dir = '/Users/user/OneDrive-Univ/data/data-JUICE/datasets/'\n",
    "\n",
    "date='20230712'"
   ]
  },
  {
   "attachments": {},
   "cell_type": "markdown",
   "metadata": {},
   "source": [
    "# (1) read CDF files"
   ]
  },
  {
   "cell_type": "code",
   "execution_count": null,
   "metadata": {},
   "outputs": [],
   "source": [
    "data_hf, err_hf = juice_hk.juice_readhk(\n",
    "    date, 'LWYHK00032', base_dir=base_dir)\n",
    "data_dpu, err_dpu = juice_hk.juice_readhk(\n",
    "    date, 'LWYHK00064', base_dir=base_dir)\n",
    "data_lvps, err_lvps = juice_hk.juice_readhk(\n",
    "    date, 'LWYHK00080', base_dir=base_dir)\n",
    "\n",
    "if err_hf == 0: \n",
    "    hk_hf = juice_hk.juice_gethk_hf(data_hf)\n",
    "if err_dpu == 0:\n",
    "    hk_dpu = juice_hk.juice_gethk_dpu(data_dpu)\n",
    "if err_lvps == 0:\n",
    "    hk_lvps = juice_hk.juice_gethk_lvps(data_lvps)\n"
   ]
  },
  {
   "attachments": {},
   "cell_type": "markdown",
   "metadata": {},
   "source": [
    "# (2) Plot HK values"
   ]
  },
  {
   "cell_type": "code",
   "execution_count": null,
   "metadata": {},
   "outputs": [],
   "source": [
    "import matplotlib.pyplot as plt\n",
    "import numpy as np\n",
    "\n",
    "title_label = 'JUICE/RPWI HF HK ' + date[0:4] + '-' + date[4:6] + '-' + date[6:8]\n",
    "fig, (ax1, ax2, ax3, ax4, ax5) = plt.subplots(\n",
    "    5, figsize=(10.0, 12.0), sharex=True)\n",
    "\n",
    "if err_hf == 0:\n",
    "    temp_lim = [-150.0, 100.0]\n",
    "    temp_rwi_ch1 = np.where((hk_hf.temp_rwi_ch1 < temp_lim[0]) |\n",
    "                          (hk_hf.temp_rwi_ch1 > temp_lim[1]), np.nan, hk_hf.temp_rwi_ch1)\n",
    "    temp_rwi_ch2 = np.where((hk_hf.temp_rwi_ch2 < temp_lim[0]) |\n",
    "                          (hk_hf.temp_rwi_ch2 > temp_lim[1]), np.nan, hk_hf.temp_rwi_ch2)\n",
    "    temp_hf_fpga = np.where((hk_hf.temp_hf_fpga < temp_lim[0]) |\n",
    "                            (hk_hf.temp_hf_fpga > temp_lim[1]), np.nan, hk_hf.temp_hf_fpga)\n",
    "\n",
    "#-----------------------------------------------------------------\n",
    "if err_hf == 0:\n",
    "    ax1.plot(hk_hf.epoch, temp_hf_fpga, '.:r', label='HF(FPGA)')\n",
    "if err_dpu == 0:\n",
    "    ax1.plot(hk_dpu.epoch, hk_dpu.hf_temp, '.:c', label='HF(PCB)')\n",
    "\n",
    "ax1.set_ylabel('HF Temperature [degC]')\n",
    "ax1.legend()\n",
    "ax1.set_title(title_label)\n",
    "\n",
    "#-----------------------------------------------------------------\n",
    "if err_hf == 0:\n",
    "    ax2.plot(hk_hf.epoch, temp_rwi_ch1, '.:g', label='RWI CH1')\n",
    "    ax2.plot(hk_hf.epoch, temp_rwi_ch2, '.:b', label='RWI CH2')\n",
    "\n",
    "ax2.set_ylabel('RWI Temperature [degC]')\n",
    "ax2.legend()\n",
    "\n",
    "#-----------------------------------------------------------------\n",
    "if err_lvps == 0:\n",
    "    ax3.plot(hk_lvps.epoch, hk_lvps.vol_hf_33, '.:r', label='HF 3.3V (LVPS)')\n",
    "    ax3.plot(hk_lvps.epoch, hk_lvps.vol_hf_85, '.:g', label='HF 8.5V (LVPS)')\n",
    "    ax3.plot(hk_lvps.epoch, hk_lvps.hf_on_off, '.:k', label='HF ON/OFF (LVPS)')\n",
    "ax3.set_ylabel('Voltage [V]')\n",
    "ax3.legend()\n",
    "\n",
    "#-----------------------------------------------------------------\n",
    "if err_lvps == 0:\n",
    "    ax4.plot(hk_lvps.epoch, hk_lvps.cur_hf_33, '.:r', label='HF 3.3V (LVPS)')\n",
    "    ax4.plot(hk_lvps.epoch, hk_lvps.cur_hf_85*10, '.:g', label='HF 8.5V (LVPS) [x10]')\n",
    "\n",
    "ax4.set_ylabel('Current [A]')\n",
    "ax4.legend()\n",
    "\n",
    "#-----------------------------------------------------------------\n",
    "if err_hf == 0:\n",
    "    ax5.plot(hk_hf.epoch, hk_hf.heater_ena, '.:r', label='Heater ENA')\n",
    "    ax5.plot(hk_hf.epoch, hk_hf.calsig_ena+0.1, '.:b', label='Cal signal ENA')\n",
    "\n",
    "ax5.set_ylabel('HF status')\n",
    "ax5.legend()\n",
    "ax5.set_xlabel('UT')\n",
    "\n",
    "#-----------------------------------------------------------------\n",
    "png_fname = work_dir+'RPWI_HF_HK_'+date+'.png'\n",
    "# fig.savefig(png_fname)"
   ]
  }
 ],
 "metadata": {
  "kernelspec": {
   "display_name": "Python 3",
   "language": "python",
   "name": "python3"
  },
  "language_info": {
   "codemirror_mode": {
    "name": "ipython",
    "version": 3
   },
   "file_extension": ".py",
   "mimetype": "text/x-python",
   "name": "python",
   "nbconvert_exporter": "python",
   "pygments_lexer": "ipython3",
   "version": "3.10.13"
  },
  "orig_nbformat": 4
 },
 "nbformat": 4,
 "nbformat_minor": 2
}
