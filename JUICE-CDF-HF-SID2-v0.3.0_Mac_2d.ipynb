{
 "cells": [
  {
   "attachments": {},
   "cell_type": "markdown",
   "metadata": {},
   "source": [
    "# Import lib"
   ]
  },
  {
   "cell_type": "code",
   "execution_count": 17,
   "metadata": {},
   "outputs": [],
   "source": [
    "import os\n",
    "import sys\n",
    "import numpy as np\n",
    "import matplotlib.pyplot as plt\n",
    "import matplotlib.colors as colors"
   ]
  },
  {
   "cell_type": "code",
   "execution_count": 18,
   "metadata": {},
   "outputs": [],
   "source": [
    "# The latest CDF library https://spdf.gsfc.nasa.gov/pub/software/cdf/dist/latest/\n",
    "from spacepy import pycdf\n",
    "\n",
    "# os.environ[\"CDF_LIB\"] = \"C:\\\\Program Files\\\\CDF_Distribution\\\\cdf39_0-dist\\\\lib\"\n",
    "os.environ[\"CDF_LIB\"] = \"/Applications/cdf/cdf39_0-dist/lib\"\n",
    "\n",
    "# sys.path.append('../lib/')\n",
    "sys.path.append('./lib/')\n",
    "\n",
    "import juice_cdf_lib as juice_cdf"
   ]
  },
  {
   "attachments": {},
   "cell_type": "markdown",
   "metadata": {},
   "source": [
    "# Setting and Read CDF file"
   ]
  },
  {
   "cell_type": "code",
   "execution_count": 19,
   "metadata": {},
   "outputs": [],
   "source": [
    "# *** Parameter set ***\n",
    "spec_mode = 0                           # 0: low-resoltion   1: high-resolution\n",
    "cal_mode = 0                            # 0: raw    1: dBm    2: V2    3: V2/Hz\n",
    "cal = 0                                 # 0: background   1: cal\n",
    "\n",
    "# E_power_min = 1e-4                      # E_power_min: 10e-4 (--> -144 dBm)\n",
    "f_max = 45000                           # f_max [kHz]\n",
    "f_min = 80                              # f_min [kHz]\n",
    "p_max = 8.5                             # background: 8   CAL: 10\n",
    "p_min = 1.5                             # background: 2   CAL: 5\n",
    "\n",
    "cf = 0.0                                # Conversion Factor: RAW\n",
    "if cal_mode == 1:\n",
    "    cf = -104.1                         # dBm @ ADC input\n",
    "elif cal_mode == 2:\n",
    "    cf = -104.1 + 13.01                 # V^2 @ ADC input\n",
    "\"\"\"\n",
    "Vpp_raw = +-13000 --> \n",
    "＊Python-QLの「V」「V/Hz」化に入っていますが\n",
    "    今の「dBm」は「dBmW (50ohm負荷で）」でしょうか。\n",
    "    すなわち、\n",
    "        0 dBm = 1 mW @ 50-ohm\n",
    "        *************\n",
    "        => 0.224V\n",
    "        => -13.01 dBv\n",
    "        *************\n",
    "\"\"\"\n",
    "\n",
    "p_max = p_max + cf/10\n",
    "p_min = p_min + cf/10\n",
    "if spec_mode == 1:\n",
    "    p_max = p_max - 1.5\n",
    "    p_min = p_min - 1.5\n",
    "\n",
    "# *** Folder set ***\n",
    "work_dir = '/Users/user/0-python/JUICE_notebook/ql/'   # Plot dump folder\n",
    "data_dir = '/Users/user/0-python/JUICE_GS_test/cdf/org/'   # Data folder"
   ]
  },
  {
   "cell_type": "code",
   "execution_count": 20,
   "metadata": {},
   "outputs": [
    {
     "name": "stdout",
     "output_type": "stream",
     "text": [
      "ls: /Users/user/0-python/JUICE_GS_test/cdf/JUICE_L1a_RPWI-HF-SID2_20000101T000031-20000101T000940_V01___HF_SID2_064_20230624-1139.ccs.cdf: No such file or directory\n"
     ]
    }
   ],
   "source": [
    "# *** NECP ***\n",
    "# data_name = 'JUICE_L1a_RPWI-HF-SID2_20230419T135849-20230419T141229_V01___RPR1_52000000_2023.109.16.17.21.607.cdf'\n",
    "# data_name = 'JUICE_L1a_RPWI-HF-SID2_20230419T141231-20230419T141402_V01___RPR1_52000001_2023.109.17.51.54.600.cdf'\n",
    "# data_name = 'JUICE_L1a_RPWI-HF-SID2_20230530T100326-20230530T100925_V01___RPR1_52000010_2023.150.10.40.53.663.cdf'\n",
    "# data_name = 'JUICE_L1a_RPWI-HF-SID2_20230530T100927-20230530T100937_V01___RPR1_52000011_2023.150.10.41.53.508.cdf'\n",
    "# data_name = 'JUICE_L1a_RPWI-HF-SID2_20230530T100326-20230530T100925_V01___RPR1_52000010_2023.150.10.40.53.663.cdf'\n",
    "# data_name = 'JUICE_L1a_RPWI-HF-SID2_20230601T120759-20230601T120857_V01___RPR1_52000015_2023.152.12.32.12.471.cdf'\n",
    "# data_name = 'JUICE_L1a_RPWI-HF-SID2_20230601T121435-20230601T121533_V01___RPR1_52000016_2023.152.13.14.38.473.cdf'\n",
    "# data_name = 'JUICE_L1a_RPWI-HF-SID2_20230601T122138-20230601T122236_V01___RPR1_52000017_2023.152.13.55.02.539.cdf'\n",
    "# data_name = 'JUICE_L1a_RPWI-HF-SID2_20230601T122707-20230601T122805_V01___RPR1_52000018_2023.152.14.35.37.467.cdf'\n",
    "# data_name = 'JUICE_L1a_RPWI-HF-SID2_20230601T123416-20230601T123514_V01___RPR1_52000019_2023.152.15.15.55.483.cdf'\n",
    "\n",
    "# *** High-samp rate ***\n",
    "# data_name = 'JUICE_L1a_RPWI-HF-SID2_20000101T000304-20000101T000308_V01___TMIDX_00000_32.bin.cdf'\n",
    "# data_name = 'JUICE_L1a_RPWI-HF-SID2_20000101T000150-20000101T000154_V01___TMIDX_00000_64.bin.cdf'\n",
    "# data_name = 'JUICE_L1a_RPWI-HF-SID2_20000101T000355-20000101T000359_V01___TMIDX_00000_96.bin.cdf'\n",
    "# data_name = 'JUICE_L1a_RPWI-HF-SID2_20000101T000555-20000101T000559_V01___TMIDX_00000_128.bin.cdf'\n",
    "# data_name = 'JUICE_L1a_RPWI-HF-SID2_20000101T000725-20000101T000730_V01___TMIDX_00000_256.bin.cdf'\n",
    "# data_name = 'JUICE_L1a_RPWI-HF-SID2_20000101T000131-20000101T000139_V01___TMIDX_00000_512.bin.cdf'\n",
    "\n",
    "# *** High-samp rate: Tsuchiya ***\n",
    "data_name = 'JUICE_L1a_RPWI-HF-SID2_20000101T000031-20000101T000940_V01___HF_SID2_064_20230624-1139.ccs.cdf'\n",
    "# data_name = 'JUICE_L1a_RPWI-HF-SID2_20000101T000050-20000101T000454_V01___HF_SID2_032_20230624-1132.ccs.cdf'\n",
    "# data_name = 'JUICE_L1a_RPWI-HF-SID2_20000101T000111-20000101T000150_V01___HF_SID2_128_20230624-1306.ccs.cdf'\n",
    "\n",
    "# *** Ver.2 ***\n",
    "# data_name = 'JUICE_L1a_RPWI-HF-SID2_20000101T000459-20000101T000700_V01___HF_20210920-1007.ccs.cdf'\n",
    "\n",
    "cdf_file = data_dir + data_name\n",
    "# %ls $data_dir\n",
    "%ls $cdf_file"
   ]
  },
  {
   "attachments": {},
   "cell_type": "markdown",
   "metadata": {},
   "source": [
    "# get SID-2 data"
   ]
  },
  {
   "cell_type": "code",
   "execution_count": 21,
   "metadata": {},
   "outputs": [
    {
     "ename": "CDFError",
     "evalue": "NO_SUCH_CDF: The specified CDF does not exist.",
     "output_type": "error",
     "traceback": [
      "\u001b[0;31m---------------------------------------------------------------------------\u001b[0m",
      "\u001b[0;31mCDFError\u001b[0m                                  Traceback (most recent call last)",
      "Cell \u001b[0;32mIn[21], line 1\u001b[0m\n\u001b[0;32m----> 1\u001b[0m cdf \u001b[39m=\u001b[39m pycdf\u001b[39m.\u001b[39;49mCDF(cdf_file)\n\u001b[1;32m      2\u001b[0m data \u001b[39m=\u001b[39m juice_cdf\u001b[39m.\u001b[39mjuice_getdata_hf_sid02(cdf)\n",
      "File \u001b[0;32m/opt/homebrew/Caskroom/miniforge/base/envs/3.10/lib/python3.10/site-packages/spacepy/pycdf/__init__.py:1771\u001b[0m, in \u001b[0;36mCDF.__init__\u001b[0;34m(self, pathname, masterpath, create, readonly, encoding)\u001b[0m\n\u001b[1;32m   1769\u001b[0m \u001b[39mself\u001b[39m\u001b[39m.\u001b[39mencoding \u001b[39m=\u001b[39m encoding\n\u001b[1;32m   1770\u001b[0m \u001b[39mif\u001b[39;00m masterpath \u001b[39mis\u001b[39;00m \u001b[39mNone\u001b[39;00m \u001b[39mand\u001b[39;00m \u001b[39mnot\u001b[39;00m create:\n\u001b[0;32m-> 1771\u001b[0m     \u001b[39mself\u001b[39;49m\u001b[39m.\u001b[39;49m_open(\u001b[39mTrue\u001b[39;49;00m \u001b[39mif\u001b[39;49;00m readonly \u001b[39mis\u001b[39;49;00m \u001b[39mNone\u001b[39;49;00m \u001b[39melse\u001b[39;49;00m readonly)\n\u001b[1;32m   1772\u001b[0m \u001b[39melif\u001b[39;00m masterpath:\n\u001b[1;32m   1773\u001b[0m     \u001b[39mself\u001b[39m\u001b[39m.\u001b[39m_from_master(masterpath\u001b[39m.\u001b[39mencode())\n",
      "File \u001b[0;32m/opt/homebrew/Caskroom/miniforge/base/envs/3.10/lib/python3.10/site-packages/spacepy/pycdf/__init__.py:1953\u001b[0m, in \u001b[0;36mCDF._open\u001b[0;34m(self, readonly)\u001b[0m\n\u001b[1;32m   1938\u001b[0m \u001b[39mdef\u001b[39;00m \u001b[39m_open\u001b[39m(\u001b[39mself\u001b[39m, readonly\u001b[39m=\u001b[39m\u001b[39mTrue\u001b[39;00m):\n\u001b[1;32m   1939\u001b[0m \u001b[39m    \u001b[39m\u001b[39m\"\"\"Opens the CDF file (called on init)\u001b[39;00m\n\u001b[1;32m   1940\u001b[0m \n\u001b[1;32m   1941\u001b[0m \u001b[39m    Will open an existing CDF file read/write.\u001b[39;00m\n\u001b[0;32m   (...)\u001b[0m\n\u001b[1;32m   1950\u001b[0m \u001b[39m        :py:class:`pycdf.CDF` constructor.\u001b[39;00m\n\u001b[1;32m   1951\u001b[0m \u001b[39m    \"\"\"\u001b[39;00m\n\u001b[0;32m-> 1953\u001b[0m     lib\u001b[39m.\u001b[39;49mcall(const\u001b[39m.\u001b[39;49mOPEN_, const\u001b[39m.\u001b[39;49mCDF_, \u001b[39mself\u001b[39;49m\u001b[39m.\u001b[39;49mpathname, ctypes\u001b[39m.\u001b[39;49mbyref(\u001b[39mself\u001b[39;49m\u001b[39m.\u001b[39;49m_handle))\n\u001b[1;32m   1954\u001b[0m     \u001b[39mself\u001b[39m\u001b[39m.\u001b[39m_opened \u001b[39m=\u001b[39m \u001b[39mTrue\u001b[39;00m\n\u001b[1;32m   1955\u001b[0m     \u001b[39mif\u001b[39;00m readonly: \u001b[39m#Default is RW\u001b[39;00m\n",
      "File \u001b[0;32m/opt/homebrew/Caskroom/miniforge/base/envs/3.10/lib/python3.10/site-packages/spacepy/pycdf/__init__.py:637\u001b[0m, in \u001b[0;36mLibrary.call\u001b[0;34m(self, *args, **kwargs)\u001b[0m\n\u001b[1;32m    633\u001b[0m     \u001b[39mreturn\u001b[39;00m \u001b[39mself\u001b[39m\u001b[39m.\u001b[39mcheck_status(\u001b[39mself\u001b[39m\u001b[39m.\u001b[39m_library\u001b[39m.\u001b[39mCDFlib(\n\u001b[1;32m    634\u001b[0m         \u001b[39m*\u001b[39m(args \u001b[39m+\u001b[39m (const\u001b[39m.\u001b[39mNULL_, ))\n\u001b[1;32m    635\u001b[0m         ), kwargs[\u001b[39m'\u001b[39m\u001b[39mignore\u001b[39m\u001b[39m'\u001b[39m])\n\u001b[1;32m    636\u001b[0m \u001b[39melse\u001b[39;00m:\n\u001b[0;32m--> 637\u001b[0m     \u001b[39mreturn\u001b[39;00m \u001b[39mself\u001b[39;49m\u001b[39m.\u001b[39;49mcheck_status(\u001b[39mself\u001b[39;49m\u001b[39m.\u001b[39;49m_library\u001b[39m.\u001b[39;49mCDFlib(\n\u001b[1;32m    638\u001b[0m         \u001b[39m*\u001b[39;49m(args \u001b[39m+\u001b[39;49m (const\u001b[39m.\u001b[39;49mNULL_, ))\n\u001b[1;32m    639\u001b[0m         ))\n",
      "File \u001b[0;32m/opt/homebrew/Caskroom/miniforge/base/envs/3.10/lib/python3.10/site-packages/spacepy/pycdf/__init__.py:590\u001b[0m, in \u001b[0;36mLibrary.check_status\u001b[0;34m(self, status, ignore)\u001b[0m\n\u001b[1;32m    588\u001b[0m     \u001b[39mreturn\u001b[39;00m status\n\u001b[1;32m    589\u001b[0m \u001b[39mif\u001b[39;00m status \u001b[39m<\u001b[39m const\u001b[39m.\u001b[39mCDF_WARN:\n\u001b[0;32m--> 590\u001b[0m     \u001b[39mraise\u001b[39;00m CDFError(status)\n\u001b[1;32m    591\u001b[0m \u001b[39melse\u001b[39;00m:\n\u001b[1;32m    592\u001b[0m     warning \u001b[39m=\u001b[39m CDFWarning(status)\n",
      "\u001b[0;31mCDFError\u001b[0m: NO_SUCH_CDF: The specified CDF does not exist."
     ]
    }
   ],
   "source": [
    "cdf = pycdf.CDF(cdf_file)\n",
    "data = juice_cdf.juice_getdata_hf_sid02(cdf)"
   ]
  },
  {
   "attachments": {},
   "cell_type": "markdown",
   "metadata": {},
   "source": [
    "# Raw data"
   ]
  },
  {
   "cell_type": "code",
   "execution_count": null,
   "metadata": {},
   "outputs": [],
   "source": [
    "fig = plt.figure(figsize=(12, 12))\n",
    "ax1 = fig.add_subplot(4, 1, 1)\n",
    "ax2 = fig.add_subplot(4, 1, 2)\n",
    "ax3 = fig.add_subplot(4, 1, 3)\n",
    "ax4 = fig.add_subplot(4, 1, 4)\n",
    "\n",
    "ax1.plot(np.ravel(data.Eu_i), '-r', linewidth=1)\n",
    "ax1.plot(np.ravel(data.Eu_q), '-g', linewidth=1)\n",
    "ax2.plot(np.ravel(data.frequency))\n",
    "ax3.plot(np.ravel(data.sweep_start))\n",
    "ax4.plot(np.ravel(data.epoch))\n",
    "date = data.epoch[0]\n",
    "date = date.strftime('%Y/%m/%d')\n",
    "print(date)\n",
    "\n",
    "ax1.set_ylabel('Eu_i, Eu_q')\n",
    "ax2.set_ylabel('Freq[kHz]')\n",
    "ax3.set_ylabel('Sweep Start')\n",
    "ax4.set_xlabel(date)\n",
    "\n",
    "# xlim=[458239, 458241]\n",
    "# ax1.set_xlim(xlim)\n",
    "# ax2.set_xlim(xlim)\n",
    "# ax3.set_xlim(xlim)\n",
    "plt.show()\n",
    "png_fname = work_dir+data_name+'_raw.png'\n",
    "fig.savefig(png_fname)\n"
   ]
  },
  {
   "cell_type": "code",
   "execution_count": null,
   "metadata": {},
   "outputs": [],
   "source": [
    "# Sped mode:  0 - low resolution,  1 - high resolution  \n",
    "spec = juice_cdf.juice_getspec_hf_sid02(data, spec_mode)\n",
    "\n",
    "spec.Eu_power = spec.Eu_power * 10**(cf/10)\n",
    "spec.Ev_power = spec.Ev_power * 10**(cf/10)\n",
    "spec.Ew_power = spec.Ew_power * 10**(cf/10)\n",
    "\n",
    "n_time = spec.Eu_power.shape[1]\n",
    "n_freq = spec.Eu_power.shape[0]\n",
    "print(spec.Eu_power.shape, n_time, n_freq)"
   ]
  },
  {
   "attachments": {},
   "cell_type": "markdown",
   "metadata": {},
   "source": [
    "# Spectra"
   ]
  },
  {
   "attachments": {},
   "cell_type": "markdown",
   "metadata": {},
   "source": [
    "# LOG: Frequency - Power"
   ]
  },
  {
   "cell_type": "code",
   "execution_count": null,
   "metadata": {},
   "outputs": [],
   "source": [
    "fig = plt.figure(figsize=(12, 6))\n",
    "\n",
    "for i in range(spec.n_step):\n",
    "    plt.plot(spec.frequency[i*spec.n_samp:(i+1)*spec.n_samp,0], spec.Eu_power[i*spec.n_samp:(i+1)*spec.n_samp,0], '-r', linewidth=1)\n",
    "    plt.plot(spec.frequency[i*spec.n_samp:(i+1)*spec.n_samp,0], spec.Ev_power[i*spec.n_samp:(i+1)*spec.n_samp,0], '-g', linewidth=1)\n",
    "    plt.plot(spec.frequency[i*spec.n_samp:(i+1)*spec.n_samp,0], spec.Ew_power[i*spec.n_samp:(i+1)*spec.n_samp,0], '-b', linewidth=1)\n",
    "    plt.plot(spec.frequency[i*spec.n_samp:(i+1)*spec.n_samp,n_time-1], spec.Eu_power[i*spec.n_samp:(i+1)*spec.n_samp,n_time-1], ':r', linewidth=1)\n",
    "    plt.plot(spec.frequency[i*spec.n_samp:(i+1)*spec.n_samp,n_time-1], spec.Ev_power[i*spec.n_samp:(i+1)*spec.n_samp,n_time-1], ':g', linewidth=1)\n",
    "    plt.plot(spec.frequency[i*spec.n_samp:(i+1)*spec.n_samp,n_time-1], spec.Ew_power[i*spec.n_samp:(i+1)*spec.n_samp,n_time-1], ':b', linewidth=1)\n",
    "    \n",
    "plt.xlabel('Frequency [kHz]')\n",
    "plt.xscale('log')\n",
    "plt.xlim(f_min, f_max)\n",
    "\n",
    "plt.yscale('log')\n",
    "if cal_mode == 0:\n",
    "    plt.ylabel('Power [RAW]')\n",
    "elif cal_mode == 1:\n",
    "    plt.ylabel('Power [dBm@AD]')\n",
    "elif cal_mode == 2:\n",
    "    plt.ylabel('Power [V^2@ADC]')\n",
    "plt.ylim(10**p_min, 10**p_max)\n",
    "\n",
    "plt.show()\n",
    "png_fname = work_dir+data_name+'_spec-log.png'\n",
    "if (spec_mode>0):\n",
    "    png_fname = work_dir+data_name+'_spec-log_h.png'\n",
    "fig.savefig(png_fname)"
   ]
  },
  {
   "attachments": {},
   "cell_type": "markdown",
   "metadata": {},
   "source": [
    "# Linear: Frequency - Power diagram"
   ]
  },
  {
   "cell_type": "code",
   "execution_count": null,
   "metadata": {},
   "outputs": [],
   "source": [
    "fig = plt.figure(figsize=(12, 6))\n",
    "\n",
    "for i in range(spec.n_step):\n",
    "    plt.plot(spec.frequency[i*spec.n_samp:(i+1)*spec.n_samp,0], spec.Eu_power[i*spec.n_samp:(i+1)*spec.n_samp,0], '-r', linewidth=1)\n",
    "    plt.plot(spec.frequency[i*spec.n_samp:(i+1)*spec.n_samp,0], spec.Ev_power[i*spec.n_samp:(i+1)*spec.n_samp,0], '-g', linewidth=1)\n",
    "    plt.plot(spec.frequency[i*spec.n_samp:(i+1)*spec.n_samp,0], spec.Ew_power[i*spec.n_samp:(i+1)*spec.n_samp,0], '-b', linewidth=1)\n",
    "    plt.plot(spec.frequency[i*spec.n_samp:(i+1)*spec.n_samp,n_time-1], spec.Eu_power[i*spec.n_samp:(i+1)*spec.n_samp,n_time-1], ':r', linewidth=1)\n",
    "    plt.plot(spec.frequency[i*spec.n_samp:(i+1)*spec.n_samp,n_time-1], spec.Ev_power[i*spec.n_samp:(i+1)*spec.n_samp,n_time-1], ':g', linewidth=1)\n",
    "    plt.plot(spec.frequency[i*spec.n_samp:(i+1)*spec.n_samp,n_time-1], spec.Ew_power[i*spec.n_samp:(i+1)*spec.n_samp,n_time-1], ':b', linewidth=1)\n",
    "\n",
    "plt.xlabel('Frequency [kHz]')\n",
    "plt.xlim(f_min, f_max)\n",
    "\n",
    "plt.yscale('log')\n",
    "if cal_mode == 0:\n",
    "    plt.ylabel('Power [RAW]')\n",
    "elif cal_mode == 1:\n",
    "    plt.ylabel('Power [dBm@AD]')\n",
    "elif cal_mode == 2:\n",
    "    plt.ylabel('Power [V^2@ADC]')\n",
    "plt.ylim(10**p_min, 10**p_max)\n",
    "\n",
    "plt.show()\n",
    "png_fname = work_dir+data_name+'_spec.png'\n",
    "if (spec_mode>0):\n",
    "    png_fname = work_dir+data_name+'_spec_h.png'\n",
    "fig.savefig(png_fname)"
   ]
  },
  {
   "attachments": {},
   "cell_type": "markdown",
   "metadata": {},
   "source": [
    "# LOG: Frequency - Time diagram"
   ]
  },
  {
   "cell_type": "code",
   "execution_count": null,
   "metadata": {},
   "outputs": [],
   "source": [
    "fig = plt.figure(figsize=(12, 10))\n",
    "\n",
    "ax1 = fig.add_subplot(3, 1, 1)\n",
    "ax2 = fig.add_subplot(3, 1, 2)\n",
    "ax3 = fig.add_subplot(3, 1, 3)\n",
    "\n",
    "# Y-axis\n",
    "ax1.set_ylim(f_min, f_max)\n",
    "ax2.set_ylim(f_min, f_max)\n",
    "ax3.set_ylim(f_min, f_max)\n",
    "ax1.set_yscale('log')\n",
    "ax2.set_yscale('log')\n",
    "ax3.set_yscale('log')\n",
    "ax1.set_ylabel('f [kHz]')\n",
    "ax2.set_ylabel('f [kHz]')\n",
    "ax3.set_ylabel('f [kHz]')\n",
    "\n",
    "# X-axis\n",
    "ax1.set_title('EuEu (X)')\n",
    "ax2.set_title('EvEv (Z)')\n",
    "ax3.set_title('EwEw (Y)')\n",
    "date = data.epoch[0]\n",
    "date = date.strftime('%Y/%m/%d')\n",
    "ax3.set_xlabel(date)\n",
    "\n",
    "# Plot\n",
    "p1 = ax1.pcolormesh(spec.epoch, spec.frequency, spec.Eu_power, norm=colors.LogNorm(vmin=10**p_min, vmax=10**p_max), cmap='jet')\n",
    "p2 = ax2.pcolormesh(spec.epoch, spec.frequency, spec.Ev_power, norm=colors.LogNorm(vmin=10**p_min, vmax=10**p_max), cmap='jet')\n",
    "p3 = ax3.pcolormesh(spec.epoch, spec.frequency, spec.Ew_power, norm=colors.LogNorm(vmin=10**p_min, vmax=10**p_max), cmap='jet')\n",
    "\n",
    "if cal_mode == 0:\n",
    "    str = 'Power [RAW]'\n",
    "elif cal_mode == 1:\n",
    "    str = 'Power [dBm@AD]'\n",
    "elif cal_mode == 2:\n",
    "    str = 'Power [V^2@ADC]'\n",
    "pp1 = fig.colorbar(p1, ax=ax1, orientation=\"vertical\")\n",
    "pp1.set_label(str)\n",
    "pp2 = fig.colorbar(p2, ax=ax2, orientation=\"vertical\")\n",
    "pp2.set_label(str)\n",
    "pp3 = fig.colorbar(p3, ax=ax3, orientation=\"vertical\")\n",
    "pp3.set_label(str)\n",
    "\n",
    "png_fname = work_dir+data_name+'_FT-log.png'\n",
    "if (spec_mode>0):\n",
    "    png_fname = work_dir+data_name+'_FT-log_h.png'\n",
    "# fig.savefig(png_fname)\n"
   ]
  },
  {
   "attachments": {},
   "cell_type": "markdown",
   "metadata": {},
   "source": [
    "# Linear: Frequency - Time diagram"
   ]
  },
  {
   "cell_type": "code",
   "execution_count": null,
   "metadata": {},
   "outputs": [],
   "source": [
    "fig = plt.figure(figsize=(12, 10))\n",
    "\n",
    "ax1 = fig.add_subplot(3, 1, 1)\n",
    "ax2 = fig.add_subplot(3, 1, 2)\n",
    "ax3 = fig.add_subplot(3, 1, 3)\n",
    "\n",
    "# Y-axis\n",
    "ax1.set_ylim(f_min, f_max)\n",
    "ax2.set_ylim(f_min, f_max)\n",
    "ax3.set_ylim(f_min, f_max)\n",
    "ax1.set_ylabel('f [kHz]')\n",
    "ax2.set_ylabel('f [kHz]')\n",
    "ax3.set_ylabel('f [kHz]')\n",
    "\n",
    "# X-axis\n",
    "ax1.set_title('EuEu (X)')\n",
    "ax2.set_title('EvEv (Z)')\n",
    "ax3.set_title('EwEw (Y)')\n",
    "date = data.epoch[0]\n",
    "date = date.strftime('%Y/%m/%d')\n",
    "ax3.set_xlabel(date)\n",
    "\n",
    "# Plot\n",
    "p1 = ax1.pcolormesh(spec.epoch, spec.frequency, spec.Eu_power, norm=colors.LogNorm(vmin=10**p_min, vmax=10**p_max), cmap='jet')\n",
    "p2 = ax2.pcolormesh(spec.epoch, spec.frequency, spec.Ev_power, norm=colors.LogNorm(vmin=10**p_min, vmax=10**p_max), cmap='jet')\n",
    "p3 = ax3.pcolormesh(spec.epoch, spec.frequency, spec.Ew_power, norm=colors.LogNorm(vmin=10**p_min, vmax=10**p_max), cmap='jet')\n",
    "\n",
    "if cal_mode == 0:\n",
    "    str = 'Power [RAW]'\n",
    "elif cal_mode == 1:\n",
    "    str = 'Power [dBm@AD]'\n",
    "elif cal_mode == 2:\n",
    "    str = 'Power [V^2@ADC]'\n",
    "pp1 = fig.colorbar(p1, ax=ax1, orientation=\"vertical\")\n",
    "pp1.set_label(str)\n",
    "pp2 = fig.colorbar(p2, ax=ax2, orientation=\"vertical\")\n",
    "pp2.set_label(str)\n",
    "pp3 = fig.colorbar(p3, ax=ax3, orientation=\"vertical\")\n",
    "pp3.set_label(str)\n",
    "\n",
    "png_fname = work_dir+data_name+'_FT-log.png'\n",
    "if (spec_mode>0):\n",
    "    png_fname = work_dir+data_name+'_FT-log_h.png'\n",
    "# fig.savefig(png_fname)"
   ]
  }
 ],
 "metadata": {
  "kernelspec": {
   "display_name": "Python 3",
   "language": "python",
   "name": "python3"
  },
  "language_info": {
   "codemirror_mode": {
    "name": "ipython",
    "version": 3
   },
   "file_extension": ".py",
   "mimetype": "text/x-python",
   "name": "python",
   "nbconvert_exporter": "python",
   "pygments_lexer": "ipython3",
   "version": "3.10.11"
  },
  "orig_nbformat": 4,
  "vscode": {
   "interpreter": {
    "hash": "0446e2cd9e70aecaa5b62c77e58a7cce8383cd48fff23e4f772d376dd5c64fc6"
   }
  }
 },
 "nbformat": 4,
 "nbformat_minor": 2
}
