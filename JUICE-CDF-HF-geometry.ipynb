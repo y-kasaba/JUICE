{
 "cells": [
  {
   "cell_type": "markdown",
   "id": "5ad0cc98",
   "metadata": {},
   "source": [
    "# JUICE RPWI HF Geometry -- 2024/8/30"
   ]
  },
  {
   "attachments": {},
   "cell_type": "markdown",
   "id": "a116756d",
   "metadata": {},
   "source": [
    "# Import lib"
   ]
  },
  {
   "cell_type": "code",
   "execution_count": 1,
   "id": "bca50671",
   "metadata": {},
   "outputs": [],
   "source": [
    "import csv\n",
    "import datetime\n",
    "import math\n",
    "import matplotlib.pyplot as plt\n",
    "import numpy as np"
   ]
  },
  {
   "cell_type": "code",
   "execution_count": 2,
   "id": "05e8da84",
   "metadata": {},
   "outputs": [],
   "source": [
    "att_mode = 0                            # 0: read       1: write"
   ]
  },
  {
   "cell_type": "code",
   "execution_count": null,
   "id": "f9abc83b",
   "metadata": {},
   "outputs": [],
   "source": [
    "# 202408\n",
    "data_dir    = '/Users/user/Dropbox-Univ/data/data-JUICE/geometry/'\n",
    "data_name_U = 'JUICE-RPWI-HF-RWI-U_earth_20240819-20240823.csv'\n",
    "data_name_V = 'JUICE-RPWI-HF-RWI-V_earth_20240819-20240823.csv'\n",
    "data_name_W = 'JUICE-RPWI-HF-RWI-W_earth_20240819-20240823.csv'\n",
    "data_name   = 'JUICE-RPWI-HF-RWI_earth_20240819-20240823.csv'\n",
    "\n",
    "\"\"\"\n",
    "data_name_U = 'JUICE-RPWI-HF-RWI-U_sun_20240819-20240823.csv'\n",
    "data_name_V = 'JUICE-RPWI-HF-RWI-V_sun_20240819-20240823.csv'\n",
    "data_name_W = 'JUICE-RPWI-HF-RWI-W_sun_20240819-20240823.csv'\n",
    "data_name   = 'JUICE-RPWI-HF-RWI_sun_20240819-20240823.csv'\n",
    "\"\"\""
   ]
  },
  {
   "attachments": {},
   "cell_type": "markdown",
   "id": "093823c4",
   "metadata": {},
   "source": [
    "### write from original"
   ]
  },
  {
   "cell_type": "code",
   "execution_count": 4,
   "id": "81b35980",
   "metadata": {},
   "outputs": [],
   "source": [
    "if att_mode == 1:\n",
    "    file = data_dir + data_name_U\n",
    "    with open(file, 'r') as f:\n",
    "        reader = csv.reader(f);  i = 1\n",
    "        list_U = [row for row in reader]\n",
    "    file = data_dir + data_name_V\n",
    "    with open(file, 'r') as f:\n",
    "        reader = csv.reader(f);  i = 1\n",
    "        list_V = [row for row in reader]\n",
    "    file = data_dir + data_name_W\n",
    "    with open(file, 'r') as f:\n",
    "        reader = csv.reader(f);  i = 1\n",
    "        list_W = [row for row in reader]\n",
    "\n",
    "    if len(list_U)==len (list_V) and len (list_V)==len (list_W):\n",
    "        n_num = len(list_U)\n",
    "        j = 0;  k = 0\n",
    "        for i in range(n_num):\n",
    "            if len(list_U[i]) <10 and i < 17:\n",
    "                j = i\n",
    "            if len(list_U[i]) <10 and i > 17:\n",
    "                k = i\n",
    "                break\n",
    "        list_U = list_U[j+1:k];  list_V = list_V[j+1:k];  list_W = list_W[j+1:k]\n",
    "        list_U[0][1] = 'U Longitude (deg)';  list_U[0][2] = 'U Colatitude (deg)'; \n",
    "        list_V[0][1] = 'V Longitude (deg)';  list_V[0][2] = 'V Colatitude (deg)'; \n",
    "        list_W[0][1] = 'W Longitude (deg)';  list_W[0][2] = 'W Colatitude (deg)'; \n",
    "        n_num = len(list_U)\n",
    "\n",
    "        file = data_dir + data_name\n",
    "        with open(file, 'w') as f:\n",
    "            writer = csv.writer(f)\n",
    "            for i in range(n_num):\n",
    "                writer.writerow([list_U[i][0][0:19],  list_U[i][1], list_U[i][2], list_V[i][1], list_V[i][2], list_W[i][1], list_W[i][2], list_U[i][3]])"
   ]
  },
  {
   "cell_type": "markdown",
   "id": "ae7e157a",
   "metadata": {},
   "source": [
    "### read"
   ]
  },
  {
   "cell_type": "code",
   "execution_count": 5,
   "id": "e35caa7f",
   "metadata": {},
   "outputs": [],
   "source": [
    "file = data_dir + data_name\n",
    "with open(file, 'r') as f:\n",
    "    reader = csv.reader(f);  i = 1\n",
    "    list = [row for row in reader]"
   ]
  },
  {
   "cell_type": "code",
   "execution_count": 6,
   "id": "c8bda08c",
   "metadata": {},
   "outputs": [],
   "source": [
    "class struct:\n",
    "    pass\n",
    "\n",
    "data = struct()\n",
    "n_num = len(list)\n",
    "\n",
    "data.long   = np.zeros((3, n_num-1))\n",
    "data.colon  = np.zeros((3, n_num-1))\n",
    "data.colat  = np.zeros((3, n_num-1))\n",
    "data.radius = np.zeros( n_num-1)\n",
    "data.epoch  = []\n",
    "\n",
    "for i in range(n_num):\n",
    "    if i>0:\n",
    "        time = datetime.datetime.strptime(list[i][0], '%Y-%m-%d %H:%M:%S')\n",
    "        data.epoch.append( time )\n",
    "        data.long[0][i-1] = list[i][1];  data.colat[0][i-1] = list[i][2]\n",
    "        data.long[1][i-1] = list[i][3];  data.colat[1][i-1] = list[i][4]\n",
    "        data.long[2][i-1] = list[i][5];  data.colat[2][i-1] = list[i][6]\n",
    "        data.radius[i-1]  = list[i][7]\n",
    "\n",
    "data.colon[0] = data.long[1]-data.long[0]\n",
    "index = np.where(data.colon[0] >=  180);  data.colon[0][index] = data.colon[0][index]-360\n",
    "index = np.where(data.colon[0] <= -180);  data.colon[0][index] = data.colon[0][index]+360\n",
    "data.colon[1] = data.long[2]-data.long[1]\n",
    "index = np.where(data.colon[1] >=  180);  data.colon[1][index] = data.colon[1][index]-360\n",
    "index = np.where(data.colon[1] <= -180);  data.colon[1][index] = data.colon[1][index]+360\n",
    "data.colon[2] = data.long[0]-data.long[2]\n",
    "index = np.where(data.colon[2] >=  180);  data.colon[2][index] = data.colon[2][index]-360\n",
    "index = np.where(data.colon[2] <= -180);  data.colon[2][index] = data.colon[2][index]+360"
   ]
  },
  {
   "cell_type": "code",
   "execution_count": null,
   "id": "695b72fc",
   "metadata": {},
   "outputs": [],
   "source": [
    "np.sin(data.colat[0]* math.pi/180)"
   ]
  },
  {
   "cell_type": "code",
   "execution_count": null,
   "metadata": {},
   "outputs": [],
   "source": [
    "fig = plt.figure(figsize=(14, 11))\n",
    "ax1 = fig.add_subplot(5, 1, 1);  ax2 = fig.add_subplot(5, 1, 2);  ax3 = fig.add_subplot(5, 1, 3);  ax4 = fig.add_subplot(5, 1, 4);  ax5 = fig.add_subplot(5, 1, 5)\n",
    "\n",
    "ax1.plot(data.epoch, data.colat[0],          '-r', linewidth=1, label='U')\n",
    "ax1.plot(data.epoch, data.colat[1],          '-g', linewidth=1, label='V')\n",
    "ax1.plot(data.epoch, data.colat[2],          '-b', linewidth=1, label='W')\n",
    "ax2.plot(data.epoch, np.sin(data.colat[0]* math.pi/180), '-r', linewidth=1, label='U')\n",
    "ax2.plot(data.epoch, np.sin(data.colat[1]* math.pi/180), '-g', linewidth=1, label='V')\n",
    "ax2.plot(data.epoch, np.sin(data.colat[2]* math.pi/180), '-b', linewidth=1, label='W')\n",
    "ax3.plot(data.epoch, data.colon[0],          '-r', linewidth=1, label='UV')\n",
    "ax3.plot(data.epoch, data.colon[1],          '-g', linewidth=1, label='VW')\n",
    "ax3.plot(data.epoch, data.colon[2],          '-b', linewidth=1, label='WU')\n",
    "ax4.plot(data.epoch, data.long[0],           ':r', linewidth=1, label='U');    \n",
    "ax4.plot(data.epoch, data.long[1],           ':g', linewidth=1, label='V');    \n",
    "ax4.plot(data.epoch, data.long[2],           ':b', linewidth=1, label='W');    \n",
    "ax5.plot(data.epoch, data.radius,            '-k')\n",
    "ax1.set_ylabel('colatitude (deg)');  ax2.set_ylabel('sin(colat');  ax3.set_ylabel('D-longitude (deg)');  ax4.set_ylabel('longitude (deg)');  ax5.set_ylabel('radius (km)')\n",
    "ax1.legend(loc='upper right', fontsize=8); ax2.legend(loc='upper right', fontsize=8); ax3.legend(loc='upper right', fontsize=8)\n",
    "\n",
    "E_min = '2024-08-20 18:00:00';  t_min = datetime.datetime.strptime(E_min, \"%Y-%m-%d %H:%M:%S\");  \n",
    "E_max = '2024-08-21 05:30:00';  t_max = datetime.datetime.strptime(E_max, \"%Y-%m-%d %H:%M:%S\");  xlim=[t_min, t_max]\n",
    "# xlim=[data.epoch[0], data.epoch[-1]];  \n",
    "ax1.set_xlim(xlim);  ax2.set_xlim(xlim);  ax3.set_xlim(xlim);  ax4.set_xlim(xlim);  ax5.set_xlim(xlim)\n",
    "ylim=[   0, 180];                      ax1.set_ylim(ylim)\n",
    "ylim=[-0.1, 1.1];                      ax2.set_ylim(ylim)\n",
    "ylim=[-180, 180];                      ax3.set_ylim(ylim)\n",
    "ylim=[-180, 180];                      ax4.set_ylim(ylim)\n",
    "\n",
    "fig.show"
   ]
  }
 ],
 "metadata": {
  "kernelspec": {
   "display_name": "Python 3 (ipykernel)",
   "language": "python",
   "name": "python3"
  },
  "language_info": {
   "codemirror_mode": {
    "name": "ipython",
    "version": 3
   },
   "file_extension": ".py",
   "mimetype": "text/x-python",
   "name": "python",
   "nbconvert_exporter": "python",
   "pygments_lexer": "ipython3",
   "version": "3.10.14"
  }
 },
 "nbformat": 4,
 "nbformat_minor": 5
}
