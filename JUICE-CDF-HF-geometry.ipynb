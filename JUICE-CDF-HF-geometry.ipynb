{
 "cells": [
  {
   "cell_type": "markdown",
   "id": "5ad0cc98",
   "metadata": {},
   "source": [
    "# JUICE RPWI HF Geometry -- 2024/10/6"
   ]
  },
  {
   "cell_type": "code",
   "execution_count": null,
   "id": "c43e6e03",
   "metadata": {},
   "outputs": [],
   "source": [
    "import csv\n",
    "import datetime\n",
    "import math\n",
    "import matplotlib.pyplot as plt\n",
    "import numpy as np\n",
    "import sys\n",
    "\n",
    "sys.path.append(\"./lib/\")\n",
    "import juice_spice_lib as juice_spice"
   ]
  },
  {
   "attachments": {},
   "cell_type": "markdown",
   "id": "a116756d",
   "metadata": {},
   "source": [
    "### parameter set"
   ]
  },
  {
   "cell_type": "code",
   "execution_count": null,
   "id": "fca81ad0",
   "metadata": {},
   "outputs": [],
   "source": [
    "# Geometry data: http://spice.esac.esa.int/webgeocalc/#StateVector\n",
    "ID_target   = 0             # 0:Sun  3:Earth  5:Jupiter  52:Europa  53:Ganymede  54:Callisto  99:JUICE\n",
    "ID_observer = 99            # 0:Sun  3:Earth  5:Jupiter  52:Europa  53:Ganymede  54:Callisto  99:JUICE\n",
    "ID_frame    = 99            # 0:Sun  3:Earth  5:Jupiter  52:Europa  53:Ganymede  54:Callisto  99:JUICE  991:RWI\n",
    "\n",
    "# Plot interval\n",
    "Epoch_min = '2024-08-19 00:00:00';  t_min0 = datetime.datetime.strptime(Epoch_min, \"%Y-%m-%d %H:%M:%S\")\n",
    "Epoch_max = '2024-08-24 00:00:00';  t_max0 = datetime.datetime.strptime(Epoch_max, \"%Y-%m-%d %H:%M:%S\")\n",
    "t_min0 = 0;  t_max0 = 0     # no-assign -- all duration\n",
    "\n",
    "dump_mode = 1                                           # 0: no-dump  1:plot dump\n",
    "work_dir  = '/Users/user/0-python/JUICE_python/ql/'     # Plot dump folder"
   ]
  },
  {
   "cell_type": "markdown",
   "id": "4c8e7fc3",
   "metadata": {},
   "source": [
    "### Geometry File Read"
   ]
  },
  {
   "cell_type": "code",
   "execution_count": null,
   "id": "f9abc83b",
   "metadata": {},
   "outputs": [],
   "source": [
    "name_dir = './mk/' #/Users/user/D-Univ/data/data-JUICE/geometry/'\n",
    "name_file, name_target, name_observer, name_frame = juice_spice.name_geometry(ID_target, ID_observer, ID_frame, Epoch_min, Epoch_max)\n",
    "name_geometry_file = name_dir + name_file\n",
    "print(name_geometry_file)"
   ]
  },
  {
   "cell_type": "code",
   "execution_count": null,
   "id": "e35caa7f",
   "metadata": {},
   "outputs": [],
   "source": [
    "with open(name_geometry_file, 'r') as f:\n",
    "    reader = csv.reader(f);  i = 1\n",
    "    list = [row for row in reader]"
   ]
  },
  {
   "cell_type": "code",
   "execution_count": null,
   "id": "07e4de52",
   "metadata": {},
   "outputs": [],
   "source": [
    "n_num = len(list)\n",
    "j = 0;  k = 0\n",
    "for i in range(n_num):\n",
    "    if len(list[i]) < 10 and i < 17:\n",
    "        j = i\n",
    "    if len(list[i]) < 10 and i > 17:\n",
    "        k = i\n",
    "        break\n",
    "list = list[j+1:k];  n_num = len(list)"
   ]
  },
  {
   "cell_type": "code",
   "execution_count": null,
   "id": "c8bda08c",
   "metadata": {},
   "outputs": [],
   "source": [
    "class struct:\n",
    "    pass\n",
    "\n",
    "geometry = struct();  n_num = len(list)\n",
    "geometry.distance  = np.zeros((   n_num-1))\n",
    "geometry.location  = np.zeros((3, n_num-1))\n",
    "geometry.direction = np.zeros((3, n_num-1))\n",
    "geometry.epoch     = []\n",
    "\n",
    "for i in range(n_num):\n",
    "    if i>0:\n",
    "        time = datetime.datetime.strptime(list[i][0][0:19], '%Y-%m-%d %H:%M:%S')\n",
    "        geometry.epoch.append(time)\n",
    "        geometry.location [0][i-1] = list[i][3]; geometry.location[1][i-1] = list[i][4]; geometry.location[2][i-1] = list[i][5]\n",
    "        geometry.distance [i-1] = (geometry.location[0][i-1]**2 + geometry.location[1][i-1]**2 + geometry.location[2][i-1]**2)**0.5\n",
    "geometry.direction = geometry.location / geometry.distance\n",
    "\n",
    "distance_max = np.nanmax(geometry.distance)"
   ]
  },
  {
   "cell_type": "code",
   "execution_count": null,
   "id": "652173a8",
   "metadata": {},
   "outputs": [],
   "source": [
    "# Time, Direction[km], Distance[km]\n",
    "print(\"[Target]\", name_target, \"  [Observer]\", name_observer, \"  [Frame]\", name_frame,  '  [Total]', n_num)\n",
    "print(' [Start]', geometry.epoch[0],  f'  Direction ({geometry.direction[0][ 0]:+.3f}, {geometry.direction[1][ 0]:+.3f}, {geometry.direction[2][ 0]:+.3f})', f' Distance[km] {geometry.distance[ 0]:.3e}',  f'({geometry.location[0][ 0]:+.3e}, {geometry.location[1][ 0]:+.3e}, {geometry.location[2][ 0]:+.3e})')\n",
    "print('   [End]', geometry.epoch[-1], f'  Direction ({geometry.direction[0][-1]:+.3f}, {geometry.direction[1][-1]:+.3f}, {geometry.direction[2][-1]:+.3f})', f' Distance[km] {geometry.distance[-1]:.3e}',  f'({geometry.location[0][-1]:+.3e}, {geometry.location[1][-1]:+.3e}, {geometry.location[2][-1]:+.3e})')"
   ]
  },
  {
   "cell_type": "markdown",
   "id": "ae7e157a",
   "metadata": {},
   "source": [
    "### Plot"
   ]
  },
  {
   "cell_type": "code",
   "execution_count": null,
   "metadata": {},
   "outputs": [],
   "source": [
    "fig = plt.figure(figsize=(14, 11))\n",
    "ax1 = fig.add_subplot(2, 1, 1);  ax2 = fig.add_subplot(2, 1, 2)\n",
    "\n",
    "ax1.plot(geometry.epoch, geometry.direction[0], '-r', linewidth=1, label='X')\n",
    "ax1.plot(geometry.epoch, geometry.direction[1], '-g', linewidth=1, label='Y')\n",
    "ax1.plot(geometry.epoch, geometry.direction[2], '-b', linewidth=1, label='Z')\n",
    "ax2.plot(geometry.epoch, geometry.distance,     '-y', linewidth=3, label='R')\n",
    "ax2.plot(geometry.epoch, geometry.location[0],  '-r', linewidth=1, label='X')\n",
    "ax2.plot(geometry.epoch, geometry.location[1],  '-g', linewidth=1, label='Y')\n",
    "ax2.plot(geometry.epoch, geometry.location[2],  '-b', linewidth=1, label='Z')\n",
    "ax1.set_ylabel('Direction');  ax2.set_ylabel('Distance [km]')\n",
    "ax1.legend(loc='upper right', fontsize=8); ax2.legend(loc='upper right', fontsize=8)\n",
    "title_label = '[direction & distance of ' + name_target + ' from ' + name_observer + ' in ' + name_frame + ' frame]';  ax1.set_title(title_label)\n",
    "\n",
    "if t_min0 == 0:\n",
    "    E_min = '2024-08-23 03:00:00';  t_min = datetime.datetime.strptime(E_min, \"%Y-%m-%d %H:%M:%S\");  \n",
    "    E_max = '2024-08-23 06:00:00';  t_max = datetime.datetime.strptime(E_max, \"%Y-%m-%d %H:%M:%S\");  xlim=[t_min, t_max]\n",
    "    xlim=[geometry.epoch[0], geometry.epoch[-1]]\n",
    "else:\n",
    "    xlim=[t_min0, t_max0]\n",
    "print(\"==> [X-axis] \", xlim[0].strftime('%Y%m%d %H%M -'), xlim[1].strftime('%Y%m%d %H%M'));  ax1.set_xlim(xlim);  ax2.set_xlim(xlim)\n",
    "ylim=[-1, +1];                      ax1.set_ylim(ylim)\n",
    "ylim=[-distance_max, distance_max]; ax2.set_ylim(ylim)\n",
    "\n",
    "fig.show\n",
    "if dump_mode == 1:\n",
    "    png_filename = work_dir + 'geometry-' + name_target + '-' + name_observer + '-' + name_frame + '_' + xlim[0].strftime('%Y%m%d%H%M-') + xlim[1].strftime('%Y%m%d%H%M') + '.png'\n",
    "    fig.savefig(png_filename);  print(png_filename)"
   ]
  },
  {
   "cell_type": "code",
   "execution_count": null,
   "id": "fbc71ffe",
   "metadata": {},
   "outputs": [],
   "source": [
    "if ID_frame == 99 or ID_frame == 991:\n",
    "    if ID_frame == 99:\n",
    "        geometry.direction_sc     = geometry.direction\n",
    "        geometry.direction_rwi    = np.zeros((3, n_num-1))\n",
    "        geometry.direction_rwi[0] = geometry.direction_sc[0] *(-0.87494143) + geometry.direction_sc[1] *(+0.33033414) + geometry.direction_sc[2] *(-0.35405770)\n",
    "        geometry.direction_rwi[1] = geometry.direction_sc[0] *(+0.26827433) + geometry.direction_sc[1] *(-0.27793454) + geometry.direction_sc[2] *(-0.92237806)\n",
    "        geometry.direction_rwi[2] = geometry.direction_sc[0] *(-0.40310650) + geometry.direction_sc[1] *(-0.90200559) + geometry.direction_sc[2] *(+0.15456734)\n",
    "    if ID_frame == 991:\n",
    "        geometry.direction_rwi    = geometry.direction\n",
    "        geometry.direction_sc     = np.zeros((3, n_num-1))\n",
    "        geometry.direction_sc[0]  = geometry.direction_rwi[0]*(-0.87494143) + geometry.direction_rwi[1]*(+0.26827433) + geometry.direction_rwi[2]*(-0.40310650)\n",
    "        geometry.direction_sc[1]  = geometry.direction_rwi[0]*(+0.33033414) + geometry.direction_rwi[1]*(-0.27793454) + geometry.direction_rwi[2]*(-0.90200559)\n",
    "        geometry.direction_sc[2]  = geometry.direction_rwi[0]*(-0.3540577)  + geometry.direction_rwi[1]*(-0.92237806) + geometry.direction_rwi[2]*(+0.15456734)\n",
    "    \n",
    "    print(\"[Target]\", name_target, \"  [Observer]\", name_observer, \"  [Frame]\", name_frame,  '  [Total]', n_num)\n",
    "    print(' [Start]', geometry.epoch[ 0],  f'  Direction_SC ({geometry.direction_sc[0][ 0]:+.3f}, {geometry.direction_sc[1][ 0]:+.3f}, {geometry.direction_sc[2][ 0]:+.3f})', f'  Direction_RWI ({geometry.direction_rwi[0][ 0]:+.3f}, {geometry.direction_rwi[1][ 0]:+.3f}, {geometry.direction_rwi[2][ 0]:+.3f})')\n",
    "    print('   [End]', geometry.epoch[-1],  f'  Direction_SC ({geometry.direction_sc[0][-1]:+.3f}, {geometry.direction_sc[1][-1]:+.3f}, {geometry.direction_sc[2][-1]:+.3f})', f'  Direction_RWI ({geometry.direction_rwi[0][-1]:+.3f}, {geometry.direction_rwi[1][-1]:+.3f}, {geometry.direction_rwi[2][-1]:+.3f})')"
   ]
  },
  {
   "cell_type": "code",
   "execution_count": null,
   "id": "f6162a8b",
   "metadata": {},
   "outputs": [],
   "source": [
    "if ID_frame == 99 or ID_frame == 991:\n",
    "    fig = plt.figure(figsize=(14, 11))\n",
    "    ax1 = fig.add_subplot(2, 1, 1);  ax2 = fig.add_subplot(2, 1, 2)\n",
    "\n",
    "    ax1.plot(geometry.epoch, geometry.direction_sc[0],  '-r', linewidth=1, label='X')\n",
    "    ax1.plot(geometry.epoch, geometry.direction_sc[1],  '-g', linewidth=1, label='Y')\n",
    "    ax1.plot(geometry.epoch, geometry.direction_sc[2],  '-b', linewidth=1, label='Z')\n",
    "    ax2.plot(geometry.epoch, geometry.direction_rwi[0], '-r', linewidth=1, label='X')\n",
    "    ax2.plot(geometry.epoch, geometry.direction_rwi[1], '-g', linewidth=1, label='Y')\n",
    "    ax2.plot(geometry.epoch, geometry.direction_rwi[2], '-b', linewidth=1, label='Z')\n",
    "    ax1.set_ylabel('Direction SC-frame');  ax2.set_ylabel('Direction RWI-frame')\n",
    "    ax1.legend(loc='upper right', fontsize=8); ax2.legend(loc='upper right', fontsize=8)\n",
    "    title_label = '[direction of ' + name_target + ' from ' + name_observer + ' in ' + name_frame + ' frame]';  ax1.set_title(title_label)\n",
    "\n",
    "    if t_min0 == 0:\n",
    "        E_min = '2024-08-23 03:00:00';  t_min = datetime.datetime.strptime(E_min, \"%Y-%m-%d %H:%M:%S\");  \n",
    "        E_max = '2024-08-23 06:00:00';  t_max = datetime.datetime.strptime(E_max, \"%Y-%m-%d %H:%M:%S\");  xlim=[t_min, t_max]\n",
    "        xlim=[geometry.epoch[0], geometry.epoch[-1]]\n",
    "    else:\n",
    "        xlim=[t_min0, t_max0]\n",
    "    print(\"==> [X-axis] \", xlim[0].strftime('%Y%m%d %H%M -'), xlim[1].strftime('%Y%m%d %H%M'));  ax1.set_xlim(xlim);  ax2.set_xlim(xlim)\n",
    "    ylim=[-1, +1];  ax1.set_ylim(ylim);  ax2.set_ylim(ylim)\n",
    "\n",
    "    fig.show\n",
    "    if dump_mode == 1:\n",
    "        png_filename = work_dir + 'geometry2-' + name_target + '-' + name_observer + '-' + name_frame + '_' + xlim[0].strftime('%Y%m%d%H%M-') + xlim[1].strftime('%Y%m%d%H%M') + '.png'\n",
    "        fig.savefig(png_filename);  print(png_filename)"
   ]
  }
 ],
 "metadata": {
  "kernelspec": {
   "display_name": "3.11",
   "language": "python",
   "name": "python3"
  },
  "language_info": {
   "codemirror_mode": {
    "name": "ipython",
    "version": 3
   },
   "file_extension": ".py",
   "mimetype": "text/x-python",
   "name": "python",
   "nbconvert_exporter": "python",
   "pygments_lexer": "ipython3",
   "version": "3.11.10"
  }
 },
 "nbformat": 4,
 "nbformat_minor": 5
}
