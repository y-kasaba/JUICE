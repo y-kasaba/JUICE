{
 "cells": [
  {
   "cell_type": "markdown",
   "metadata": {},
   "source": [
    "# JUICE ORBIT QL -- 2024/2/21"
   ]
  },
  {
   "cell_type": "code",
   "execution_count": null,
   "metadata": {},
   "outputs": [],
   "source": [
    "import sys\n",
    "import numpy as np\n",
    "import matplotlib.pyplot as plt\n",
    "import spiceypy as spice\n",
    "from astropy.constants import au\n",
    "from matplotlib import patches\n",
    "from datetime import datetime\n"
   ]
  },
  {
   "cell_type": "markdown",
   "metadata": {},
   "source": [
    "### SPICE test"
   ]
  },
  {
   "cell_type": "code",
   "execution_count": null,
   "metadata": {},
   "outputs": [],
   "source": [
    "spice.tkvrsn(\"TOOLKIT\")"
   ]
  },
  {
   "cell_type": "markdown",
   "metadata": {},
   "source": [
    "### Import JUICE Lib"
   ]
  },
  {
   "cell_type": "code",
   "execution_count": null,
   "metadata": {},
   "outputs": [],
   "source": [
    "sys.path.append(\"./lib/\")\n",
    "# Load SPICE kernels\n",
    "import juice_spice_lib as juice_spice"
   ]
  },
  {
   "cell_type": "markdown",
   "metadata": {},
   "source": [
    "### load SPICE ketnels"
   ]
  },
  {
   "cell_type": "code",
   "execution_count": null,
   "metadata": {},
   "outputs": [],
   "source": [
    "spice_dir = '/Users/user/Dropbox-Univ/data/data-JUICE/spice/juice/kernels/'\n",
    "\n",
    "juice_spice.spice_ini(spice_dir)\n",
    "# juice_spice.spice_predict_ini(spice_dir)\n",
    "\n",
    "save_folder_path = \"/Users/user/0-python/JUICE_python/ql/\""
   ]
  },
  {
   "cell_type": "markdown",
   "metadata": {},
   "source": [
    "# JUICE orbit near Earth"
   ]
  },
  {
   "cell_type": "code",
   "execution_count": null,
   "metadata": {},
   "outputs": [],
   "source": [
    "# set date/time\n",
    "utctim = \"2024-08-15T00:00:00\"      # start date/time\n",
    "l_date = 10                         # date\n",
    "dt = 60                             # time step [second]\n",
    "nd = l_date * 3600 * 24 / dt        # number of data\n",
    "\n",
    "et_ex = spice.str2et(utctim)        # seconds\n",
    "et = et_ex + dt * np.arange(0, nd)\n",
    "\n",
    "# calculate target position with spice\n",
    "x, y, z, r, lat, lon = juice_spice.get_juice_pos_earth(et, x_ref=\"SUN\")"
   ]
  },
  {
   "cell_type": "code",
   "execution_count": null,
   "metadata": {},
   "outputs": [],
   "source": [
    "# plot\n",
    "re = 6378.137  # km\n",
    "plt.plot(x / re, y / re)  # x 地球から見た太陽方向\n",
    "plt.title(\"JUICE orbit @ Earth: GSE X-Y\")\n",
    "plt.xlabel(\"GSE-X: Distance from Earth [Re] (sun direction)\")\n",
    "plt.ylabel(\"GSE-Y: Distance from Earth [Re]\")\n",
    "plt.text(int(x[0] / re), int(y[0] / re), utctim)\n",
    "plt.text(int(x[-1] / re), int(y[-1] / re), spice.et2datetime(et[-1]))\n",
    "plt.show()\n",
    "\n",
    "# plot\n",
    "plt.plot(x / re, z / re)  # x 地球から見た太陽方向\n",
    "plt.title(\"JUICE orbit @ Earth: GSE X-Z\")\n",
    "plt.xlabel(\"GSE-X: Distance from Earth [Re] / sun direction\")\n",
    "plt.ylabel(\"GSE-Z: Distance from Earth [Re] / IAU_EARTH north\")\n",
    "plt.text(int(x[0] / re), int(z[0] / re), utctim)\n",
    "plt.text(int(x[-1] / re), int(z[-1] / re), spice.et2datetime(et[-1]))\n",
    "plt.show()\n",
    "\n",
    "# plot\n",
    "plt.plot(et, r / re)  # x 地球から見た太陽方向\n",
    "plt.title(\"JUICE orbit @ Earth: distance - time\")\n",
    "plt.xlabel(\"Date\")\n",
    "plt.ylabel(\"Distance from Earth [Re]\")\n",
    "\n",
    "x_values = [et[0], et[-1]]\n",
    "x_labels = [spice.et2datetime(et[0]), spice.et2datetime(et[-1])]\n",
    "plt.xticks(x_values, x_labels)\n",
    "plt.show()"
   ]
  },
  {
   "cell_type": "markdown",
   "metadata": {},
   "source": [
    "# JUICE orbit around Moon"
   ]
  },
  {
   "cell_type": "code",
   "execution_count": null,
   "metadata": {},
   "outputs": [],
   "source": [
    "# set date/time\n",
    "utctim = \"2024-08-19T19:30:00\"      # start date/time\n",
    "l_date = .01                         # date\n",
    "dt = 60                             # time step [second]\n",
    "nd = l_date * 3600 * 24 / dt        # number of data\n",
    "\n",
    "et_ex = spice.str2et(utctim)        # seconds\n",
    "et = et_ex + dt * np.arange(0, nd)\n",
    "\n",
    "# calculate target position with spice\n",
    "x, y, z, r, lat, lon = juice_spice.get_juice_pos_moon(et, x_ref=\"SUN\")"
   ]
  },
  {
   "cell_type": "code",
   "execution_count": null,
   "metadata": {},
   "outputs": [],
   "source": [
    "# plot\n",
    "re = 1737.4  # km\n",
    "plt.plot(x / re, y / re)  # x 地球から見た太陽方向\n",
    "plt.title(\"JUICE orbit @ Moon: GSE X-Y\")\n",
    "plt.xlabel(\"GSE-X: Distance from Moon [Rm] (sun direction)\")\n",
    "plt.ylabel(\"GSE-Y: Distance from Moon [Rm]\")\n",
    "plt.text(int(x[0] / re), int(y[0] / re), utctim)\n",
    "plt.text(int(x[-1] / re), int(y[-1] / re), spice.et2datetime(et[-1]))\n",
    "plt.show()\n",
    "\n",
    "# plot\n",
    "plt.plot(x / re, z / re)  # x 地球から見た太陽方向\n",
    "plt.title(\"JUICE orbit @ Moon: GSE X-Z\")\n",
    "plt.xlabel(\"GSE-X: Distance from Moon [Rm] / sun direction\")\n",
    "plt.ylabel(\"GSE-Z: Distance from Moon [Rm] / IAU_EARTH north\")\n",
    "plt.text(int(x[0] / re), int(z[0] / re), utctim)\n",
    "plt.text(int(x[-1] / re), int(z[-1] / re), spice.et2datetime(et[-1]))\n",
    "plt.show()\n",
    "\n",
    "# plot\n",
    "plt.plot(et, r / re)  # x 地球から見た太陽方向\n",
    "plt.title(\"JUICE orbit @ Moon: distance - time\")\n",
    "plt.xlabel(\"Date\")\n",
    "plt.ylabel(\"Distance from Moon [Rm]\")\n",
    "\n",
    "x_values = [et[0], et[-1]]\n",
    "x_labels = [spice.et2datetime(et[0]), spice.et2datetime(et[-1])]\n",
    "plt.xticks(x_values, x_labels)\n",
    "plt.show()"
   ]
  },
  {
   "cell_type": "markdown",
   "metadata": {},
   "source": [
    "# JUICE orbit from Earth to Jupiter"
   ]
  },
  {
   "cell_type": "code",
   "execution_count": null,
   "metadata": {},
   "outputs": [],
   "source": [
    "# set date/time\n",
    "utctim = \"2023-04-14T00:00:00\"  # start date/time\n",
    "et_ex = spice.str2et(utctim)  # seconds\n",
    "nd = 365 * 10  # number of data\n",
    "dt = 60 * 60 * 24  # time step [second]\n",
    "et = et_ex + dt * np.arange(0, nd)\n",
    "\n",
    "# calculate target position with spice\n",
    "x, y, z, r, lat, lon = juice_spice.get_juice_pos_sun(et, x_ref=\"JUPITER\")"
   ]
  },
  {
   "cell_type": "code",
   "execution_count": null,
   "metadata": {},
   "outputs": [],
   "source": [
    "# plot\n",
    "au_km = au * 1e-3\n",
    "plt.plot(x / au_km, y / au_km)\n",
    "plt.title(\"JUICE orbit\")\n",
    "plt.xlabel(\"Distance from Sun [A.U.]\")\n",
    "plt.ylabel(\"Distance from Sun [A.U.]\")\n",
    "plt.show()\n",
    "\n",
    "# plot\n",
    "td = spice.et2datetime(et)\n",
    "plt.plot(td, r / au_km)\n",
    "plt.title(\"JUICE orbit\")\n",
    "plt.xlabel(\"Year\")\n",
    "plt.ylabel(\"Distance from Sun [A.U.]\")\n",
    "plt.show()"
   ]
  },
  {
   "cell_type": "markdown",
   "metadata": {},
   "source": [
    "# JUICE orbit around Jupiter (after JOI)"
   ]
  },
  {
   "cell_type": "code",
   "execution_count": null,
   "metadata": {},
   "outputs": [],
   "source": [
    "# set date/time\n",
    "utctim = \"2031-06-01T00:00:00\"  # start date/time\n",
    "et_ex = spice.str2et(utctim)  # seconds\n",
    "nd = 24 * 365 * 4  # number of data\n",
    "dt = 60 * 60  # time step [second]\n",
    "et = et_ex + dt * np.arange(0, nd)\n",
    "\n",
    "# calculate target position with spice\n",
    "x, y, z, r, lat, lon = juice_spice.get_juice_pos_jup(et, x_ref=\"SUN\")"
   ]
  },
  {
   "cell_type": "code",
   "execution_count": null,
   "metadata": {},
   "outputs": [],
   "source": [
    "# plot\n",
    "rj = 71400.0  # [km]\n",
    "plt.plot(x / rj, y / rj)\n",
    "plt.title(\"JUICE orbit / Sun : + X direction\")\n",
    "plt.xlabel(\"Distance from Jupiter [RJ]\")\n",
    "plt.ylabel(\"Distance from Jupiter [RJ]\")\n",
    "plt.show()\n",
    "\n",
    "# plot\n",
    "td = spice.et2datetime(et)\n",
    "rj = 71400.0  # [km]\n",
    "plt.figure(figsize=(16, 4))\n",
    "plt.plot(td, r / rj)\n",
    "plt.title(\"JUICE orbit\")\n",
    "plt.xlabel(\"Year\")\n",
    "plt.ylabel(\"Distance from Jupiter [RJ]\")\n",
    "plt.show()"
   ]
  },
  {
   "cell_type": "markdown",
   "metadata": {},
   "source": [
    "# Jupiter orbit around Ganymede (check IAU_GANYMEDE)"
   ]
  },
  {
   "cell_type": "code",
   "execution_count": null,
   "metadata": {},
   "outputs": [],
   "source": [
    "# set date/time\n",
    "utctim = \"2020-01-01T00:00:00\"  # start date/time\n",
    "et_ex = spice.str2et(utctim)  # seconds\n",
    "nd = 365 * 12  # number of data\n",
    "dt = 24 * 60 * 60  # time step [second]\n",
    "et = et_ex + dt * np.arange(0, nd)\n",
    "\n",
    "# calculate target position with spice\n",
    "x, y, z, r, lat, lon = juice_spice.get_pos(et, \"IAU_GANYMEDE\", \"JUPITER\", \"GANYMEDE\")"
   ]
  },
  {
   "cell_type": "code",
   "execution_count": null,
   "metadata": {},
   "outputs": [],
   "source": [
    "td = spice.et2datetime(et)\n",
    "\n",
    "fig, (ax1, ax2) = plt.subplots(2, figsize=(12.0, 6.0), sharex=True, sharey=True)\n",
    "\n",
    "ax1.plot(td, lat * 180.0 / np.pi)\n",
    "ax1.set_title(\"GANYMEDE orbit\")\n",
    "ax1.set_ylabel(\"latitude [deg]\")\n",
    "\n",
    "ax2.plot(td, lon * 180.0 / np.pi)\n",
    "ax2.set_xlabel(\"Year\")\n",
    "ax2.set_ylabel(\"longitude [deg]\")"
   ]
  },
  {
   "cell_type": "markdown",
   "metadata": {},
   "source": [
    "# JUICE orbit around Ganymede"
   ]
  },
  {
   "cell_type": "code",
   "execution_count": null,
   "metadata": {},
   "outputs": [],
   "source": [
    "# set date/time\n",
    "utctim = \"2034-11-01T00:00:00\"  # start date/time\n",
    "et_ex = spice.str2et(utctim)  # seconds\n",
    "nd = 24 * 30 * 11  # number of data\n",
    "dt = 60 * 60  # time step [second]\n",
    "et = et_ex + dt * np.arange(0, nd)\n",
    "\n",
    "# calculate target position with spice\n",
    "x, y, z, r, lat, lon = juice_spice.get_pos(et, \"IAU_GANYMEDE\", \"JUICE\", \"GANYMEDE\")"
   ]
  },
  {
   "cell_type": "code",
   "execution_count": null,
   "metadata": {},
   "outputs": [],
   "source": [
    "# plot\n",
    "plt.plot(x, y)\n",
    "range = 200000.0\n",
    "\n",
    "plt.xlim(-range, range)\n",
    "plt.ylim(-range, range)\n",
    "plt.title(\"JUICE orbit\")\n",
    "plt.xlabel(\"Distance from Ganymede [km]\")\n",
    "plt.ylabel(\"Distance from Ganymede [km]\")\n",
    "plt.show()\n",
    "\n",
    "# plot\n",
    "td = spice.et2datetime(et)\n",
    "plt.figure(figsize=(16, 4))\n",
    "plt.plot(td, r)\n",
    "plt.ylim(0.0, 100000.0)\n",
    "plt.title(\"JUICE orbit\")\n",
    "plt.xlabel(\"Year\")\n",
    "plt.ylabel(\"Distance from Ganymede [km]\")\n",
    "plt.show()"
   ]
  },
  {
   "cell_type": "markdown",
   "metadata": {},
   "source": [
    "# JUICE orbit close to Ganymede"
   ]
  },
  {
   "cell_type": "code",
   "execution_count": null,
   "metadata": {},
   "outputs": [],
   "source": [
    "# set date/time\n",
    "utctim = \"2034-12-15T00:00:00\"  # start date/time\n",
    "et_ex = spice.str2et(utctim)  # seconds\n",
    "nd = 60 * 24 * 30 * 5  # number of data\n",
    "dt = 60  # time step [second]\n",
    "et = et_ex + dt * np.arange(0, nd)\n",
    "\n",
    "# calculate target position with spice\n",
    "x, y, z, r, lat, lon = juice_spice.get_pos(et, \"IAU_GANYMEDE\", \"JUICE\", \"GANYMEDE\")"
   ]
  },
  {
   "cell_type": "code",
   "execution_count": null,
   "metadata": {},
   "outputs": [],
   "source": [
    "rg = 2634.1  # [km]\n",
    "idx = np.where(r < 20000.0)\n",
    "\n",
    "fig, (ax1, ax2) = plt.subplots(1, 2, figsize=(12.0, 6.0), sharex=True, sharey=True)\n",
    "\n",
    "ax1.scatter(x / rg, y / rg, s=0.1)\n",
    "range = 5.0\n",
    "ax1.set_xlim(-range, range)\n",
    "ax1.set_ylim(-range, range)\n",
    "ax1.set_title(\"JUICE orbit\")\n",
    "ax1.set_xlabel(\"X distance from Ganymede [Rg]\")\n",
    "ax1.set_ylabel(\"Y distance from Ganymede [Rg]\")\n",
    "\n",
    "ax2.scatter(y / rg, z / rg, s=0.1)\n",
    "range = 5.0\n",
    "ax2.set_xlim(-range, range)\n",
    "ax2.set_ylim(-range, range)\n",
    "ax2.set_title(\"JUICE orbit\")\n",
    "ax2.set_xlabel(\"Y distance from Ganymede [Rg]\")\n",
    "ax2.set_ylabel(\"Z distance from Ganymede [Rg]\")"
   ]
  },
  {
   "cell_type": "code",
   "execution_count": null,
   "metadata": {},
   "outputs": [],
   "source": [
    "plt.figure(figsize=(12, 6))\n",
    "plt.scatter(lon * 180.0 / np.pi, lat * 180.0 / np.pi, s=0.1)\n",
    "plt.title(\"JUICE orbit\")\n",
    "plt.xlabel(\"Longitude [deg]\")\n",
    "plt.ylabel(\"Latitude [deg]\")\n",
    "plt.show()"
   ]
  },
  {
   "cell_type": "code",
   "execution_count": null,
   "metadata": {},
   "outputs": [],
   "source": [
    "# set date/time\n",
    "utctim = \"2035-05-20T00:00:00\"  # start date/time\n",
    "et_ex = spice.str2et(utctim)  # seconds\n",
    "nd = 60 * 24 * 120  # number of data\n",
    "dt = 60  # time step [second]\n",
    "et = et_ex + dt * np.arange(0, nd)\n",
    "\n",
    "# calculate target position with spice\n",
    "x, y, z, r, lat, lon = juice_spice.get_pos(et, \"IAU_GANYMEDE\", \"JUICE\", \"GANYMEDE\")"
   ]
  },
  {
   "cell_type": "code",
   "execution_count": null,
   "metadata": {},
   "outputs": [],
   "source": [
    "rg = 2634.1  # [km]\n",
    "idx = np.where(r < 20000.0)\n",
    "\n",
    "fig, (ax1, ax2) = plt.subplots(1, 2, figsize=(12.0, 6.0), sharex=True, sharey=True)\n",
    "\n",
    "ax1.scatter(x / rg, y / rg, s=0.1)\n",
    "range = 2.0\n",
    "ax1.set_xlim(-range, range)\n",
    "ax1.set_ylim(-range, range)\n",
    "ax1.set_title(\"JUICE orbit\")\n",
    "ax1.set_xlabel(\"X distance from Ganymede [Rg]\")\n",
    "ax1.set_ylabel(\"Y distance from Ganymede [Rg]\")\n",
    "\n",
    "ax2.scatter(y / rg, z / rg, s=0.1)\n",
    "range = 2.0\n",
    "ax2.set_xlim(-range, range)\n",
    "ax2.set_ylim(-range, range)\n",
    "ax2.set_title(\"JUICE orbit\")\n",
    "ax2.set_xlabel(\"Y distance from Ganymede [Rg]\")\n",
    "ax2.set_ylabel(\"Z distance from Ganymede [Rg]\")"
   ]
  },
  {
   "cell_type": "code",
   "execution_count": null,
   "metadata": {},
   "outputs": [],
   "source": [
    "plt.figure(figsize=(12, 6))\n",
    "plt.scatter(lon * 180.0 / np.pi, lat * 180.0 / np.pi, s=0.1)\n",
    "plt.title(\"JUICE orbit\")\n",
    "plt.xlabel(\"Longitude [deg]\")\n",
    "plt.ylabel(\"Latitude [deg]\")\n",
    "plt.show()"
   ]
  },
  {
   "cell_type": "markdown",
   "metadata": {},
   "source": [
    "# JUICE orbit close to Venus"
   ]
  },
  {
   "cell_type": "code",
   "execution_count": null,
   "metadata": {},
   "outputs": [],
   "source": [
    "# set date/time\n",
    "# utctim = \"2025-08-31T04:00:00\"  # start date/time\n",
    "utctim = \"2026-08-31T04:00:00\"  # start date/time\n",
    "et_ex = spice.str2et(utctim)  # seconds\n",
    "nd = 100  # number of data\n",
    "dt = 24 * 60 * 60  # time step [second]\n",
    "et = et_ex + dt * np.arange(0, nd)\n",
    "td = spice.et2datetime(et)\n",
    "# calculate target position with spice\n",
    "x, y, z, r, lat, lon = juice_spice.get_juice_pos_venus(et, x_ref=\"SUN\")"
   ]
  },
  {
   "cell_type": "code",
   "execution_count": null,
   "metadata": {},
   "outputs": [],
   "source": [
    "# plot\n",
    "re = 6051.8  # km\n",
    "plt.plot(td, r / re)  # x 地球から見た太陽方向\n",
    "plt.title(\"JUICE orbit\")\n",
    "plt.ylabel(\"Distance [Rv]\")\n",
    "plt.xlabel(\"Date time 2025\")\n",
    "plt.show()\n",
    "\n",
    "# %%\n",
    "plt.plot(x / re, y / re)  # x 地球から見た太陽方向\n",
    "plt.title(\"JUICE orbit\")\n",
    "plt.xlabel(\"x(sun direction) [Rv]\")\n",
    "plt.ylabel(\"y(trailing direction) [Rv]\")\n",
    "plt.show()\n",
    "# %%\n",
    "plt.plot(x / re, z / re)  # x 地球から見た太陽方向\n",
    "plt.title(\"JUICE orbit\")\n",
    "plt.xlabel(\"x(sun direction) [Rv]\")\n",
    "plt.ylabel(\"z(polar) [Rv]\")\n",
    "plt.show()\n",
    "# %%\n"
   ]
  }
 ],
 "metadata": {
  "kernelspec": {
   "display_name": "Python 3",
   "language": "python",
   "name": "python3"
  },
  "language_info": {
   "codemirror_mode": {
    "name": "ipython",
    "version": 3
   },
   "file_extension": ".py",
   "mimetype": "text/x-python",
   "name": "python",
   "nbconvert_exporter": "python",
   "pygments_lexer": "ipython3",
   "version": "3.10.14"
  },
  "orig_nbformat": 4
 },
 "nbformat": 4,
 "nbformat_minor": 2
}
