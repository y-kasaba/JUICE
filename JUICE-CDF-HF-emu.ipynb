{
 "cells": [
  {
   "cell_type": "markdown",
   "id": "5ad0cc98",
   "metadata": {},
   "source": [
    "# JUICE RPWI HF Emulation and Comparison: L1a all SIDs & ASWs -- 2025/10/21"
   ]
  },
  {
   "attachments": {},
   "cell_type": "markdown",
   "id": "a116756d",
   "metadata": {},
   "source": [
    "# Import lib"
   ]
  },
  {
   "cell_type": "code",
   "execution_count": null,
   "id": "bca50671",
   "metadata": {},
   "outputs": [],
   "source": [
    "import matplotlib.pyplot as plt\n",
    "import numpy as np\n",
    "import sys\n",
    "from scipy.signal import medfilt"
   ]
  },
  {
   "cell_type": "markdown",
   "id": "1f5e8c0c",
   "metadata": {},
   "source": [
    "# Library setting"
   ]
  },
  {
   "cell_type": "code",
   "execution_count": null,
   "id": "6c181f65",
   "metadata": {},
   "outputs": [],
   "source": [
    "# The latest CDF library https://spdf.gsfc.nasa.gov/pub/software/cdf/dist/latest/\n",
    "from spacepy import pycdf\n",
    "\n",
    "# *** Library ***\n",
    "sys.path.append('./lib/')\n",
    "#import juice_cal_lib  as juice_cal\n",
    "#import juice_cdf_lib  as juice_cdf\n",
    "import juice_emu_lib   as juice_emu\n",
    "import juice_sid2_lib  as juice_sid2\n",
    "import juice_sid3_lib  as juice_sid3\n",
    "import juice_sid20_lib as juice_sid20\n",
    "import juice_sid21_lib as juice_sid21\n",
    "import juice_sid5_lib  as juice_sid5\n",
    "import juice_spec_lib  as juice_spec"
   ]
  },
  {
   "attachments": {},
   "cell_type": "markdown",
   "id": "578b15bb",
   "metadata": {},
   "source": [
    "# Mode setting"
   ]
  },
  {
   "cell_type": "code",
   "execution_count": null,
   "id": "05e8da84",
   "metadata": {},
   "outputs": [],
   "source": [
    "# *** SID ***\n",
    "mode_sid2 = 1;  mode_sid3 = 1;  mode_sid4 = 1;  mode_sid20= 1\n",
    "mode_sid5 = 1;  mode_sid21= 1;  mode_sid6 = 1;  mode_sid22= 1;  mode_sid7 = 1;  mode_sid23= 1\n",
    "# *** Plot dump ***\n",
    "dump_mode = 0                           # 0: no-dump  1:plot dump  2:comparison for operation\n",
    "# *** CAL ***\n",
    "cal_mode  = 2                           # [Power]     0: background     1: CAL     2: all\n",
    "# *** Unit ***\n",
    "f_mode    = 1                           # [Frequency] 0: linear  1: log\n",
    "# *** Directory set: set by User ***\n",
    "work_dir = '/Users/user/0-python/JUICE_python/ql/'   # Plot dump folder"
   ]
  },
  {
   "attachments": {},
   "cell_type": "markdown",
   "id": "093823c4",
   "metadata": {},
   "source": [
    "# get CDF data"
   ]
  },
  {
   "cell_type": "code",
   "execution_count": null,
   "id": "2fff7332",
   "metadata": {},
   "outputs": [],
   "source": [
    "class struct:\n",
    "    pass\n",
    "data_sid2  = struct(); data_sid3  = struct()\n",
    "data_sid4  = struct(); data_sid5  = struct(); data_sid6  = struct(); data_sid7  = struct()\n",
    "data_sid20 = struct(); data_sid21 = struct(); data_sid22 = struct(); data_sid23 = struct()"
   ]
  },
  {
   "cell_type": "code",
   "execution_count": null,
   "id": "64c1c72b",
   "metadata": {},
   "outputs": [],
   "source": [
    "cdf_sid2, cdf_sid3, cdf_sid20, cdf_sid4, cdf_sid21, cdf_sid5 = juice_emu.datalist()"
   ]
  },
  {
   "cell_type": "markdown",
   "id": "d88d318c",
   "metadata": {},
   "source": [
    "# SID-2"
   ]
  },
  {
   "cell_type": "code",
   "execution_count": null,
   "id": "9f26ed42",
   "metadata": {},
   "outputs": [],
   "source": [
    "if mode_sid2>0:\n",
    "    ##########\n",
    "    n_sweep1 = 4;  n_sweep2 = 6;                       # SID-2 ASW3  20251010    1.5MHz  10mVpp\n",
    "    # n_sweep1 = 0;  n_sweep2 = data_sid2.n_time-1;      # SID-2 ASW2  20250331    OFF & CAL\n",
    "    ##########\n",
    "    cdf = pycdf.CDF(cdf_sid2);  data_sid2 = juice_sid2.hf_sid2_read(cdf);  data_sid2 = juice_sid2.hf_sid2_shaping(data_sid2, cal_mode)\n",
    "    juice_emu.plot_data_Eu(data_sid2, 'SID-2', dump_mode)\n",
    "    wave_sid2 =juice_emu.wave_shaping_Eu(data_sid2, 'SID-2', n_sweep1, n_sweep2)\n",
    "    juice_emu.plot_data_Eu(wave_sid2, 'SID-2', dump_mode)"
   ]
  },
  {
   "cell_type": "markdown",
   "id": "a2b60696",
   "metadata": {},
   "source": [
    "### Spec Data: SID-2 in RAW^2 & RAW^2/Hz"
   ]
  },
  {
   "cell_type": "code",
   "execution_count": null,
   "id": "a6f4bbd3",
   "metadata": {},
   "outputs": [],
   "source": [
    "if mode_sid2>0:\n",
    "    ##########\n",
    "    n_median  = 21     # Median filter\n",
    "    n_sweep01 = 0;  n_sweep02 = wave_sid2.n_time//2;  n_sweep03 = wave_sid2.n_time-1\n",
    "    ##########\n",
    "    spec_sid2 = juice_spec.hf_getspec_sid2(data_sid2)\n",
    "    spec_sid2 = juice_emu.spec_shaping_EuEu(spec_sid2, 'SID-2', n_sweep1, n_sweep2, n_median)\n",
    "    juice_emu.plot_spec_EuEu(spec_sid2, n_sweep01, n_sweep02, n_sweep03, 'SID-2', f_mode, dump_mode)"
   ]
  },
  {
   "cell_type": "markdown",
   "id": "2e49d10b",
   "metadata": {},
   "source": [
    "# SID-3"
   ]
  },
  {
   "cell_type": "code",
   "execution_count": null,
   "id": "0caf4d92",
   "metadata": {},
   "outputs": [],
   "source": [
    "if mode_sid3>0:\n",
    "    ##########\n",
    "    n_sweep1 = 4;  n_sweep2 = 17;                       # SID-3 ASW3 COMP-1 20250925    1.5MHz  Vin=10mVpp  Phase=[0 45 90 135 180 225 270 315 0] deg (for Y-ch)\n",
    "    ##########\n",
    "    cdf = pycdf.CDF(cdf_sid3);  data_sid3 = juice_sid3.hf_sid3_read(cdf);  data_sid3 = juice_sid3.hf_sid3_shaping(data_sid3, cal_mode, 4, 1)\n",
    "    juice_emu.plot_data_EuEu(data_sid3, 'SID-3', dump_mode)\n",
    "    wave_sid3 =juice_emu.wave_shaping_EuEu(data_sid3, 'SID-3', n_sweep1, n_sweep2)\n",
    "    juice_emu.plot_data_EuEu(wave_sid3, 'SID-3', dump_mode)"
   ]
  },
  {
   "cell_type": "code",
   "execution_count": null,
   "id": "6188d012",
   "metadata": {},
   "outputs": [],
   "source": [
    "if mode_sid3>0:\n",
    "    ##########\n",
    "    n_median  = 3     # Median filter\n",
    "    n_sweep01 = 0;  n_sweep02 = wave_sid3.n_time//2;  n_sweep03 = wave_sid3.n_time-1\n",
    "    ##########\n",
    "    spec_sid3 = juice_emu.spec_data2spec(data_sid3);  spec_sid3 = juice_emu.spec_shaping_EuEu(spec_sid3, 'SID-3', n_sweep1, n_sweep2, n_median)\n",
    "    juice_emu.plot_spec_EuEu(spec_sid3, n_sweep01, n_sweep02, n_sweep03, 'SID-3', f_mode, dump_mode)"
   ]
  },
  {
   "cell_type": "markdown",
   "id": "0c9475dd",
   "metadata": {},
   "source": [
    "# SID-20"
   ]
  },
  {
   "cell_type": "code",
   "execution_count": null,
   "id": "9af8cb33",
   "metadata": {},
   "outputs": [],
   "source": [
    "if mode_sid20>0:\n",
    "    cdf = pycdf.CDF(cdf_sid20);  data_sid20 = juice_sid20.hf_sid20_read(cdf);  data_sid20 = juice_sid20.hf_sid20_shaping(data_sid20, cal_mode, 1)\n",
    "    ##########\n",
    "    n_sweep1 = 12;  n_sweep2 = data_sid20.n_time-1;                # ASW3 COMP-1 20250925    0.02-2MHz 5s\t\tVin=10 mVpp\n",
    "    ##########\n",
    "    juice_emu.plot_data_EuEu(data_sid20, 'SID-20', dump_mode)\n",
    "    wave_sid20 =juice_emu.wave_shaping_EuEu(data_sid20, 'SID-20', n_sweep1, n_sweep2)\n",
    "    juice_emu.plot_data_EuEu(wave_sid20, 'SID-20', dump_mode)"
   ]
  },
  {
   "cell_type": "code",
   "execution_count": null,
   "id": "855111e4",
   "metadata": {},
   "outputs": [],
   "source": [
    "if mode_sid20>0:\n",
    "    ##########\n",
    "    n_median   = 3     # Median filter\n",
    "    n_sweep01 = 0;  n_sweep02 = wave_sid20.n_time//2;  n_sweep03 = wave_sid20.n_time-1\n",
    "    ##########\n",
    "    spec_sid20 = juice_emu.spec_data2spec(data_sid20);  spec_sid20 = juice_emu.spec_shaping_EuEu(spec_sid20, 'SID-20', n_sweep1, n_sweep2, n_median)\n",
    "    spec_sid20 = juice_emu.spec_shaping_EuEu_sid20(data_sid20, spec_sid20, n_median)\n",
    "    juice_emu.plot_spec_EuEu(spec_sid20, n_sweep01, n_sweep02, n_sweep03, 'SID-20', f_mode, dump_mode)"
   ]
  },
  {
   "cell_type": "code",
   "execution_count": null,
   "id": "af649713",
   "metadata": {},
   "outputs": [],
   "source": [
    "if mode_sid20>0:\n",
    "    n_sweep001 = n_sweep01 * data_sid20.n_block\n",
    "    n_sweep002 = n_sweep02 * data_sid20.n_block\n",
    "    n_sweep003 = n_sweep03 * data_sid20.n_block\n",
    "\n",
    "    fig = plt.figure(figsize=(16, 11));  ax1 = fig.add_subplot(1, 1, 1)\n",
    "    ax1.plot(spec_sid20.freq_1d, spec_sid20.EuEu_1d[n_sweep001], '-r', linewidth=.2, label='[SID-20] EuEu {:d}'.format(n_sweep001))\n",
    "    ax1.plot(spec_sid20.freq_1d, spec_sid20.EuEu_1d[n_sweep002], '-g', linewidth=.2, label='[SID-20] EuEu {:d}'.format(n_sweep002))\n",
    "    ax1.plot(spec_sid20.freq_1d, spec_sid20.EuEu_1d[n_sweep003], '-b', linewidth=.2, label='[SID-20] EuEu {:d}'.format(n_sweep003))\n",
    "    ax1.plot(spec_sid20.freq_1d, spec_sid20.EuEu_1d_med,         '-k', linewidth=1,  label='[SID-20] EuEu med')\n",
    "    ax1.plot(spec_sid20.freq_1d, spec_sid20.EuEu_1d_cln,         '-r', linewidth=1,  label='[SID-20] EuEu cln')\n",
    "    ax1.set_ylabel('[SID-20] EuEu (RAW^2)');  ax1.legend(loc='upper right', fontsize=8); \n",
    "    ax1.set_yscale('log')\n",
    "    if f_mode == 1:\n",
    "        ax1.set_xscale('log')\n",
    "\n",
    "    xlim=[np.nanmin(spec_sid20.freq_1d), np.nanmax(spec_sid20.freq_1d)]\n",
    "    ax1.set_xlim(xlim)\n",
    "    #ylim=[10**(p_min), 10**(p_max)]\n",
    "    #ax1.set_ylim(ylim)\n",
    "\n",
    "    fig.show"
   ]
  },
  {
   "cell_type": "markdown",
   "id": "d49162c4",
   "metadata": {},
   "source": [
    "# SID-4"
   ]
  },
  {
   "cell_type": "code",
   "execution_count": null,
   "id": "06f687e4",
   "metadata": {},
   "outputs": [],
   "source": [
    "if mode_sid4>0:\n",
    "    cdf = pycdf.CDF(cdf_sid4);  data_sid4 = juice_sid20.hf_sid20_read(cdf);  data_sid4 = juice_sid20.hf_sid20_shaping(data_sid4, cal_mode, 1)\n",
    "    ##########\n",
    "    n_sweep1 = 1;  n_sweep2 = data_sid4.n_time;                # ASW3 COMP-1 20250925    0.02-2MHz 5s\t\tVin=10 mVpp\n",
    "    ##########\n",
    "    juice_emu.plot_data_EuEu(data_sid4, 'SID-4', dump_mode)\n",
    "    wave_sid4 =juice_emu.wave_shaping_EuEu(data_sid4, 'SID-4', n_sweep1, n_sweep2)\n",
    "    juice_emu.plot_data_EuEu(wave_sid4, 'SID-4', dump_mode)"
   ]
  },
  {
   "cell_type": "code",
   "execution_count": null,
   "id": "7375688f",
   "metadata": {},
   "outputs": [],
   "source": [
    "if mode_sid4>0:\n",
    "    ##########\n",
    "    n_median   = 3     # Median filter\n",
    "    n_sweep01 = 0;  n_sweep02 = wave_sid4.n_time//2;  n_sweep03 = wave_sid4.n_time-1\n",
    "    ##########\n",
    "    spec_sid4 = juice_emu.spec_data2spec(data_sid4);  spec_sid4 = juice_emu.spec_shaping_EuEu(spec_sid4, 'SID-4', n_sweep1, n_sweep2, n_median)\n",
    "    juice_emu.plot_spec_EuEu(spec_sid4, n_sweep01, n_sweep02, n_sweep03, 'SID-4', f_mode, dump_mode)"
   ]
  },
  {
   "cell_type": "markdown",
   "id": "1c0df068",
   "metadata": {},
   "source": [
    "# SID-21"
   ]
  },
  {
   "cell_type": "code",
   "execution_count": null,
   "id": "af333d8f",
   "metadata": {},
   "outputs": [],
   "source": [
    "if mode_sid21>0:\n",
    "    cdf = pycdf.CDF(cdf_sid21);  data_sid21 = juice_sid21.hf_sid21_read(cdf);  data_sid21 = juice_sid21.hf_sid21_shaping(data_sid21, cal_mode, 4, 1)\n",
    "    ##########\n",
    "    n_sweep1 = 39;  n_sweep2 = data_sid21.n_time        # SID-21   ASW3 COMP-1 20250926    1.5MHz  Vin=10mVpp, Phase=[0 45 90 135 180 225 270 315 0] deg (V-ch) \n",
    "    ##########\n",
    "    juice_emu.plot_data_EuEu(data_sid21, 'SID-21', dump_mode)\n",
    "    wave_sid21 =juice_emu.wave_shaping_EuEu(data_sid21, 'SID-21', n_sweep1, n_sweep2)\n",
    "    juice_emu.plot_data_EuEu(wave_sid21, 'SID-21', dump_mode)"
   ]
  },
  {
   "cell_type": "code",
   "execution_count": null,
   "id": "e2468db2",
   "metadata": {},
   "outputs": [],
   "source": [
    "if mode_sid21>0:\n",
    "    ##########\n",
    "    n_median  = 21  # Median filter\n",
    "    n_sweep01 = 0;  n_sweep02 = wave_sid21.n_time//2;  n_sweep03 = wave_sid21.n_time-1\n",
    "    ##########\n",
    "    spec_sid21 = juice_emu.spec_data2spec(data_sid21);  spec_sid21 = juice_emu.spec_shaping_EuEu(spec_sid21, 'SID-21', n_sweep1, n_sweep2, n_median)\n",
    "    juice_emu.plot_spec_EuEu(spec_sid21, n_sweep01, n_sweep02, n_sweep03, 'SID-21', f_mode, dump_mode)"
   ]
  },
  {
   "cell_type": "markdown",
   "id": "6927ca13",
   "metadata": {},
   "source": [
    "# SID-5"
   ]
  },
  {
   "cell_type": "code",
   "execution_count": null,
   "id": "7dd0b37c",
   "metadata": {},
   "outputs": [],
   "source": [
    "if mode_sid5>0:\n",
    "    cdf = pycdf.CDF(cdf_sid5);  data_sid5 = juice_sid5.hf_sid5_read(cdf);  data_sid5 = juice_sid5.hf_sid5_shaping(data_sid5, cal_mode); data_sid5.EuEu = data_sid5.EE\n",
    "    ##########\n",
    "    n_sweep1 = 39;  n_sweep2 = data_sid5.n_time        # SID-5   ASW3 COMP-1 20250926    1.5MHz  Vin=10mVpp, Phase=[0 45 90 135 180 225 270 315 0] deg (V-ch) \n",
    "    ##########\n",
    "    juice_emu.plot_data_EuEu(data_sid5, 'SID-5', dump_mode)\n",
    "    wave_sid5 =juice_emu.wave_shaping_EuEu(data_sid21, 'SID-5', n_sweep1, n_sweep2)\n",
    "    juice_emu.plot_data_EuEu(wave_sid5, 'SID-5', dump_mode)"
   ]
  },
  {
   "cell_type": "code",
   "execution_count": null,
   "id": "e6ef1f64",
   "metadata": {},
   "outputs": [],
   "source": [
    "if mode_sid5>0:\n",
    "    ##########\n",
    "    n_median  = 21  # Median filter\n",
    "    n_sweep01 = 0;  n_sweep02 = wave_sid5.n_time//2;  n_sweep03 = wave_sid5.n_time-1\n",
    "    ##########\n",
    "    spec_sid5 = juice_emu.spec_data2spec(data_sid5);  spec_sid5 = juice_emu.spec_shaping_EuEu(spec_sid5, 'SID-5', n_sweep1, n_sweep2, n_median)\n",
    "    juice_emu.plot_spec_EuEu(spec_sid5, n_sweep01, n_sweep02, n_sweep03, 'SID-5', f_mode, dump_mode)"
   ]
  },
  {
   "cell_type": "markdown",
   "id": "6395b7a2",
   "metadata": {},
   "source": [
    "# ALL SIDs"
   ]
  },
  {
   "cell_type": "code",
   "execution_count": null,
   "id": "6850503a",
   "metadata": {},
   "outputs": [],
   "source": [
    "if mode_sid2>0:  print(\"[Peak - SID02 Spec in RAW^2   ]  EuEu:\", '{:.2e}kHz            -- (peak)'.format(spec_sid2.peak_f),  '{:.2e}'.format(spec_sid2.peak_max),  '{:.2e}'.format(spec_sid2.peak_max**.5),  '| (sum) {:.2e}'.format(spec_sid2.peaks_max),  '{:.2e}'.format(spec_sid2.peaks_max**.5))\n",
    "if mode_sid3>0:  print(\"[Peak - SID03 Spec in RAW^2   ]  EuEu:\", '{:.2e}kHz            -- (peak)'.format(spec_sid3.peak_f),  '{:.2e}'.format(spec_sid3.peak_max),  '{:.2e}'.format(spec_sid3.peak_max**.5),  '| (sum) {:.2e}'.format(spec_sid3.peaks_max),  '{:.2e}'.format(spec_sid3.peaks_max**.5))\n",
    "if mode_sid20>0: print(\"[Peak - SID20 Spec in RAW^2   ]  EuEu:\", '{:.2e}kHz            -- (peak)'.format(spec_sid20.peak_f), '{:.2e}'.format(spec_sid20.peak_max), '{:.2e}'.format(spec_sid20.peak_max**.5), '| (sum) {:.2e}'.format(spec_sid20.peaks_max), '{:.2e}'.format(spec_sid20.peaks_max**.5))\n",
    "if mode_sid4>0:  print(\"[Peak - SID04 Spec in RAW^2   ]  EuEu:\", '{:.2e}kHz            -- (peak)'.format(spec_sid4.peak_f),  '{:.2e}'.format(spec_sid4.peak_max),  '{:.2e}'.format(spec_sid4.peak_max**.5),  '| (sum) {:.2e}'.format(spec_sid4.peaks_max),  '{:.2e}'.format(spec_sid4.peaks_max**.5))\n",
    "if mode_sid21>0: print(\"[Peak - SID21 Spec in RAW^2   ]  EuEu:\", '{:.2e}kHz            -- (peak)'.format(spec_sid21.peak_f), '{:.2e}'.format(spec_sid21.peak_max), '{:.2e}'.format(spec_sid21.peak_max**.5), '| (sum) {:.2e}'.format(spec_sid21.peaks_max), '{:.2e}'.format(spec_sid21.peaks_max**.5))\n",
    "if mode_sid5>0:  print(\"[Peak - SID5  Spec in RAW^2   ]  EuEu:\", '{:.2e}kHz            -- (peak)'.format(spec_sid5.peak_f),  '{:.2e}'.format(spec_sid5.peak_max),  '{:.2e}'.format(spec_sid5.peak_max**.5), '| (sum) {:.2e}'.format(spec_sid5.peaks_max), '{:.2e}'.format(spec_sid5.peaks_max**.5))\n",
    "print(\"\") \n",
    "if mode_sid2>0:\n",
    "      print(\"[Peak - SID02 Spec in RAW^2/Hz]  EuEu:\", \n",
    "            '{:.2e}'.format(spec_sid2.peak_f), '({:.2e})kHz -- (peak)'.format(spec_sid2.df/1000), \n",
    "            '{:.2e}'.format(spec_sid2.peak_s_max),  '{:.2e}'.format(spec_sid2.peak_s_max**.5),  '| (sum) {:.2e}'.format(spec_sid2.peaks_s_max),  '{:.2e}'.format(spec_sid2.peaks_s_max**.5))\n",
    "if mode_sid3>0:\n",
    "      print(\"[Peak - SID03 Spec in RAW^2/Hz]  EuEu:\", \n",
    "            '{:.2e}'.format(spec_sid3.peak_f), '({:.2e})kHz -- (peak)'.format(spec_sid3.df/1000), \n",
    "            '{:.2e}'.format(spec_sid3.peak_s_max),  '{:.2e}'.format(spec_sid3.peak_s_max**.5),  '| (sum) {:.2e}'.format(spec_sid3.peaks_s_max),  '{:.2e}'.format(spec_sid3.peaks_s_max**.5))\n",
    "if mode_sid20>0:\n",
    "      print(\"[Peak - SID20 Spec in RAW^2/Hz]  EuEu:\", \n",
    "            '{:.2e}'.format(spec_sid20.peak_f),'({:.2e})kHz -- (peak)'.format(spec_sid20.df/1000), \n",
    "            '{:.2e}'.format(spec_sid20.peak_s_max), '{:.2e}'.format(spec_sid20.peak_s_max**.5), '| (sum) {:.2e}'.format(spec_sid20.peaks_s_max), '{:.2e}'.format(spec_sid20.peaks_s_max**.5))\n",
    "if mode_sid4>0:\n",
    "      print(\"[Peak - SID04 Spec in RAW^2/Hz]  EuEu:\", \n",
    "            '{:.2e}'.format(spec_sid4.peak_f), '({:.2e})kHz -- (peak)'.format(spec_sid4.df/1000), \n",
    "            '{:.2e}'.format(spec_sid4.peak_s_max),  '{:.2e}'.format(spec_sid4.peak_s_max**.5),  '| (sum) {:.2e}'.format(spec_sid4.peaks_s_max),  '{:.2e}'.format(spec_sid4.peaks_s_max**.5))\n",
    "if mode_sid21>0:\n",
    "      print(\"[Peak - SID21 Spec in RAW^2/Hz]  EuEu:\", \n",
    "            '{:.2e}'.format(spec_sid21.peak_f),'({:.2e})kHz -- (peak)'.format(spec_sid21.df/1000), \n",
    "            '{:.2e}'.format(spec_sid21.peak_s_max), '{:.2e}'.format(spec_sid21.peak_s_max**.5), '| (sum) {:.2e}'.format(spec_sid21.peaks_s_max), '{:.2e}'.format(spec_sid21.peaks_s_max**.5))\n",
    "if mode_sid5>0:\n",
    "      print(\"[Peak - SID05 Spec in RAW^2/Hz]  EuEu:\", \n",
    "            '{:.2e}'.format(spec_sid5.peak_f), '({:.2e})kHz -- (peak)'.format(spec_sid5.df/1000), \n",
    "            '{:.2e}'.format(spec_sid5.peak_s_max),  '{:.2e}'.format(spec_sid5.peak_s_max**.5),  '| (sum) {:.2e}'.format(spec_sid5.peaks_s_max),  '{:.2e}'.format(spec_sid5.peaks_s_max**.5))"
   ]
  },
  {
   "cell_type": "code",
   "execution_count": null,
   "id": "2e255dcd",
   "metadata": {},
   "outputs": [],
   "source": [
    "fig = plt.figure(figsize=(16, 11));  ax1 = fig.add_subplot(1, 1, 1)\n",
    "if mode_sid2>0:  ax1.plot(spec_sid2.freq,  spec_sid2.EuEu_med,  '-k', linewidth=1, label='SID-02 EuEu med')\n",
    "if mode_sid3>0:  ax1.plot(spec_sid3.freq,  spec_sid3.EuEu_med,  '-r', linewidth=1, label='SID-03 EuEu med')\n",
    "if mode_sid20>0: ax1.plot(spec_sid20.freq, spec_sid20.EuEu_med, '-g', linewidth=1, label='SID-20 EuEu med')\n",
    "if mode_sid4>0:  ax1.plot(spec_sid4.freq,  spec_sid4.EuEu_med,  ':g', linewidth=2, label='SID-04 EuEu med')\n",
    "if mode_sid21>0: ax1.plot(spec_sid21.freq, spec_sid21.EuEu_med, '-b', linewidth=1, label='SID-21 EuEu med')\n",
    "if mode_sid5>0:  ax1.plot(spec_sid5.freq,  spec_sid5.EuEu_med,  ':b', linewidth=1, label='SID-05 EuEu med')\n",
    "ax1.set_ylabel('EuEu (RAW^2)');  ax1.legend(loc='upper right', fontsize=8)\n",
    "ax1.set_yscale('log')\n",
    "if f_mode == 1:\n",
    "    ax1.set_xscale('log')\n",
    "\n",
    "if mode_sid2>0:    xlim=[np.nanmin(spec_sid2.freq),  np.nanmax(spec_sid2.freq)]\n",
    "elif mode_sid3>0:  xlim=[np.nanmin(spec_sid3.freq),  np.nanmax(spec_sid3.freq)]\n",
    "elif mode_sid20>0: xlim=[np.nanmin(spec_sid20.freq), np.nanmax(spec_sid20.freq)]\n",
    "elif mode_sid4>0:  xlim=[np.nanmin(spec_sid4.freq),  np.nanmax(spec_sid4.freq)]\n",
    "elif mode_sid21>0: xlim=[np.nanmin(spec_sid21.freq), np.nanmax(spec_sid21.freq)]\n",
    "elif mode_sid5>0:  xlim=[np.nanmin(spec_sid5.freq),  np.nanmax(spec_sid5.freq)]\n",
    "ax1.set_xlim(xlim)\n",
    "#ylim=[10**(p_min), 10**(p_max)]\n",
    "#ax1.set_ylim(ylim)\n",
    "\n",
    "fig.show\n",
    "if dump_mode == 1:\n",
    "    png_fname = work_dir+'EMU_all_spec.png'"
   ]
  },
  {
   "cell_type": "code",
   "execution_count": null,
   "id": "3132b942",
   "metadata": {},
   "outputs": [],
   "source": [
    "fig = plt.figure(figsize=(16, 11));  ax1 = fig.add_subplot(1, 1, 1)\n",
    "if mode_sid2>0:  ax1.plot(spec_sid2.freq,  spec_sid2.EuEu_s_med,  '-k', linewidth=1., label='SID-02 EuEu cln')\n",
    "if mode_sid3>0:  ax1.plot(spec_sid3.freq,  spec_sid3.EuEu_s_med,  '-r', linewidth=1., label='SID-03 EuEu med')\n",
    "if mode_sid20>0: ax1.plot(spec_sid20.freq, spec_sid20.EuEu_s_med, '-g', linewidth=1., label='SID-20 EuEu med')\n",
    "if mode_sid4>0:  ax1.plot(spec_sid4.freq,  spec_sid4.EuEu_s_med,  ':g', linewidth=2., label='SID-04 EuEu med')\n",
    "if mode_sid21>0: ax1.plot(spec_sid21.freq, spec_sid21.EuEu_s_med, '-b', linewidth=1., label='SID-21 EuEu med')\n",
    "if mode_sid5>0:  ax1.plot(spec_sid5.freq,  spec_sid5.EuEu_med,  ':b', linewidth=2., label='SID-05 EuEu med')\n",
    "ax1.set_ylabel('EuEu (RAW^2/Hz)');  ax1.legend(loc='upper right', fontsize=8)\n",
    "ax1.set_yscale('log')\n",
    "if f_mode == 1:\n",
    "    ax1.set_xscale('log')\n",
    "\n",
    "if   mode_sid2>0:  xlim=[np.nanmin(spec_sid2.freq),  np.nanmax(spec_sid2.freq)]\n",
    "elif mode_sid3>0:  xlim=[np.nanmin(spec_sid3.freq),  np.nanmax(spec_sid3.freq)]\n",
    "elif mode_sid20>0: xlim=[np.nanmin(spec_sid20.freq), np.nanmax(spec_sid20.freq)]\n",
    "elif mode_sid4>0:  xlim=[np.nanmin(spec_sid4.freq),  np.nanmax(spec_sid4.freq)]\n",
    "elif mode_sid21>0: xlim=[np.nanmin(spec_sid21.freq), np.nanmax(spec_sid21.freq)]\n",
    "elif mode_sid5>0:  xlim=[np.nanmin(spec_sid5.freq),  np.nanmax(spec_sid5.freq)]\n",
    "ax1.set_xlim(xlim)\n",
    "#ylim=[10**(p_min), 10**(p_max)]\n",
    "#ax1.set_ylim(ylim)\n",
    "\n",
    "fig.show\n",
    "if dump_mode == 1:\n",
    "    png_fname = work_dir+'EMU_all_spec_hz.png'"
   ]
  },
  {
   "cell_type": "code",
   "execution_count": null,
   "id": "39c78046",
   "metadata": {},
   "outputs": [],
   "source": [
    "fig = plt.figure(figsize=(16, 11));  ax1 = fig.add_subplot(1, 1, 1)\n",
    "if mode_sid2>0:  ax1.plot(spec_sid2.freq,  spec_sid2.EuEu_s_cln,  '-k', linewidth=1., label='SID-02 EuEu cln')\n",
    "if mode_sid3>0:  ax1.plot(spec_sid3.freq,  spec_sid3.EuEu_s_cln,  '-r', linewidth=1., label='SID-03 EuEu cln')\n",
    "if mode_sid20>0: ax1.plot(spec_sid20.freq, spec_sid20.EuEu_s_cln, '-g', linewidth=1., label='SID-20 EuEu cln')\n",
    "if mode_sid4>0:  ax1.plot(spec_sid4.freq,  spec_sid4.EuEu_s_cln,  ':g', linewidth=2., label='SID-04 EuEu cln')\n",
    "if mode_sid21>0: ax1.plot(spec_sid21.freq, spec_sid21.EuEu_s_cln, '-b', linewidth=1., label='SID-21 EuEu cln')\n",
    "if mode_sid5>0:  ax1.plot(spec_sid5.freq,  spec_sid5.EuEu_cln,  ':b', linewidth=2., label='SID-05 EuEu cln')\n",
    "ax1.set_ylabel('EuEu (RAW^2/Hz)');  ax1.legend(loc='upper right', fontsize=8)\n",
    "ax1.set_yscale('log')\n",
    "if f_mode == 1:\n",
    "    ax1.set_xscale('log')\n",
    "\n",
    "if   mode_sid2>0:  xlim=[np.nanmin(spec_sid2.freq),  np.nanmax(spec_sid2.freq)]\n",
    "elif mode_sid3>0:  xlim=[np.nanmin(spec_sid3.freq),  np.nanmax(spec_sid3.freq)]\n",
    "elif mode_sid20>0: xlim=[np.nanmin(spec_sid20.freq), np.nanmax(spec_sid20.freq)]\n",
    "elif mode_sid4>0:  xlim=[np.nanmin(spec_sid4.freq),  np.nanmax(spec_sid4.freq)]\n",
    "elif mode_sid21>0: xlim=[np.nanmin(spec_sid21.freq), np.nanmax(spec_sid21.freq)]\n",
    "elif mode_sid5>0:  xlim=[np.nanmin(spec_sid5.freq),  np.nanmax(spec_sid5.freq)]\n",
    "ax1.set_xlim(xlim)\n",
    "#ylim=[10**(p_min), 10**(p_max)]\n",
    "#ax1.set_ylim(ylim)\n",
    "\n",
    "fig.show\n",
    "if dump_mode == 1:\n",
    "    png_fname = work_dir+'EMU_all_spec_hz_clean.png'"
   ]
  }
 ],
 "metadata": {
  "kernelspec": {
   "display_name": "3.11",
   "language": "python",
   "name": "python3"
  },
  "language_info": {
   "codemirror_mode": {
    "name": "ipython",
    "version": 3
   },
   "file_extension": ".py",
   "mimetype": "text/x-python",
   "name": "python",
   "nbconvert_exporter": "python",
   "pygments_lexer": "ipython3",
   "version": "3.11.10"
  }
 },
 "nbformat": 4,
 "nbformat_minor": 5
}
