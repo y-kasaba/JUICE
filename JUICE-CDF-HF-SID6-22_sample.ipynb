{
 "cells": [
  {
   "cell_type": "markdown",
   "id": "5ad0cc98",
   "metadata": {},
   "source": [
    "# JUICE RPWI HF SID6 & 22 (PSSR2): L1a QL -- 2025/7/5"
   ]
  },
  {
   "attachments": {},
   "cell_type": "markdown",
   "id": "a116756d",
   "metadata": {},
   "source": [
    "# Import lib"
   ]
  },
  {
   "cell_type": "code",
   "execution_count": null,
   "id": "bca50671",
   "metadata": {},
   "outputs": [],
   "source": [
    "import sys\n",
    "import numpy as np\n",
    "import matplotlib.pyplot as plt\n",
    "import matplotlib.colors as colors"
   ]
  },
  {
   "cell_type": "markdown",
   "id": "1f5e8c0c",
   "metadata": {},
   "source": [
    "# Library setting"
   ]
  },
  {
   "cell_type": "code",
   "execution_count": null,
   "id": "6c181f65",
   "metadata": {},
   "outputs": [],
   "source": [
    "# The latest CDF library https://spdf.gsfc.nasa.gov/pub/software/cdf/dist/latest/\n",
    "from spacepy import pycdf\n",
    "\n",
    "import os\n",
    "os.environ[\"CDF_LIB\"] = \"/Applications/cdf/cdf39_1-dist/lib\"\n",
    "\n",
    "# *** Library ***\n",
    "sys.path.append('./lib/')\n",
    "import juice_cdf_lib as juice_cdf\n",
    "import juice_sid22_data as juice_data\n",
    "import juice_sid22_lib as juice_sid22"
   ]
  },
  {
   "attachments": {},
   "cell_type": "markdown",
   "id": "578b15bb",
   "metadata": {},
   "source": [
    "# Mode seting"
   ]
  },
  {
   "cell_type": "code",
   "execution_count": null,
   "id": "05e8da84",
   "metadata": {},
   "outputs": [],
   "source": [
    "# *** Mode set ***\n",
    "dump_mode = 0                           # 0: no-dump  1:plot dump\n",
    "\n",
    "# *** Directory set: set by User ***\n",
    "work_dir = '/Users/user/0-python/JUICE_python/ql/'                         # Plot dump folder"
   ]
  },
  {
   "cell_type": "markdown",
   "id": "7540dfda",
   "metadata": {},
   "source": [
    "# get CDF data"
   ]
  },
  {
   "cell_type": "code",
   "execution_count": null,
   "id": "6953aafe",
   "metadata": {},
   "outputs": [],
   "source": [
    "# *** Flight data: Ver.2 ***\n",
    "# date='20240126';  ver = 'V02'\n",
    "\n",
    "# *** Ground test data ***\n",
    "date='0';  ver = 'V02'\n",
    "\n",
    "sid = 22                    # 6 or 22\n",
    "data_dir, data_name_list = juice_data.datalist(date, ver, sid)       # [date]   yyyymmdd: group read    others: file list"
   ]
  },
  {
   "cell_type": "code",
   "execution_count": null,
   "id": "0d556f41",
   "metadata": {},
   "outputs": [],
   "source": [
    "class struct:\n",
    "    pass\n",
    "\n",
    "data = struct()\n",
    "num_list = len(data_name_list)\n",
    "for i in range(num_list):\n",
    "    data_name = data_name_list[i];  cdf_file = data_dir + data_name;  print(i, cdf_file)\n",
    "    # RPWI_FSW_version = juice_cdf._RPWI_FSW_version(cdf_file)\n",
    "    cdf = pycdf.CDF(cdf_file);      data1 = juice_sid22.hf_sid22_read(cdf, sid) #, RPWI_FSW_version)\n",
    "    if i==0:\n",
    "        data = data1;                                       print(\"sid\", sid, data.auto_corr.shape)\n",
    "    else:\n",
    "        data = juice_sid22.hf_sid22_add(data, data1, sid);  print(\"sid\", sid, data.auto_corr.shape)\n",
    "data_name = os.path.split(data_name)[1];                    print(\"data name:\", data_name)"
   ]
  },
  {
   "cell_type": "code",
   "execution_count": null,
   "id": "5353f848",
   "metadata": {},
   "outputs": [],
   "source": [
    "data = juice_sid22.hf_sid22_shaping(data, sid)\n",
    "\n",
    "date1 = data.epoch[0];  date1 = date1.strftime('%Y/%m/%d %R:%S')\n",
    "date2 = data.epoch[-1]; date2 = date2.strftime('%Y/%m/%d %R:%S')\n",
    "str_date = date1 + \"  -  \" + date2;  print(str_date)\n",
    "n_time = data.auto_corr.shape[0]\n",
    "n_time0 = n_time-1"
   ]
  },
  {
   "cell_type": "code",
   "execution_count": null,
   "id": "2bffec92",
   "metadata": {},
   "outputs": [],
   "source": [
    "if data.n_time>1: \n",
    "    date3 = data.epoch[1];  date3 = date3.strftime('%Y/%m/%d %R:%S')\n",
    "    print(\"       date and time:\", str_date, \"(interval:\", data.epoch[1] - data.epoch[0], date3, \")\")\n",
    "else:\n",
    "    print(\"       date and time:\", str_date)\n",
    "print(\"data size:\", data.auto_corr.shape)\n",
    "print(\"==> Ch:\", data.ch_selected[0], \"  Num-sweep:\", n_time, \"   Num-AutoCorr: 16    each Length:\", data.N_lag[0] )"
   ]
  },
  {
   "attachments": {},
   "cell_type": "markdown",
   "id": "c661f058",
   "metadata": {},
   "source": [
    "# Raw data"
   ]
  },
  {
   "cell_type": "code",
   "execution_count": null,
   "id": "2ef60e31",
   "metadata": {},
   "outputs": [],
   "source": [
    "fig = plt.figure(figsize=(16, 11))\n",
    "ax1 = fig.add_subplot(5, 1, 1);  ax2 = fig.add_subplot(5, 1, 2);  ax3 = fig.add_subplot(5, 1, 3)\n",
    "ax4 = fig.add_subplot(5, 1, 4);  ax5 = fig.add_subplot(5, 1, 5)\n",
    "\n",
    "ax1.plot(np.ravel(data.E_i[:][:]),   '-r', linewidth=.5, label='E_i')\n",
    "ax1.plot(np.ravel(data.E_q[:][:]),   '-g', linewidth=.5, label='E_q')\n",
    "ax2.plot(np.ravel(data.frequency[:]),      linewidth=.5, label='frequency')\n",
    "ax3.plot(np.ravel(data.auto_corr[:][:]),   linewidth=.5, label='auto_corr')\n",
    "ax4.plot(np.ravel(data.time[:][:]),        linewidth=.5, label='time')\n",
    "ax5.plot(np.ravel(data.epoch[:]), '.')\n",
    "ax1.set_ylabel('E_i & E_q')\n",
    "ax2.set_ylabel('Frequency [kHz]')\n",
    "ax3.set_ylabel('AutoCorr')\n",
    "ax4.set_ylabel('time')\n",
    "ax5.set_ylabel('Date-Time')\n",
    "ax5.set_xlabel(str_date)\n",
    "#\n",
    "title_label = '[JUICE/RPWI HF PSSR2-Rich (SID-22)]\\n' + data_name;  ax1.set_title(title_label)\n",
    "ax1.legend(loc='upper right', fontsize=8);  ax2.legend(loc='upper right', fontsize=8)\n",
    "\n",
    "# xlim=[-.5, len(np.ravel(data.auto_corr))     -.5];  print(xlim);  ax1.set_xlim(xlim)\n",
    "# xlim=[-.5, len(np.ravel(data.frequency))-.5];  print(xlim);  ax2.set_xlim(xlim)\n",
    "# xlim=[-.5, len(np.ravel(data.epoch))         -.5];  print(xlim);  ax3.set_xlim(xlim)\n",
    "# ylim=[10**p_min0, 10**p_max0];  ax1.set_ylim(ylim)\n",
    "\n",
    "# Plot\n",
    "fig.show\n",
    "if dump_mode == 1:\n",
    "    png_fname = work_dir+data_name+'_raw.png'\n",
    "    fig.savefig(png_fname)"
   ]
  },
  {
   "cell_type": "markdown",
   "id": "a2b60696",
   "metadata": {},
   "source": [
    "## First data"
   ]
  },
  {
   "cell_type": "code",
   "execution_count": null,
   "id": "b4809b44",
   "metadata": {},
   "outputs": [],
   "source": [
    "n_sweep = 0\n",
    "n_lag0 = 4\n",
    "\n",
    "fig = plt.figure(figsize=(14, 15))\n",
    "ax1  = fig.add_subplot(5, 4, 1);  ax2  = fig.add_subplot(5, 4, 2);   ax3  = fig.add_subplot(5, 4, 3);   ax4 = fig.add_subplot(5, 4, 4)\n",
    "ax5  = fig.add_subplot(5, 4, 5);  ax6  = fig.add_subplot(5, 4, 6);   ax7  = fig.add_subplot(5, 4, 7);   ax8 = fig.add_subplot(5, 4, 8)\n",
    "ax9  = fig.add_subplot(5, 4, 9);  ax10 = fig.add_subplot(5, 4, 10);  ax11 = fig.add_subplot(5, 4, 11); ax12 = fig.add_subplot(5, 4, 12)\n",
    "ax13 = fig.add_subplot(5, 4, 13); ax14 = fig.add_subplot(5, 4, 14);  ax15 = fig.add_subplot(5, 4, 15); ax16 = fig.add_subplot(5, 4, 16)\n",
    "ax17 = fig.add_subplot(5, 4, 17); ax18 = fig.add_subplot(5, 4, 18)\n",
    "ax1.plot(data.time[n_sweep][0][n_lag0:], data.auto_corr[n_sweep][0][n_lag0:], linewidth=.5)\n",
    "ax2.plot(data.time[n_sweep][1][n_lag0:], data.auto_corr[n_sweep][1][n_lag0:], linewidth=.5)\n",
    "ax3.plot(data.time[n_sweep][2][n_lag0:], data.auto_corr[n_sweep][2][n_lag0:], linewidth=.5)\n",
    "ax4.plot(data.time[n_sweep][3][n_lag0:], data.auto_corr[n_sweep][3][n_lag0:], linewidth=.5)\n",
    "ax5.plot(data.time[n_sweep][4][n_lag0:], data.auto_corr[n_sweep][4][n_lag0:], linewidth=.5)\n",
    "ax6.plot(data.time[n_sweep][5][n_lag0:], data.auto_corr[n_sweep][5][n_lag0:], linewidth=.5)\n",
    "ax7.plot(data.time[n_sweep][6][n_lag0:], data.auto_corr[n_sweep][6][n_lag0:], linewidth=.5)\n",
    "ax8.plot(data.time[n_sweep][7][n_lag0:], data.auto_corr[n_sweep][7][n_lag0:], linewidth=.5)\n",
    "ax9.plot(data.time[n_sweep][8][n_lag0:], data.auto_corr[n_sweep][8][n_lag0:], linewidth=.5)\n",
    "ax10.plot(data.time[n_sweep][9][n_lag0:], data.auto_corr[n_sweep][9][n_lag0:], linewidth=.5)\n",
    "ax11.plot(data.time[n_sweep][10][n_lag0:], data.auto_corr[n_sweep][10][n_lag0:], linewidth=.5)\n",
    "ax12.plot(data.time[n_sweep][11][n_lag0:], data.auto_corr[n_sweep][11][n_lag0:], linewidth=.5)\n",
    "ax13.plot(data.time[n_sweep][12][n_lag0:], data.auto_corr[n_sweep][12][n_lag0:], linewidth=.5)\n",
    "ax14.plot(data.time[n_sweep][13][n_lag0:], data.auto_corr[n_sweep][13][n_lag0:], linewidth=.5)\n",
    "ax15.plot(data.time[n_sweep][14][n_lag0:], data.auto_corr[n_sweep][14][n_lag0:], linewidth=.5)\n",
    "ax16.plot(data.time[n_sweep][15][n_lag0:], data.auto_corr[n_sweep][15][n_lag0:], linewidth=.5)\n",
    "ax17.plot(data.frequency[n_sweep][:8], data.E_i[n_sweep][:8], '.r', linewidth=.5)\n",
    "ax17.plot(data.frequency[n_sweep][:8], data.E_q[n_sweep][:8], '.g', linewidth=.5)\n",
    "ax18.plot(data.frequency[n_sweep][8:], data.E_i[n_sweep][8:], '.r', linewidth=.5)\n",
    "ax18.plot(data.frequency[n_sweep][8:], data.E_q[n_sweep][8:], '.g', linewidth=.5)\n",
    "\n",
    "date1 = data.epoch[n_sweep];  date1 = date1.strftime('First: %Y/%m/%d %R:%S')\n",
    "title_date = \"[\" + data_name + \"]\\n\" + date1;  ax2.set_title(title_date)\n",
    "#\n",
    "ax1.set_xlabel(\"#1: {0:.0f} [kHz]\".format(data.frequency[n_sweep][0]))\n",
    "ax2.set_xlabel(\"#2: {0:.0f} [kHz]\".format(data.frequency[n_sweep][1]))\n",
    "ax3.set_xlabel(\"#3: {0:.0f} [kHz]\".format(data.frequency[n_sweep][2]))\n",
    "ax4.set_xlabel(\"#4: {0:.0f} [kHz]\".format(data.frequency[n_sweep][3]))\n",
    "ax5.set_xlabel(\"#5: {0:.0f} [kHz]\".format(data.frequency[n_sweep][4]))\n",
    "ax6.set_xlabel(\"#6: {0:.0f} [kHz]\".format(data.frequency[n_sweep][5]))\n",
    "ax7.set_xlabel(\"#7: {0:.0f} [kHz]\".format(data.frequency[n_sweep][6]))\n",
    "ax8.set_xlabel(\"#8: {0:.0f} [kHz]\".format(data.frequency[n_sweep][7]))\n",
    "ax9.set_xlabel(\"#9: {0:.0f} [kHz]\".format(data.frequency[n_sweep][8]))\n",
    "ax10.set_xlabel(\"#10: {0:.0f} [kHz]\".format(data.frequency[n_sweep][9]))\n",
    "ax11.set_xlabel(\"#11: {0:.0f} [kHz]\".format(data.frequency[n_sweep][10]))\n",
    "ax12.set_xlabel(\"#12: {0:.0f} [kHz]\".format(data.frequency[n_sweep][11]))\n",
    "ax13.set_xlabel(\"#13: {0:.0f} [kHz]\".format(data.frequency[n_sweep][12]))\n",
    "ax14.set_xlabel(\"#14: {0:.0f} [kHz]\".format(data.frequency[n_sweep][13]))\n",
    "ax15.set_xlabel(\"#15: {0:.0f} [kHz]\".format(data.frequency[n_sweep][14]))\n",
    "ax16.set_xlabel(\"#16: {0:.0f} [kHz]\".format(data.frequency[n_sweep][15]))\n",
    "ax17.set_xlabel(\"frequency [kHz]\");  ax18.set_xlabel(\"frequency [kHz]\")\n",
    "\n",
    "fig.subplots_adjust(hspace=.3)\n",
    "fig.show\n",
    "if dump_mode == 1:\n",
    "    png_fname = work_dir+data_name+'_1st.png'\n",
    "    fig.savefig(png_fname)"
   ]
  },
  {
   "cell_type": "markdown",
   "metadata": {},
   "source": [
    "## Mid Data"
   ]
  },
  {
   "cell_type": "code",
   "execution_count": null,
   "metadata": {},
   "outputs": [],
   "source": [
    "n_sweep = np.int16(n_time0/2)\n",
    "n_lag0 = 4\n",
    "\n",
    "fig = plt.figure(figsize=(14, 15))\n",
    "ax1  = fig.add_subplot(5, 4, 1);  ax2  = fig.add_subplot(5, 4, 2);   ax3  = fig.add_subplot(5, 4, 3);   ax4 = fig.add_subplot(5, 4, 4)\n",
    "ax5  = fig.add_subplot(5, 4, 5);  ax6  = fig.add_subplot(5, 4, 6);   ax7  = fig.add_subplot(5, 4, 7);   ax8 = fig.add_subplot(5, 4, 8)\n",
    "ax9  = fig.add_subplot(5, 4, 9);  ax10 = fig.add_subplot(5, 4, 10);  ax11 = fig.add_subplot(5, 4, 11); ax12 = fig.add_subplot(5, 4, 12)\n",
    "ax13 = fig.add_subplot(5, 4, 13); ax14 = fig.add_subplot(5, 4, 14);  ax15 = fig.add_subplot(5, 4, 15); ax16 = fig.add_subplot(5, 4, 16)\n",
    "ax17 = fig.add_subplot(5, 4, 17); ax18 = fig.add_subplot(5, 4, 18)\n",
    "ax1.plot(data.time[n_sweep][0][n_lag0:], data.auto_corr[n_sweep][0][n_lag0:], linewidth=.5)\n",
    "ax2.plot(data.time[n_sweep][1][n_lag0:], data.auto_corr[n_sweep][1][n_lag0:], linewidth=.5)\n",
    "ax3.plot(data.time[n_sweep][2][n_lag0:], data.auto_corr[n_sweep][2][n_lag0:], linewidth=.5)\n",
    "ax4.plot(data.time[n_sweep][3][n_lag0:], data.auto_corr[n_sweep][3][n_lag0:], linewidth=.5)\n",
    "ax5.plot(data.time[n_sweep][4][n_lag0:], data.auto_corr[n_sweep][4][n_lag0:], linewidth=.5)\n",
    "ax6.plot(data.time[n_sweep][5][n_lag0:], data.auto_corr[n_sweep][5][n_lag0:], linewidth=.5)\n",
    "ax7.plot(data.time[n_sweep][6][n_lag0:], data.auto_corr[n_sweep][6][n_lag0:], linewidth=.5)\n",
    "ax8.plot(data.time[n_sweep][7][n_lag0:], data.auto_corr[n_sweep][7][n_lag0:], linewidth=.5)\n",
    "ax9.plot(data.time[n_sweep][8][n_lag0:], data.auto_corr[n_sweep][8][n_lag0:], linewidth=.5)\n",
    "ax10.plot(data.time[n_sweep][9][n_lag0:], data.auto_corr[n_sweep][9][n_lag0:], linewidth=.5)\n",
    "ax11.plot(data.time[n_sweep][10][n_lag0:], data.auto_corr[n_sweep][10][n_lag0:], linewidth=.5)\n",
    "ax12.plot(data.time[n_sweep][11][n_lag0:], data.auto_corr[n_sweep][11][n_lag0:], linewidth=.5)\n",
    "ax13.plot(data.time[n_sweep][12][n_lag0:], data.auto_corr[n_sweep][12][n_lag0:], linewidth=.5)\n",
    "ax14.plot(data.time[n_sweep][13][n_lag0:], data.auto_corr[n_sweep][13][n_lag0:], linewidth=.5)\n",
    "ax15.plot(data.time[n_sweep][14][n_lag0:], data.auto_corr[n_sweep][14][n_lag0:], linewidth=.5)\n",
    "ax16.plot(data.time[n_sweep][15][n_lag0:], data.auto_corr[n_sweep][15][n_lag0:], linewidth=.5)\n",
    "ax17.plot(data.frequency[n_sweep][:8], data.E_i[n_sweep][:8], '.r', linewidth=.5)\n",
    "ax17.plot(data.frequency[n_sweep][:8], data.E_q[n_sweep][:8], '.g', linewidth=.5)\n",
    "ax18.plot(data.frequency[n_sweep][8:], data.E_i[n_sweep][8:], '.r', linewidth=.5)\n",
    "ax18.plot(data.frequency[n_sweep][8:], data.E_q[n_sweep][8:], '.g', linewidth=.5)\n",
    "\n",
    "date1 = data.epoch[n_sweep];  date1 = date1.strftime('First: %Y/%m/%d %R:%S')\n",
    "title_date = \"[\" + data_name + \"]\\n\" + date1;  ax2.set_title(title_date)\n",
    "#\n",
    "ax1.set_xlabel(\"#1: {0:.0f} [kHz]\".format(data.frequency[n_sweep][0]))\n",
    "ax2.set_xlabel(\"#2: {0:.0f} [kHz]\".format(data.frequency[n_sweep][1]))\n",
    "ax3.set_xlabel(\"#3: {0:.0f} [kHz]\".format(data.frequency[n_sweep][2]))\n",
    "ax4.set_xlabel(\"#4: {0:.0f} [kHz]\".format(data.frequency[n_sweep][3]))\n",
    "ax5.set_xlabel(\"#5: {0:.0f} [kHz]\".format(data.frequency[n_sweep][4]))\n",
    "ax6.set_xlabel(\"#6: {0:.0f} [kHz]\".format(data.frequency[n_sweep][5]))\n",
    "ax7.set_xlabel(\"#7: {0:.0f} [kHz]\".format(data.frequency[n_sweep][6]))\n",
    "ax8.set_xlabel(\"#8: {0:.0f} [kHz]\".format(data.frequency[n_sweep][7]))\n",
    "ax9.set_xlabel(\"#9: {0:.0f} [kHz]\".format(data.frequency[n_sweep][8]))\n",
    "ax10.set_xlabel(\"#10: {0:.0f} [kHz]\".format(data.frequency[n_sweep][9]))\n",
    "ax11.set_xlabel(\"#11: {0:.0f} [kHz]\".format(data.frequency[n_sweep][10]))\n",
    "ax12.set_xlabel(\"#12: {0:.0f} [kHz]\".format(data.frequency[n_sweep][11]))\n",
    "ax13.set_xlabel(\"#13: {0:.0f} [kHz]\".format(data.frequency[n_sweep][12]))\n",
    "ax14.set_xlabel(\"#14: {0:.0f} [kHz]\".format(data.frequency[n_sweep][13]))\n",
    "ax15.set_xlabel(\"#15: {0:.0f} [kHz]\".format(data.frequency[n_sweep][14]))\n",
    "ax16.set_xlabel(\"#16: {0:.0f} [kHz]\".format(data.frequency[n_sweep][15]))\n",
    "ax17.set_xlabel(\"frequency [kHz]\");  ax18.set_xlabel(\"frequency [kHz]\")\n",
    "\n",
    "fig.subplots_adjust(hspace=.3)\n",
    "fig.show\n",
    "if dump_mode == 1:\n",
    "    png_fname = work_dir+data_name+'_mid.png'\n",
    "    fig.savefig(png_fname)"
   ]
  },
  {
   "cell_type": "markdown",
   "metadata": {},
   "source": [
    "## Last data"
   ]
  },
  {
   "cell_type": "code",
   "execution_count": null,
   "id": "675db0ef",
   "metadata": {},
   "outputs": [],
   "source": [
    "n_sweep = n_time0\n",
    "n_lag0 = 4\n",
    "\n",
    "fig = plt.figure(figsize=(14, 15))\n",
    "ax1  = fig.add_subplot(5, 4, 1);  ax2  = fig.add_subplot(5, 4, 2);   ax3  = fig.add_subplot(5, 4, 3);   ax4 = fig.add_subplot(5, 4, 4)\n",
    "ax5  = fig.add_subplot(5, 4, 5);  ax6  = fig.add_subplot(5, 4, 6);   ax7  = fig.add_subplot(5, 4, 7);   ax8 = fig.add_subplot(5, 4, 8)\n",
    "ax9  = fig.add_subplot(5, 4, 9);  ax10 = fig.add_subplot(5, 4, 10);  ax11 = fig.add_subplot(5, 4, 11); ax12 = fig.add_subplot(5, 4, 12)\n",
    "ax13 = fig.add_subplot(5, 4, 13); ax14 = fig.add_subplot(5, 4, 14);  ax15 = fig.add_subplot(5, 4, 15); ax16 = fig.add_subplot(5, 4, 16)\n",
    "ax17 = fig.add_subplot(5, 4, 17); ax18 = fig.add_subplot(5, 4, 18)\n",
    "ax1.plot(data.time[n_sweep][0][n_lag0:], data.auto_corr[n_sweep][0][n_lag0:], linewidth=.5)\n",
    "ax2.plot(data.time[n_sweep][1][n_lag0:], data.auto_corr[n_sweep][1][n_lag0:], linewidth=.5)\n",
    "ax3.plot(data.time[n_sweep][2][n_lag0:], data.auto_corr[n_sweep][2][n_lag0:], linewidth=.5)\n",
    "ax4.plot(data.time[n_sweep][3][n_lag0:], data.auto_corr[n_sweep][3][n_lag0:], linewidth=.5)\n",
    "ax5.plot(data.time[n_sweep][4][n_lag0:], data.auto_corr[n_sweep][4][n_lag0:], linewidth=.5)\n",
    "ax6.plot(data.time[n_sweep][5][n_lag0:], data.auto_corr[n_sweep][5][n_lag0:], linewidth=.5)\n",
    "ax7.plot(data.time[n_sweep][6][n_lag0:], data.auto_corr[n_sweep][6][n_lag0:], linewidth=.5)\n",
    "ax8.plot(data.time[n_sweep][7][n_lag0:], data.auto_corr[n_sweep][7][n_lag0:], linewidth=.5)\n",
    "ax9.plot(data.time[n_sweep][8][n_lag0:], data.auto_corr[n_sweep][8][n_lag0:], linewidth=.5)\n",
    "ax10.plot(data.time[n_sweep][9][n_lag0:], data.auto_corr[n_sweep][9][n_lag0:], linewidth=.5)\n",
    "ax11.plot(data.time[n_sweep][10][n_lag0:], data.auto_corr[n_sweep][10][n_lag0:], linewidth=.5)\n",
    "ax12.plot(data.time[n_sweep][11][n_lag0:], data.auto_corr[n_sweep][11][n_lag0:], linewidth=.5)\n",
    "ax13.plot(data.time[n_sweep][12][n_lag0:], data.auto_corr[n_sweep][12][n_lag0:], linewidth=.5)\n",
    "ax14.plot(data.time[n_sweep][13][n_lag0:], data.auto_corr[n_sweep][13][n_lag0:], linewidth=.5)\n",
    "ax15.plot(data.time[n_sweep][14][n_lag0:], data.auto_corr[n_sweep][14][n_lag0:], linewidth=.5)\n",
    "ax16.plot(data.time[n_sweep][15][n_lag0:], data.auto_corr[n_sweep][15][n_lag0:], linewidth=.5)\n",
    "ax17.plot(data.frequency[n_sweep][:8], data.E_i[n_sweep][:8], '.r', linewidth=.5)\n",
    "ax17.plot(data.frequency[n_sweep][:8], data.E_q[n_sweep][:8], '.g', linewidth=.5)\n",
    "ax18.plot(data.frequency[n_sweep][8:], data.E_i[n_sweep][8:], '.r', linewidth=.5)\n",
    "ax18.plot(data.frequency[n_sweep][8:], data.E_q[n_sweep][8:], '.g', linewidth=.5)\n",
    "\n",
    "date1 = data.epoch[n_sweep];  date1 = date1.strftime('First: %Y/%m/%d %R:%S')\n",
    "title_date = \"[\" + data_name + \"]\\n\" + date1;  ax2.set_title(title_date)\n",
    "#\n",
    "ax1.set_xlabel(\"#1: {0:.0f} [kHz]\".format(data.frequency[n_sweep][0]))\n",
    "ax2.set_xlabel(\"#2: {0:.0f} [kHz]\".format(data.frequency[n_sweep][1]))\n",
    "ax3.set_xlabel(\"#3: {0:.0f} [kHz]\".format(data.frequency[n_sweep][2]))\n",
    "ax4.set_xlabel(\"#4: {0:.0f} [kHz]\".format(data.frequency[n_sweep][3]))\n",
    "ax5.set_xlabel(\"#5: {0:.0f} [kHz]\".format(data.frequency[n_sweep][4]))\n",
    "ax6.set_xlabel(\"#6: {0:.0f} [kHz]\".format(data.frequency[n_sweep][5]))\n",
    "ax7.set_xlabel(\"#7: {0:.0f} [kHz]\".format(data.frequency[n_sweep][6]))\n",
    "ax8.set_xlabel(\"#8: {0:.0f} [kHz]\".format(data.frequency[n_sweep][7]))\n",
    "ax9.set_xlabel(\"#9: {0:.0f} [kHz]\".format(data.frequency[n_sweep][8]))\n",
    "ax10.set_xlabel(\"#10: {0:.0f} [kHz]\".format(data.frequency[n_sweep][9]))\n",
    "ax11.set_xlabel(\"#11: {0:.0f} [kHz]\".format(data.frequency[n_sweep][10]))\n",
    "ax12.set_xlabel(\"#12: {0:.0f} [kHz]\".format(data.frequency[n_sweep][11]))\n",
    "ax13.set_xlabel(\"#13: {0:.0f} [kHz]\".format(data.frequency[n_sweep][12]))\n",
    "ax14.set_xlabel(\"#14: {0:.0f} [kHz]\".format(data.frequency[n_sweep][13]))\n",
    "ax15.set_xlabel(\"#15: {0:.0f} [kHz]\".format(data.frequency[n_sweep][14]))\n",
    "ax16.set_xlabel(\"#16: {0:.0f} [kHz]\".format(data.frequency[n_sweep][15]))\n",
    "ax17.set_xlabel(\"frequency [kHz]\");  ax18.set_xlabel(\"frequency [kHz]\")\n",
    "\n",
    "fig.subplots_adjust(hspace=.3)\n",
    "fig.show\n",
    "if dump_mode == 1:\n",
    "    png_fname = work_dir+data_name+'_last.png'\n",
    "    fig.savefig(png_fname)"
   ]
  },
  {
   "cell_type": "markdown",
   "id": "12a59fe4",
   "metadata": {},
   "source": [
    "## Overall"
   ]
  },
  {
   "cell_type": "code",
   "execution_count": null,
   "id": "84b22ecf",
   "metadata": {},
   "outputs": [],
   "source": [
    "# print(data.E_i.shape, data.n_time, data.N_step[0])\n",
    "E_i_2d = data.E_i.transpose()\n",
    "E_q_2d = data.E_q.transpose()\n",
    "\n",
    "num_x = np.arange(data.n_time)\n",
    "num_y = data.frequency[0]\n",
    "# num_y = np.arange(data.N_step[0])\n",
    "\n",
    "fig2d = plt.figure(figsize=[16,11])\n",
    "ax1 = fig2d.add_subplot(2, 1, 1);   ax2 = fig2d.add_subplot(2, 1, 2); \n",
    "ax1.set_yscale('log');              ax2.set_yscale('log')\n",
    "ax1.set_title(\"[\" + data_name + \"]\")\n",
    "\n",
    "p1 = ax1.pcolormesh(num_x, num_y, E_i_2d, cmap='bwr');  pp1 = fig2d.colorbar(p1, ax=ax1, orientation=\"vertical\")\n",
    "p2 = ax2.pcolormesh(num_x, num_y, E_q_2d, cmap='bwr');  pp2 = fig2d.colorbar(p1, ax=ax2, orientation=\"vertical\")\n",
    "\n",
    "# Plot\n",
    "fig2d.show\n",
    "if dump_mode == 1:\n",
    "    png_fname = work_dir+data_name+'_overall_E.png'\n",
    "    fig2d.savefig(png_fname)"
   ]
  },
  {
   "cell_type": "code",
   "execution_count": null,
   "id": "a64775e7",
   "metadata": {},
   "outputs": [],
   "source": [
    "# print(data.auto_corr.shape, data.n_time, data.N_step[0], data.N_lag[0])\n",
    "auto_corr_2d = data.auto_corr.reshape(n_time, data.N_step[0]*data.N_lag[0])\n",
    "auto_corr_2d = auto_corr_2d.transpose()\n",
    "print(data.auto_corr.shape, data.n_time, data.N_step[0], data.N_lag[0], auto_corr_2d.shape)\n",
    "\n",
    "num_x = np.arange(data.n_time)\n",
    "num_y = np.arange(data.N_step[0] * data.N_lag[0])\n",
    "\n",
    "fig2d = plt.figure(figsize=[16,11])\n",
    "ax1 = fig2d.add_subplot(1, 1, 1); \n",
    "ax1.set_title(\"[\" + data_name + \"]\")\n",
    "p1 = ax1.pcolormesh(num_x, num_y, auto_corr_2d, cmap='bwr')\n",
    "pp1 = fig2d.colorbar(p1, ax=ax1, orientation=\"vertical\")\n",
    "\n",
    "# Plot\n",
    "fig2d.show\n",
    "if dump_mode == 1:\n",
    "    png_fname = work_dir+data_name+'_overall.png'\n",
    "    fig2d.savefig(png_fname)"
   ]
  }
 ],
 "metadata": {
  "kernelspec": {
   "display_name": "3.11",
   "language": "python",
   "name": "python3"
  },
  "language_info": {
   "codemirror_mode": {
    "name": "ipython",
    "version": 3
   },
   "file_extension": ".py",
   "mimetype": "text/x-python",
   "name": "python",
   "nbconvert_exporter": "python",
   "pygments_lexer": "ipython3",
   "version": "3.11.10"
  }
 },
 "nbformat": 4,
 "nbformat_minor": 5
}
